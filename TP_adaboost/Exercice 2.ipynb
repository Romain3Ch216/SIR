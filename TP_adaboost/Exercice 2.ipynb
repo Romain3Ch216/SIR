{
 "cells": [
  {
   "cell_type": "code",
   "execution_count": 1,
   "metadata": {},
   "outputs": [],
   "source": [
    "import numpy as np\n",
    "import matplotlib.pyplot as plt"
   ]
  },
  {
   "cell_type": "code",
   "execution_count": 2,
   "metadata": {},
   "outputs": [],
   "source": [
    "%qtconsole"
   ]
  },
  {
   "cell_type": "code",
   "execution_count": 3,
   "metadata": {},
   "outputs": [],
   "source": [
    "X = [[6, 7, 9, 9, 8, 10, 10, 8],[3, 3, 5, 6, 4, 4, 2, 2]]\n",
    "M = []\n",
    "for i in range(len(X[0])):\n",
    "    M.append([X[0][i],X[1][i]])\n",
    "\n",
    "Y = [1, 1, 1, 1, -1, -1, -1, -1]\n",
    "weights_0 = [1/len(Y)]*len(Y)"
   ]
  },
  {
   "cell_type": "code",
   "execution_count": 4,
   "metadata": {},
   "outputs": [
    {
     "data": {
      "image/png": "[encoded data removed]",
      "text/plain": [
       "<Figure size 432x288 with 1 Axes>"
      ]
     },
     "metadata": {},
     "output_type": "display_data"
    }
   ],
   "source": [
    "N = len(X[0])\n",
    "X_p = X[0][0:N//2]\n",
    "Y_p = X[1][0:N//2]\n",
    "X_n = X[0][N//2:N]\n",
    "Y_n = X[1][N//2:N]\n",
    "plt.plot(X_p,Y_p,'bo')\n",
    "plt.plot(X_n,Y_n,'go')\n",
    "plt.ylim(0,7)\n",
    "plt.xlim(3,11)\n",
    "plt.gca().invert_yaxis()\n",
    "plt.grid(True)\n",
    "plt.show()"
   ]
  },
  {
   "cell_type": "code",
   "execution_count": 5,
   "metadata": {},
   "outputs": [],
   "source": [
    "def weak_classif(x,theta,p):\n",
    "    if p == 1:\n",
    "        if x < theta:\n",
    "            return 1\n",
    "        else:\n",
    "            return -1\n",
    "    elif p == -1:\n",
    "        if x > theta:\n",
    "            return 1\n",
    "        else:\n",
    "            return -1\n",
    "    else:\n",
    "        raise Exception('p must be 1 or -1')"
   ]
  },
  {
   "cell_type": "code",
   "execution_count": 6,
   "metadata": {},
   "outputs": [],
   "source": [
    "def classifier_error(axe,theta,p,X,Y,weights):\n",
    "    #return a list 'errors' with True if the prediction is wrong\n",
    "    #return the error\n",
    "    prediction = [weak_classif(x,theta,p) for x in X[axe]]\n",
    "    errors = [x!=y for (x,y) in zip (prediction,Y)]\n",
    "    error = 0\n",
    "    for i in range(len(errors)):\n",
    "        error += weights[i]*errors[i]\n",
    "    return {'errors': errors, 'error': error}"
   ]
  },
  {
   "cell_type": "code",
   "execution_count": 7,
   "metadata": {},
   "outputs": [],
   "source": [
    "def bestClassifier(X,Y,weights):\n",
    "    classifier_errors = []\n",
    "    for p in [1,-1]:\n",
    "        for x in X[0]:\n",
    "            classifier_errors.append(classifier_error(0,x,p,X,Y,weights)['error'])\n",
    "        for x in X[1]:\n",
    "            classifier_errors.append(classifier_error(1,x,p,X,Y,weights)['error'])\n",
    "    min_error = min(classifier_errors)\n",
    "    if classifier_errors.index(min_error) < 2*len(Y):\n",
    "        best_p = 1\n",
    "    else:\n",
    "        best_p = -1\n",
    "    indice = classifier_errors.index(min_error)\n",
    "    if (indice < len(Y)) or (2*len(Y) <= indice < 3*len(Y)):\n",
    "        best_axe = 0\n",
    "    else:\n",
    "        best_axe = 1\n",
    "    best_theta = ((X[0]+X[1])*2)[classifier_errors.index(min_error)]\n",
    "    return {'theta': best_theta, 'p': best_p, 'axe': best_axe}"
   ]
  },
  {
   "cell_type": "code",
   "execution_count": 8,
   "metadata": {},
   "outputs": [],
   "source": [
    "def AdaBoost(X,Y,weights_0,N_it):\n",
    "    classifiers = {}\n",
    "    weights = weights_0\n",
    "    for i in range(N_it):\n",
    "        best_classifier = bestClassifier(X,Y,weights)\n",
    "        theta = best_classifier['theta']\n",
    "        p = best_classifier['p']\n",
    "        axe = best_classifier['axe']\n",
    "        classif_error = classifier_error(axe,theta,p,X,Y,weights)\n",
    "        error, errors = classif_error['error'],classif_error['errors']\n",
    "        alpha = 0.5*np.log((1-error)/error)\n",
    "        classifiers['classif{}'.format(i)]={'alpha': alpha, 'theta': theta ,'p': p, 'axe': axe}\n",
    "        for i in range(len(Y)):\n",
    "            if errors[i] == True:\n",
    "                weights[i] = weights[i]*np.exp(alpha)\n",
    "            else:\n",
    "                weights[i] = weights[i]*np.exp(-alpha)\n",
    "        Z = sum(weights)\n",
    "        weights = [e/Z for e in weights]\n",
    "    return classifiers"
   ]
  },
  {
   "cell_type": "code",
   "execution_count": 9,
   "metadata": {},
   "outputs": [
    {
     "data": {
      "image/png": "[encoded data removed]",
      "text/plain": [
       "<Figure size 432x288 with 1 Axes>"
      ]
     },
     "metadata": {},
     "output_type": "display_data"
    }
   ],
   "source": [
    "N = len(X[0])\n",
    "X_p = X[0][0:N//2]\n",
    "Y_p = X[1][0:N//2]\n",
    "X_n = X[0][N//2:N]\n",
    "Y_n = X[1][N//2:N]\n",
    "\n",
    "weights_0 = [1/len(Y)]*len(Y)\n",
    "\n",
    "fig, ax = plt.subplots()\n",
    "\n",
    "\n",
    "# ax.fill_between(x1,0,y1, facecolor = [1,0.1,0.1,0.8])\n",
    "\n",
    "def border(opacity,theta, axe, p,xlim,ylim):\n",
    "    if axe == 0:\n",
    "        if p == 1:\n",
    "            x = np.arange(xlim[0],theta+1,1)\n",
    "            x2 = np.arange(theta,xlim[1]+1,1)\n",
    "        else:\n",
    "            x = np.arange(theta,xlim[1]+1,1)\n",
    "            x2 = np.arange(xlim[0],theta+1,1)\n",
    "        y = [ylim[1]]*len(x)\n",
    "        ax.fill_between(x,y,facecolor=[0.1,0.1,1,opacity])\n",
    "        y2 = [ylim[1]]*len(x2)\n",
    "        ax.fill_between(x2,y2,facecolor=[1,0.1,0.1,opacity])\n",
    "    elif axe == 1:\n",
    "        x = np.arange(xlim[0],xlim[1]+1,1)\n",
    "        y = [theta]*len(x)\n",
    "        if p == 1:\n",
    "            ax.fill_between(x,y,facecolor=[0.1,0.1,1,opacity])\n",
    "            ax.fill_between(x,y,ylim[1],facecolor=[1,0.1,0.1,opacity])\n",
    "        else:\n",
    "            ax.fill_between(x,y,ylim[1],facecolor=[0.1,0.1,1,opacity])\n",
    "            ax.fill_between(x,y,facecolor=[1,0.1,0.1,opacity])\n",
    "            \n",
    "xlim = [0,11]\n",
    "ylim = [0,7]\n",
    "\n",
    "classifiers = AdaBoost(X,Y,weights_0,4)\n",
    "for key in classifiers:\n",
    "    C = classifiers[key]\n",
    "    theta = C['theta']\n",
    "    p = C['p']\n",
    "    axe = C['axe']\n",
    "    border(0.5,theta,axe,p,xlim,ylim)\n",
    "    \n",
    "\n",
    "plt.plot(X_p,Y_p,'bo')\n",
    "plt.plot(X_n,Y_n,'ro')\n",
    "plt.ylim(ylim[0],ylim[1])\n",
    "plt.xlim(xlim[0],xlim[1])\n",
    "plt.gca().invert_yaxis()\n",
    "plt.grid(True)\n",
    "plt.show()"
   ]
  },
  {
   "cell_type": "code",
   "execution_count": 15,
   "metadata": {},
   "outputs": [],
   "source": [
    "def classif(x):\n",
    "    res = 0\n",
    "    for key in classifiers:\n",
    "        alpha = classifiers[key]['alpha']\n",
    "        theta = classifiers[key]['theta']\n",
    "        p = classifiers[key]['p']\n",
    "        axe = classifiers[key]['axe']\n",
    "        res += alpha*weak_classif(x[axe],theta,p)\n",
    "    return res"
   ]
  }
 ],
 "metadata": {
  "kernelspec": {
   "display_name": "Python 3",
   "language": "python",
   "name": "python3"
  },
  "language_info": {
   "codemirror_mode": {
    "name": "ipython",
    "version": 3
   },
   "file_extension": ".py",
   "mimetype": "text/x-python",
   "name": "python",
   "nbconvert_exporter": "python",
   "pygments_lexer": "ipython3",
   "version": "3.6.5"
  }
 },
 "nbformat": 4,
 "nbformat_minor": 2
}
