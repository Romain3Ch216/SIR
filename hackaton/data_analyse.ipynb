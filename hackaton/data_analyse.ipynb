{
 "cells": [
  {
   "cell_type": "code",
   "execution_count": 7,
   "metadata": {},
   "outputs": [],
   "source": [
    "%qtconsole"
   ]
  },
  {
   "cell_type": "code",
   "execution_count": 2,
   "metadata": {},
   "outputs": [],
   "source": [
    "import pandas as pd\n",
    "import matplotlib.pyplot as plt\n",
    "import seaborn as sns\n",
    "import numpy as np"
   ]
  },
  {
   "cell_type": "code",
   "execution_count": 3,
   "metadata": {},
   "outputs": [],
   "source": [
    "df_products = pd.read_csv('data/rest_1_products.csv')\n",
    "df_orders = pd.read_csv('data/rest_1_orders.csv')"
   ]
  },
  {
   "cell_type": "code",
   "execution_count": 4,
   "metadata": {},
   "outputs": [],
   "source": [
    "def heure(date):\n",
    "    return int(date.split(' ')[1][0:2])\n",
    "df_orders['Hour'] = df_orders['Order Date'].apply(heure)"
   ]
  },
  {
   "cell_type": "code",
   "execution_count": 18,
   "metadata": {},
   "outputs": [
    {
     "data": {
      "text/html": [
       "<div>\n",
       "<style scoped>\n",
       "    .dataframe tbody tr th:only-of-type {\n",
       "        vertical-align: middle;\n",
       "    }\n",
       "\n",
       "    .dataframe tbody tr th {\n",
       "        vertical-align: top;\n",
       "    }\n",
       "\n",
       "    .dataframe thead th {\n",
       "        text-align: right;\n",
       "    }\n",
       "</style>\n",
       "<table border=\"1\" class=\"dataframe\">\n",
       "  <thead>\n",
       "    <tr style=\"text-align: right;\">\n",
       "      <th></th>\n",
       "      <th>Order Number</th>\n",
       "      <th>Order Date</th>\n",
       "      <th>Item Name</th>\n",
       "      <th>Quantity</th>\n",
       "      <th>Product Price</th>\n",
       "      <th>Total products</th>\n",
       "      <th>Hour</th>\n",
       "    </tr>\n",
       "  </thead>\n",
       "  <tbody>\n",
       "    <tr>\n",
       "      <th>0</th>\n",
       "      <td>16118</td>\n",
       "      <td>03/08/2019 20:25</td>\n",
       "      <td>Plain Papadum</td>\n",
       "      <td>2</td>\n",
       "      <td>0.80</td>\n",
       "      <td>6</td>\n",
       "      <td>20</td>\n",
       "    </tr>\n",
       "    <tr>\n",
       "      <th>1</th>\n",
       "      <td>16118</td>\n",
       "      <td>03/08/2019 20:25</td>\n",
       "      <td>King Prawn Balti</td>\n",
       "      <td>1</td>\n",
       "      <td>12.95</td>\n",
       "      <td>6</td>\n",
       "      <td>20</td>\n",
       "    </tr>\n",
       "    <tr>\n",
       "      <th>2</th>\n",
       "      <td>16118</td>\n",
       "      <td>03/08/2019 20:25</td>\n",
       "      <td>Garlic Naan</td>\n",
       "      <td>1</td>\n",
       "      <td>2.95</td>\n",
       "      <td>6</td>\n",
       "      <td>20</td>\n",
       "    </tr>\n",
       "    <tr>\n",
       "      <th>3</th>\n",
       "      <td>16118</td>\n",
       "      <td>03/08/2019 20:25</td>\n",
       "      <td>Mushroom Rice</td>\n",
       "      <td>1</td>\n",
       "      <td>3.95</td>\n",
       "      <td>6</td>\n",
       "      <td>20</td>\n",
       "    </tr>\n",
       "    <tr>\n",
       "      <th>4</th>\n",
       "      <td>16118</td>\n",
       "      <td>03/08/2019 20:25</td>\n",
       "      <td>Paneer Tikka Masala</td>\n",
       "      <td>1</td>\n",
       "      <td>8.95</td>\n",
       "      <td>6</td>\n",
       "      <td>20</td>\n",
       "    </tr>\n",
       "  </tbody>\n",
       "</table>\n",
       "</div>"
      ],
      "text/plain": [
       "   Order Number        Order Date            Item Name  Quantity  \\\n",
       "0         16118  03/08/2019 20:25        Plain Papadum         2   \n",
       "1         16118  03/08/2019 20:25     King Prawn Balti         1   \n",
       "2         16118  03/08/2019 20:25          Garlic Naan         1   \n",
       "3         16118  03/08/2019 20:25        Mushroom Rice         1   \n",
       "4         16118  03/08/2019 20:25  Paneer Tikka Masala         1   \n",
       "\n",
       "   Product Price  Total products  Hour  \n",
       "0           0.80               6    20  \n",
       "1          12.95               6    20  \n",
       "2           2.95               6    20  \n",
       "3           3.95               6    20  \n",
       "4           8.95               6    20  "
      ]
     },
     "execution_count": 18,
     "metadata": {},
     "output_type": "execute_result"
    }
   ],
   "source": [
    "df_orders.head()\n",
    "#df_orders.describe()\n",
    "# row_index_to_select = [i for i in range(10)]\n",
    "# df_orders.loc[row_index_to_select]"
   ]
  },
  {
   "cell_type": "markdown",
   "metadata": {},
   "source": [
    "Les 10 plats les plus commandés"
   ]
  },
  {
   "cell_type": "code",
   "execution_count": 116,
   "metadata": {},
   "outputs": [
    {
     "data": {
      "text/html": [
       "<div>\n",
       "<style scoped>\n",
       "    .dataframe tbody tr th:only-of-type {\n",
       "        vertical-align: middle;\n",
       "    }\n",
       "\n",
       "    .dataframe tbody tr th {\n",
       "        vertical-align: top;\n",
       "    }\n",
       "\n",
       "    .dataframe thead th {\n",
       "        text-align: right;\n",
       "    }\n",
       "</style>\n",
       "<table border=\"1\" class=\"dataframe\">\n",
       "  <thead>\n",
       "    <tr style=\"text-align: right;\">\n",
       "      <th></th>\n",
       "      <th>Item Name</th>\n",
       "      <th>Count</th>\n",
       "    </tr>\n",
       "  </thead>\n",
       "  <tbody>\n",
       "    <tr>\n",
       "      <th>186</th>\n",
       "      <td>Pilau Rice</td>\n",
       "      <td>4721</td>\n",
       "    </tr>\n",
       "    <tr>\n",
       "      <th>187</th>\n",
       "      <td>Plain Naan</td>\n",
       "      <td>3753</td>\n",
       "    </tr>\n",
       "    <tr>\n",
       "      <th>188</th>\n",
       "      <td>Plain Papadum</td>\n",
       "      <td>3598</td>\n",
       "    </tr>\n",
       "    <tr>\n",
       "      <th>81</th>\n",
       "      <td>Garlic Naan</td>\n",
       "      <td>2628</td>\n",
       "    </tr>\n",
       "    <tr>\n",
       "      <th>165</th>\n",
       "      <td>Onion Bhajee</td>\n",
       "      <td>2402</td>\n",
       "    </tr>\n",
       "    <tr>\n",
       "      <th>189</th>\n",
       "      <td>Plain Rice</td>\n",
       "      <td>2369</td>\n",
       "    </tr>\n",
       "    <tr>\n",
       "      <th>52</th>\n",
       "      <td>Chicken Tikka Masala</td>\n",
       "      <td>2133</td>\n",
       "    </tr>\n",
       "    <tr>\n",
       "      <th>144</th>\n",
       "      <td>Mango Chutney</td>\n",
       "      <td>2070</td>\n",
       "    </tr>\n",
       "    <tr>\n",
       "      <th>16</th>\n",
       "      <td>Bombay Aloo</td>\n",
       "      <td>1752</td>\n",
       "    </tr>\n",
       "    <tr>\n",
       "      <th>185</th>\n",
       "      <td>Peshwari Naan</td>\n",
       "      <td>1535</td>\n",
       "    </tr>\n",
       "  </tbody>\n",
       "</table>\n",
       "</div>"
      ],
      "text/plain": [
       "                Item Name Count\n",
       "186            Pilau Rice  4721\n",
       "187            Plain Naan  3753\n",
       "188         Plain Papadum  3598\n",
       "81            Garlic Naan  2628\n",
       "165          Onion Bhajee  2402\n",
       "189            Plain Rice  2369\n",
       "52   Chicken Tikka Masala  2133\n",
       "144         Mango Chutney  2070\n",
       "16            Bombay Aloo  1752\n",
       "185         Peshwari Naan  1535"
      ]
     },
     "execution_count": 116,
     "metadata": {},
     "output_type": "execute_result"
    }
   ],
   "source": [
    "df = pd.DataFrame(columns=['Item Name', 'Count'])\n",
    "item_names = df_orders.groupby('Item Name').groups\n",
    "item_names = [e for e in item_names.keys()]\n",
    "for item in item_names:\n",
    "    df = df.append({'Item Name': item,'Count': len(df_orders[df_orders['Item Name'] == item])},ignore_index=True)\n",
    "df = df.sort_values('Count',ascending=False)\n",
    "df = df.head(10)\n",
    "df.head(10)\n",
    "# df['Item Name'] = df_orders.set_index('Item Name')\n",
    "# df.head()\n",
    "# favourite_dishes.agg('count')"
   ]
  },
  {
   "cell_type": "code",
   "execution_count": 119,
   "metadata": {},
   "outputs": [
    {
     "ename": "ValueError",
     "evalue": "Could not interpret input 'variable'",
     "output_type": "error",
     "traceback": [
      "\u001b[0;31m---------------------------------------------------------------------------\u001b[0m",
      "\u001b[0;31mValueError\u001b[0m                                Traceback (most recent call last)",
      "\u001b[0;32m<ipython-input-119-fba3d65d0325>\u001b[0m in \u001b[0;36m<module>\u001b[0;34m()\u001b[0m\n\u001b[0;32m----> 1\u001b[0;31m \u001b[0max\u001b[0m \u001b[0;34m=\u001b[0m \u001b[0msns\u001b[0m\u001b[0;34m.\u001b[0m\u001b[0mboxplot\u001b[0m\u001b[0;34m(\u001b[0m\u001b[0mx\u001b[0m\u001b[0;34m=\u001b[0m\u001b[0;34m\"variable\"\u001b[0m\u001b[0;34m,\u001b[0m \u001b[0my\u001b[0m\u001b[0;34m=\u001b[0m\u001b[0;34m\"value\"\u001b[0m\u001b[0;34m,\u001b[0m \u001b[0mdata\u001b[0m\u001b[0;34m=\u001b[0m\u001b[0mdf\u001b[0m\u001b[0;34m)\u001b[0m\u001b[0;34m\u001b[0m\u001b[0m\n\u001b[0m\u001b[1;32m      2\u001b[0m \u001b[0msns\u001b[0m\u001b[0;34m.\u001b[0m\u001b[0mset_palette\u001b[0m\u001b[0;34m(\u001b[0m\u001b[0;34m\"muted\"\u001b[0m\u001b[0;34m)\u001b[0m\u001b[0;34m\u001b[0m\u001b[0m\n\u001b[1;32m      3\u001b[0m \u001b[0mplt\u001b[0m\u001b[0;34m.\u001b[0m\u001b[0msetp\u001b[0m\u001b[0;34m(\u001b[0m\u001b[0max\u001b[0m\u001b[0;34m.\u001b[0m\u001b[0mget_xticklabels\u001b[0m\u001b[0;34m(\u001b[0m\u001b[0;34m)\u001b[0m\u001b[0;34m,\u001b[0m \u001b[0mrotation\u001b[0m\u001b[0;34m=\u001b[0m\u001b[0;36m70\u001b[0m\u001b[0;34m)\u001b[0m\u001b[0;34m\u001b[0m\u001b[0m\n",
      "\u001b[0;32m~/anaconda3/lib/python3.6/site-packages/seaborn/categorical.py\u001b[0m in \u001b[0;36mboxplot\u001b[0;34m(x, y, hue, data, order, hue_order, orient, color, palette, saturation, width, dodge, fliersize, linewidth, whis, notch, ax, **kwargs)\u001b[0m\n\u001b[1;32m   2209\u001b[0m     plotter = _BoxPlotter(x, y, hue, data, order, hue_order,\n\u001b[1;32m   2210\u001b[0m                           \u001b[0morient\u001b[0m\u001b[0;34m,\u001b[0m \u001b[0mcolor\u001b[0m\u001b[0;34m,\u001b[0m \u001b[0mpalette\u001b[0m\u001b[0;34m,\u001b[0m \u001b[0msaturation\u001b[0m\u001b[0;34m,\u001b[0m\u001b[0;34m\u001b[0m\u001b[0m\n\u001b[0;32m-> 2211\u001b[0;31m                           width, dodge, fliersize, linewidth)\n\u001b[0m\u001b[1;32m   2212\u001b[0m \u001b[0;34m\u001b[0m\u001b[0m\n\u001b[1;32m   2213\u001b[0m     \u001b[0;32mif\u001b[0m \u001b[0max\u001b[0m \u001b[0;32mis\u001b[0m \u001b[0;32mNone\u001b[0m\u001b[0;34m:\u001b[0m\u001b[0;34m\u001b[0m\u001b[0m\n",
      "\u001b[0;32m~/anaconda3/lib/python3.6/site-packages/seaborn/categorical.py\u001b[0m in \u001b[0;36m__init__\u001b[0;34m(self, x, y, hue, data, order, hue_order, orient, color, palette, saturation, width, dodge, fliersize, linewidth)\u001b[0m\n\u001b[1;32m    439\u001b[0m                  width, dodge, fliersize, linewidth):\n\u001b[1;32m    440\u001b[0m \u001b[0;34m\u001b[0m\u001b[0m\n\u001b[0;32m--> 441\u001b[0;31m         \u001b[0mself\u001b[0m\u001b[0;34m.\u001b[0m\u001b[0mestablish_variables\u001b[0m\u001b[0;34m(\u001b[0m\u001b[0mx\u001b[0m\u001b[0;34m,\u001b[0m \u001b[0my\u001b[0m\u001b[0;34m,\u001b[0m \u001b[0mhue\u001b[0m\u001b[0;34m,\u001b[0m \u001b[0mdata\u001b[0m\u001b[0;34m,\u001b[0m \u001b[0morient\u001b[0m\u001b[0;34m,\u001b[0m \u001b[0morder\u001b[0m\u001b[0;34m,\u001b[0m \u001b[0mhue_order\u001b[0m\u001b[0;34m)\u001b[0m\u001b[0;34m\u001b[0m\u001b[0m\n\u001b[0m\u001b[1;32m    442\u001b[0m         \u001b[0mself\u001b[0m\u001b[0;34m.\u001b[0m\u001b[0mestablish_colors\u001b[0m\u001b[0;34m(\u001b[0m\u001b[0mcolor\u001b[0m\u001b[0;34m,\u001b[0m \u001b[0mpalette\u001b[0m\u001b[0;34m,\u001b[0m \u001b[0msaturation\u001b[0m\u001b[0;34m)\u001b[0m\u001b[0;34m\u001b[0m\u001b[0m\n\u001b[1;32m    443\u001b[0m \u001b[0;34m\u001b[0m\u001b[0m\n",
      "\u001b[0;32m~/anaconda3/lib/python3.6/site-packages/seaborn/categorical.py\u001b[0m in \u001b[0;36mestablish_variables\u001b[0;34m(self, x, y, hue, data, orient, order, hue_order, units)\u001b[0m\n\u001b[1;32m    149\u001b[0m                 \u001b[0;32mif\u001b[0m \u001b[0misinstance\u001b[0m\u001b[0;34m(\u001b[0m\u001b[0minput\u001b[0m\u001b[0;34m,\u001b[0m \u001b[0mstring_types\u001b[0m\u001b[0;34m)\u001b[0m\u001b[0;34m:\u001b[0m\u001b[0;34m\u001b[0m\u001b[0m\n\u001b[1;32m    150\u001b[0m                     \u001b[0merr\u001b[0m \u001b[0;34m=\u001b[0m \u001b[0;34m\"Could not interpret input '{}'\"\u001b[0m\u001b[0;34m.\u001b[0m\u001b[0mformat\u001b[0m\u001b[0;34m(\u001b[0m\u001b[0minput\u001b[0m\u001b[0;34m)\u001b[0m\u001b[0;34m\u001b[0m\u001b[0m\n\u001b[0;32m--> 151\u001b[0;31m                     \u001b[0;32mraise\u001b[0m \u001b[0mValueError\u001b[0m\u001b[0;34m(\u001b[0m\u001b[0merr\u001b[0m\u001b[0;34m)\u001b[0m\u001b[0;34m\u001b[0m\u001b[0m\n\u001b[0m\u001b[1;32m    152\u001b[0m \u001b[0;34m\u001b[0m\u001b[0m\n\u001b[1;32m    153\u001b[0m             \u001b[0;31m# Figure out the plotting orientation\u001b[0m\u001b[0;34m\u001b[0m\u001b[0;34m\u001b[0m\u001b[0m\n",
      "\u001b[0;31mValueError\u001b[0m: Could not interpret input 'variable'"
     ]
    }
   ],
   "source": [
    "ax = sns.boxplot(x=\"variable\", y=\"value\", data=df)\n",
    "sns.set_palette(\"muted\")\n",
    "plt.setp(ax.get_xticklabels(), rotation=70)"
   ]
  },
  {
   "cell_type": "code",
   "execution_count": 86,
   "metadata": {},
   "outputs": [
    {
     "data": {
      "text/plain": [
       "3598"
      ]
     },
     "execution_count": 86,
     "metadata": {},
     "output_type": "execute_result"
    }
   ],
   "source": [
    "len(df_orders[df_orders['Item Name'] == 'Plain Papadum'])"
   ]
  },
  {
   "cell_type": "code",
   "execution_count": 6,
   "metadata": {},
   "outputs": [
    {
     "data": {
      "text/plain": [
       "Item Name\n",
       "Aloo Chaat                    17.449123\n",
       "Aloo Gobi                     18.160976\n",
       "Aloo Methi                    18.409091\n",
       "Baingan Hari Mirch            18.284264\n",
       "Bengal Fish Biryani           18.921053\n",
       "Bengal Fish Karahi            16.611111\n",
       "Bengal Fry Fish               17.043478\n",
       "Bengal King Prawn             17.445545\n",
       "Bengal Salad                  17.492754\n",
       "Bhindi Bhajee                 18.123404\n",
       "Bhuna                         18.364754\n",
       "Bhuna - Chicken               18.186869\n",
       "Bhuna - Chicken Tikka         18.273438\n",
       "Bhuna - King Prawn            17.263158\n",
       "Bhuna - Lamb                  18.188525\n",
       "Bhuna - Prawn                 18.208333\n",
       "Bombay Aloo                   18.057648\n",
       "Bottle Coke                   18.680000\n",
       "Bottle Diet Coke              17.982143\n",
       "Brinjal Bhajee                17.694030\n",
       "Butter Chicken                18.243878\n",
       "COBRA ( LARGE )               19.000000\n",
       "COBRA (330ML)                 17.811765\n",
       "COBRA (660ML)                 18.315789\n",
       "Cauliflower Bhajee            18.202830\n",
       "Chana Masala                  18.430079\n",
       "Chapati                       18.342735\n",
       "Chicken Achar                 18.486486\n",
       "Chicken Balti                 18.139037\n",
       "Chicken Biryani               18.064516\n",
       "                                ...    \n",
       "Sheek Kehab                   17.800000\n",
       "Special Fried Rice            18.015480\n",
       "Spicy Papadum                 18.360262\n",
       "Still Water (750ml)           17.761905\n",
       "Stuffed Paratha               17.750000\n",
       "Tandoori Chicken              16.000000\n",
       "Tandoori Chicken (1/4)        18.168269\n",
       "Tandoori Chicken (Main)       18.040346\n",
       "Tandoori Chicken Masala       18.173913\n",
       "Tandoori Fish                 18.116279\n",
       "Tandoori Fish (Main)          18.338710\n",
       "Tandoori King Prawn Garlic    18.206612\n",
       "Tandoori King Prawn Masala    17.978947\n",
       "Tandoori Mixed Grill          18.196697\n",
       "Tandoori Roti                 18.393407\n",
       "Tarka Dall                    18.108779\n",
       "Vegetable Balti               17.175676\n",
       "Vegetable Biryani             18.006250\n",
       "Vegetable Karahi              18.434783\n",
       "Vegetable Mysore              17.925000\n",
       "Vegetable Rice                17.932817\n",
       "Vegetable Roll                17.297203\n",
       "Vegetable Samosa              13.272727\n",
       "Vindaloo                      18.216535\n",
       "Vindaloo - Chicken            18.474453\n",
       "Vindaloo - Chicken Tikka      18.294118\n",
       "Vindaloo - King Prawn         18.347826\n",
       "Vindaloo - Lamb               17.777778\n",
       "Vindaloo - Prawn              17.900000\n",
       "Vindaloo Sauce                17.674157\n",
       "Name: Hour, Length: 248, dtype: float64"
      ]
     },
     "execution_count": 6,
     "metadata": {},
     "output_type": "execute_result"
    }
   ],
   "source": [
    "group_by_dish = df_orders.groupby(by=['Item Name'])\n",
    "df_orders.groupby([\"Item Name\"])[\"Hour\"].mean()"
   ]
  },
  {
   "cell_type": "code",
   "execution_count": 7,
   "metadata": {},
   "outputs": [
    {
     "data": {
      "text/plain": [
       "2        03/08/2019 20:25\n",
       "45       03/08/2019 19:28\n",
       "53       03/08/2019 19:26\n",
       "125      03/08/2019 17:52\n",
       "152      02/08/2019 19:33\n",
       "174      02/08/2019 18:41\n",
       "211      02/08/2019 14:11\n",
       "245      01/08/2019 19:16\n",
       "311      31/07/2019 19:35\n",
       "324      31/07/2019 19:17\n",
       "350      31/07/2019 13:55\n",
       "356      30/07/2019 20:10\n",
       "15529    28/07/2019 21:44\n",
       "15532    28/07/2019 20:00\n",
       "15533    28/07/2019 20:00\n",
       "15543    28/07/2019 17:41\n",
       "15547    28/07/2019 13:01\n",
       "15552    27/07/2019 19:49\n",
       "15559    27/07/2019 19:23\n",
       "15564    27/07/2019 19:12\n",
       "15575    27/07/2019 18:11\n",
       "15580    27/07/2019 17:22\n",
       "15583    27/07/2019 16:55\n",
       "15585    26/07/2019 23:04\n",
       "15595    26/07/2019 19:51\n",
       "15607    26/07/2019 18:53\n",
       "15620    25/07/2019 17:34\n",
       "15623    24/07/2019 23:08\n",
       "15627    24/07/2019 21:46\n",
       "15629    24/07/2019 20:00\n",
       "               ...       \n",
       "29601    09/04/2016 16:35\n",
       "29604    08/04/2016 19:24\n",
       "29612    07/04/2016 18:56\n",
       "29614    07/04/2016 18:38\n",
       "29620    05/04/2016 21:22\n",
       "29624    03/04/2016 18:23\n",
       "29634    02/04/2016 19:31\n",
       "29636    02/04/2016 19:04\n",
       "29654    01/04/2016 18:52\n",
       "29656    01/04/2016 11:54\n",
       "29662    30/03/2016 16:03\n",
       "29671    29/03/2016 18:10\n",
       "29679    27/03/2016 18:46\n",
       "29682    27/03/2016 18:43\n",
       "29683    27/03/2016 18:42\n",
       "29686    26/03/2016 18:58\n",
       "29692    25/03/2016 17:38\n",
       "29696    25/03/2016 16:56\n",
       "29698    23/03/2016 17:16\n",
       "29702    23/03/2016 13:58\n",
       "29708    20/03/2016 21:36\n",
       "29713    20/03/2016 16:55\n",
       "29714    19/03/2016 21:06\n",
       "29715    19/03/2016 20:51\n",
       "29722    19/03/2016 19:53\n",
       "29726    19/03/2016 19:15\n",
       "29734    18/03/2016 19:58\n",
       "29741    18/03/2016 19:24\n",
       "29743    18/03/2016 18:56\n",
       "29755    17/03/2016 19:56\n",
       "Name: Order Date, Length: 2628, dtype: object"
      ]
     },
     "execution_count": 7,
     "metadata": {},
     "output_type": "execute_result"
    }
   ],
   "source": [
    "df_orders[df_orders['Item Name'] == 'Garlic Naan']['Order Date']"
   ]
  },
  {
   "cell_type": "code",
   "execution_count": 8,
   "metadata": {},
   "outputs": [],
   "source": [
    "dishes = {}\n",
    "dishes_array = df_orders['Item Name'].unique()\n",
    "for e in dishes_array:\n",
    "    dish = df_orders[df_orders[\"Item Name\"] == e][\"Hour\"]\n",
    "    dishes[e] = {'avg' : dish.mean(),\n",
    "                 'var' : dish.var(),\n",
    "                 'count' : dish.count()}"
   ]
  },
  {
   "cell_type": "code",
   "execution_count": 9,
   "metadata": {},
   "outputs": [],
   "source": [
    "popular_dishes_array = df_orders['Item Name'].value_counts().head(5).keys()\n",
    "popular_dishes = {}\n",
    "for e in popular_dishes_array:\n",
    "    dish = df_orders[df_orders[\"Item Name\"] == e][\"Hour\"]\n",
    "    popular_dishes[e] = {'avg' : dish.mean(),\n",
    "                         'var' : dish.var(),\n",
    "                         'count' : dish.count()}"
   ]
  },
  {
   "cell_type": "code",
   "execution_count": 10,
   "metadata": {},
   "outputs": [
    {
     "data": {
      "image/png": "[encoded data removed]",
      "text/plain": [
       "<Figure size 432x288 with 1 Axes>"
      ]
     },
     "metadata": {},
     "output_type": "display_data"
    }
   ],
   "source": [
    "import matplotlib.pyplot as plt\n",
    "import scipy.stats\n",
    "import numpy as np\n",
    "\n",
    "x_min = 11.0\n",
    "x_max = 24\n",
    "x = np.linspace(x_min, x_max, 100)\n",
    "\n",
    "D = {}\n",
    "for keys in popular_dishes:\n",
    "    avg = popular_dishes[keys]['avg']\n",
    "    var = popular_dishes[keys]['var']\n",
    "    D['gaussian {}'.format(keys)] = scipy.stats.norm.pdf(x,avg,var)\n",
    "\n",
    "plt.xlim(x_min,x_max)\n",
    "plt.ylim(0,0.3)\n",
    "\n",
    "plt.xlabel('x')\n",
    "plt.ylabel('Normal Distribution')\n",
    "\n",
    "plt.savefig(\"normal_distribution.png\")\n",
    "\n",
    "for keys in D:\n",
    "    plt.plot(x,D[keys], label = keys)\n",
    "    plt.legend()\n",
    "#plt.show()"
   ]
  },
  {
   "cell_type": "code",
   "execution_count": 11,
   "metadata": {},
   "outputs": [
    {
     "data": {
      "text/plain": [
       "{'Pilau Rice': {'avg': 18.20482948527854,\n",
       "  'var': 3.140451247401639,\n",
       "  'count': 4721},\n",
       " 'Plain Naan': {'avg': 18.19690913935518,\n",
       "  'var': 3.47907359968458,\n",
       "  'count': 3753},\n",
       " 'Plain Papadum': {'avg': 18.220678154530294,\n",
       "  'var': 2.6457552252718926,\n",
       "  'count': 3598},\n",
       " 'Garlic Naan': {'avg': 18.358447488584474,\n",
       "  'var': 3.5760725031417047,\n",
       "  'count': 2628},\n",
       " 'Onion Bhajee': {'avg': 17.981681931723564,\n",
       "  'var': 4.424487299040335,\n",
       "  'count': 2402}}"
      ]
     },
     "execution_count": 11,
     "metadata": {},
     "output_type": "execute_result"
    }
   ],
   "source": [
    "popular_dishes"
   ]
  },
  {
   "cell_type": "code",
   "execution_count": 19,
   "metadata": {},
   "outputs": [
    {
     "data": {
      "image/png": "[encoded data removed]",
      "text/plain": [
       "<Figure size 432x288 with 1 Axes>"
      ]
     },
     "metadata": {},
     "output_type": "display_data"
    }
   ],
   "source": [
    "dish = df_orders[df_orders[\"Item Name\"] == 'Pilau Rice'][[\"Quantity\",\"Hour\"]].groupby(\"Hour\").agg(['count'])\n",
    "dish_gr = dish.groupby('Hour')\n",
    "\n",
    "hours = [e for e in dish_gr.groups.keys()]\n",
    "counts = [e for e in dish['Quantity','count']]\n",
    "\n",
    "total = sum(counts)\n",
    "distribution = {}\n",
    "\n",
    "for i in range(len(hours)):\n",
    "    distribution['{}'.format(hours[i])]=counts[i]/total\n",
    "for i in range(24):\n",
    "    if i in hours:\n",
    "        pass\n",
    "    else:\n",
    "        distribution['{}'.format(i)] = 0\n",
    "\n",
    "import collections\n",
    "\n",
    "dist = collections.OrderedDict(sorted(distribution.items()))\n",
    "\n",
    "items = []\n",
    "for key, value in dist.items():\n",
    "    items.append([int(key),value])\n",
    "items = sorted(items, key=lambda l: l[0])\n",
    "\n",
    "x,y = [],[]\n",
    "for e in items:\n",
    "    x.append(e[0])\n",
    "    y.append(e[1])\n",
    "        \n",
    "plt.bar(range(len(y)), y)\n",
    "#plt.hist(y, bins = len(x))\n",
    "plt.show()"
   ]
  },
  {
   "cell_type": "code",
   "execution_count": 21,
   "metadata": {},
   "outputs": [
    {
     "data": {
      "text/plain": [
       "array([-0.41075698, -0.41075698, -0.41076071, -0.41075698, -0.41075698,\n",
       "       -0.41076071])"
      ]
     },
     "execution_count": 21,
     "metadata": {},
     "output_type": "execute_result"
    }
   ],
   "source": [
    "from sklearn.neighbors.kde import KernelDensity\n",
    "import numpy as np\n",
    "X = np.array([[-1, -1], [-2, -1], [-3, -2], [1, 1], [2, 1], [3, 2]])\n",
    "kde = KernelDensity(kernel='gaussian', bandwidth=0.2).fit(X)\n",
    "kde.score_samples(X)\n"
   ]
  }
 ],
 "metadata": {
  "kernelspec": {
   "display_name": "Python 3",
   "language": "python",
   "name": "python3"
  },
  "language_info": {
   "codemirror_mode": {
    "name": "ipython",
    "version": 3
   },
   "file_extension": ".py",
   "mimetype": "text/x-python",
   "name": "python",
   "nbconvert_exporter": "python",
   "pygments_lexer": "ipython3",
   "version": "3.6.5"
  }
 },
 "nbformat": 4,
 "nbformat_minor": 2
}
