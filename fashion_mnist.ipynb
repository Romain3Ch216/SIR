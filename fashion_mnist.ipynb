{
 "cells": [
  {
   "cell_type": "code",
   "execution_count": 9,
   "metadata": {},
   "outputs": [],
   "source": [
    "from tensorflow.keras.datasets import fashion_mnist\n",
    "import matplotlib.pyplot as plt\n",
    "import numpy as np"
   ]
  },
  {
   "cell_type": "code",
   "execution_count": 2,
   "metadata": {},
   "outputs": [
    {
     "name": "stdout",
     "output_type": "stream",
     "text": [
      "Downloading data from https://storage.googleapis.com/tensorflow/tf-keras-datasets/train-labels-idx1-ubyte.gz\n",
      "32768/29515 [=================================] - 0s 2us/step\n",
      "Downloading data from https://storage.googleapis.com/tensorflow/tf-keras-datasets/train-images-idx3-ubyte.gz\n",
      "26427392/26421880 [==============================] - 264s 10us/step\n",
      "Downloading data from https://storage.googleapis.com/tensorflow/tf-keras-datasets/t10k-labels-idx1-ubyte.gz\n",
      "8192/5148 [===============================================] - 0s 1us/step\n",
      "Downloading data from https://storage.googleapis.com/tensorflow/tf-keras-datasets/t10k-images-idx3-ubyte.gz\n",
      "4423680/4422102 [==============================] - 25s 6us/step\n"
     ]
    }
   ],
   "source": [
    "(x_train,y_train),(x_test,y_test) = fashion_mnist.load_data()"
   ]
  },
  {
   "cell_type": "code",
   "execution_count": 4,
   "metadata": {},
   "outputs": [
    {
     "data": {
      "image/png": "[encoded data removed]",
      "text/plain": [
       "<Figure size 432x288 with 1 Axes>"
      ]
     },
     "metadata": {
      "needs_background": "light"
     },
     "output_type": "display_data"
    }
   ],
   "source": [
    "plt.imshow(x_train[5],cmap='gray')\n",
    "plt.show()"
   ]
  },
  {
   "cell_type": "code",
   "execution_count": 5,
   "metadata": {},
   "outputs": [],
   "source": [
    "from tensorflow import keras\n",
    "from tensorflow.keras.layers import Conv2D, MaxPooling2D, Dense, Flatten, Activation"
   ]
  },
  {
   "cell_type": "code",
   "execution_count": 7,
   "metadata": {},
   "outputs": [],
   "source": [
    "%qtconsole"
   ]
  },
  {
   "cell_type": "code",
   "execution_count": 15,
   "metadata": {},
   "outputs": [],
   "source": [
    "x_train = np.reshape(x_train,(x_train.shape + (1,)))\n",
    "x_test = np.reshape(x_test,(x_test.shape + (1,)))"
   ]
  },
  {
   "cell_type": "code",
   "execution_count": 33,
   "metadata": {},
   "outputs": [],
   "source": [
    "def build_model(hp):\n",
    "\n",
    "    model = keras.models.Sequential()\n",
    "\n",
    "    model.add(Conv2D(hp.Int(\"input_units\", min_value=32, max_value=256, step=32), (3, 3), input_shape=x_train.shape[1:]))\n",
    "    model.add(Activation('relu'))\n",
    "    model.add(MaxPooling2D(pool_size=(2, 2)))\n",
    "    \n",
    "    for i in range(hp.Int('n_layers', 1, 4)):  # adding variation of layers.\n",
    "        model.add(Conv2D(hp.Int(f'conv_{i}_units',\n",
    "                                min_value=32,\n",
    "                                max_value=256,\n",
    "                                step=32), (3, 3)))\n",
    "        model.add(Activation('relu'))\n",
    "\n",
    "    model.add(MaxPooling2D(pool_size=(2, 2)))\n",
    "\n",
    "    model.add(Flatten())  # this converts our 3D feature maps to 1D feature vectors\n",
    "\n",
    "    model.add(Dense(10))\n",
    "    model.add(Activation(\"softmax\"))\n",
    "\n",
    "    model.compile(optimizer=\"adam\",\n",
    "                  loss=\"sparse_categorical_crossentropy\",\n",
    "                  metrics=[\"accuracy\"])\n",
    "    \n",
    "    return model"
   ]
  },
  {
   "cell_type": "code",
   "execution_count": 24,
   "metadata": {},
   "outputs": [
    {
     "name": "stdout",
     "output_type": "stream",
     "text": [
      "Train on 60000 samples, validate on 10000 samples\n",
      "60000/60000 [==============================] - 108s 2ms/sample - loss: 0.4419 - accuracy: 0.8432 - val_loss: 0.4266 - val_accuracy: 0.8415\n"
     ]
    },
    {
     "data": {
      "text/plain": [
       "<tensorflow.python.keras.callbacks.History at 0x7fba4c09bb50>"
      ]
     },
     "execution_count": 24,
     "metadata": {},
     "output_type": "execute_result"
    }
   ],
   "source": [
    "model.fit(x_train, y_train, batch_size=64, epochs=1, validation_data = (x_test, y_test))"
   ]
  },
  {
   "cell_type": "code",
   "execution_count": 26,
   "metadata": {},
   "outputs": [],
   "source": [
    "from kerastuner.tuners import RandomSearch\n",
    "from kerastuner.engine.hyperparameters import HyperParameters\n",
    "import time"
   ]
  },
  {
   "cell_type": "code",
   "execution_count": 35,
   "metadata": {},
   "outputs": [],
   "source": [
    "LOG_DIR = f\"{int(time.time())}\"\n",
    "\n",
    "tuner = RandomSearch(\n",
    "    build_model,\n",
    "    objective='val_accuracy',\n",
    "    max_trials=1,  # how many model variations to test?\n",
    "    executions_per_trial=1,  # how many trials per variation? (same model could perform differently)\n",
    "    directory=LOG_DIR)"
   ]
  },
  {
   "cell_type": "code",
   "execution_count": 36,
   "metadata": {},
   "outputs": [
    {
     "name": "stdout",
     "output_type": "stream",
     "text": [
      "Train on 60000 samples, validate on 10000 samples\n"
     ]
    },
    {
     "name": "stdout",
     "output_type": "stream",
     "text": [
      "11776/60000 [====>.........................] - ETA: 21:15 - loss: 11.0845 - accuracy: 0.15 - ETA: 13:47 - loss: 10.6916 - accuracy: 0.13 - ETA: 11:07 - loss: 9.5756 - accuracy: 0.1146 - ETA: 9:32 - loss: 8.4050 - accuracy: 0.109 - ETA: 8:49 - loss: 7.9091 - accuracy: 0.11 - ETA: 8:18 - loss: 7.2218 - accuracy: 0.13 - ETA: 8:03 - loss: 6.5894 - accuracy: 0.12 - ETA: 7:48 - loss: 6.1735 - accuracy: 0.12 - ETA: 7:30 - loss: 5.7316 - accuracy: 0.12 - ETA: 7:17 - loss: 5.3493 - accuracy: 0.13 - ETA: 7:08 - loss: 5.0742 - accuracy: 0.13 - ETA: 7:01 - loss: 4.8438 - accuracy: 0.14 - ETA: 6:53 - loss: 4.6306 - accuracy: 0.15 - ETA: 6:47 - loss: 4.4337 - accuracy: 0.16 - ETA: 6:43 - loss: 4.2456 - accuracy: 0.18 - ETA: 6:36 - loss: 4.0907 - accuracy: 0.20 - ETA: 6:35 - loss: 3.9706 - accuracy: 0.20 - ETA: 6:33 - loss: 3.8482 - accuracy: 0.21 - ETA: 6:29 - loss: 3.7286 - accuracy: 0.23 - ETA: 6:26 - loss: 3.6211 - accuracy: 0.24 - ETA: 6:22 - loss: 3.5182 - accuracy: 0.25 - ETA: 6:20 - loss: 3.4259 - accuracy: 0.26 - ETA: 6:18 - loss: 3.3383 - accuracy: 0.27 - ETA: 6:22 - loss: 3.2588 - accuracy: 0.28 - ETA: 6:18 - loss: 3.1754 - accuracy: 0.29 - ETA: 6:14 - loss: 3.1043 - accuracy: 0.30 - ETA: 6:11 - loss: 3.0322 - accuracy: 0.31 - ETA: 6:09 - loss: 2.9758 - accuracy: 0.31 - ETA: 6:06 - loss: 2.9105 - accuracy: 0.33 - ETA: 6:04 - loss: 2.8424 - accuracy: 0.34 - ETA: 6:02 - loss: 2.7769 - accuracy: 0.35 - ETA: 6:00 - loss: 2.7263 - accuracy: 0.36 - ETA: 5:58 - loss: 2.6707 - accuracy: 0.37 - ETA: 5:58 - loss: 2.6207 - accuracy: 0.37 - ETA: 5:57 - loss: 2.5670 - accuracy: 0.38 - ETA: 5:54 - loss: 2.5207 - accuracy: 0.39 - ETA: 5:54 - loss: 2.4767 - accuracy: 0.40 - ETA: 5:55 - loss: 2.4436 - accuracy: 0.40 - ETA: 5:54 - loss: 2.4109 - accuracy: 0.41 - ETA: 5:55 - loss: 2.3754 - accuracy: 0.41 - ETA: 5:56 - loss: 2.3422 - accuracy: 0.42 - ETA: 5:55 - loss: 2.3120 - accuracy: 0.43 - ETA: 5:55 - loss: 2.2796 - accuracy: 0.43 - ETA: 5:55 - loss: 2.2569 - accuracy: 0.43 - ETA: 5:57 - loss: 2.2263 - accuracy: 0.44 - ETA: 5:59 - loss: 2.2039 - accuracy: 0.44 - ETA: 5:58 - loss: 2.1830 - accuracy: 0.45 - ETA: 5:58 - loss: 2.1577 - accuracy: 0.45 - ETA: 5:57 - loss: 2.1323 - accuracy: 0.45 - ETA: 5:56 - loss: 2.1093 - accuracy: 0.46 - ETA: 5:56 - loss: 2.0818 - accuracy: 0.46 - ETA: 5:57 - loss: 2.0538 - accuracy: 0.47 - ETA: 5:56 - loss: 2.0390 - accuracy: 0.47 - ETA: 5:56 - loss: 2.0165 - accuracy: 0.47 - ETA: 5:58 - loss: 2.0008 - accuracy: 0.48 - ETA: 6:01 - loss: 1.9757 - accuracy: 0.48 - ETA: 6:04 - loss: 1.9579 - accuracy: 0.49 - ETA: 6:08 - loss: 1.9407 - accuracy: 0.49 - ETA: 6:13 - loss: 1.9223 - accuracy: 0.49 - ETA: 6:16 - loss: 1.9049 - accuracy: 0.50 - ETA: 6:17 - loss: 1.8904 - accuracy: 0.50 - ETA: 6:20 - loss: 1.8740 - accuracy: 0.50 - ETA: 6:21 - loss: 1.8553 - accuracy: 0.51 - ETA: 6:25 - loss: 1.8405 - accuracy: 0.51 - ETA: 6:27 - loss: 1.8259 - accuracy: 0.51 - ETA: 6:30 - loss: 1.8115 - accuracy: 0.52 - ETA: 6:33 - loss: 1.7994 - accuracy: 0.52 - ETA: 6:35 - loss: 1.7862 - accuracy: 0.52 - ETA: 6:37 - loss: 1.7718 - accuracy: 0.52 - ETA: 6:38 - loss: 1.7587 - accuracy: 0.52 - ETA: 6:42 - loss: 1.7471 - accuracy: 0.53 - ETA: 6:44 - loss: 1.7322 - accuracy: 0.53 - ETA: 6:45 - loss: 1.7196 - accuracy: 0.53 - ETA: 6:48 - loss: 1.7060 - accuracy: 0.53 - ETA: 6:53 - loss: 1.6950 - accuracy: 0.54 - ETA: 6:55 - loss: 1.6844 - accuracy: 0.54 - ETA: 6:58 - loss: 1.6731 - accuracy: 0.54 - ETA: 7:01 - loss: 1.6614 - accuracy: 0.54 - ETA: 7:03 - loss: 1.6532 - accuracy: 0.54 - ETA: 7:06 - loss: 1.6439 - accuracy: 0.55 - ETA: 7:09 - loss: 1.6328 - accuracy: 0.55 - ETA: 7:09 - loss: 1.6236 - accuracy: 0.55 - ETA: 7:11 - loss: 1.6144 - accuracy: 0.55 - ETA: 7:13 - loss: 1.6052 - accuracy: 0.55 - ETA: 7:15 - loss: 1.5954 - accuracy: 0.56 - ETA: 7:17 - loss: 1.5878 - accuracy: 0.56 - ETA: 7:18 - loss: 1.5768 - accuracy: 0.56 - ETA: 7:19 - loss: 1.5713 - accuracy: 0.56 - ETA: 7:19 - loss: 1.5644 - accuracy: 0.56 - ETA: 7:20 - loss: 1.5568 - accuracy: 0.56 - ETA: 7:23 - loss: 1.5456 - accuracy: 0.57 - ETA: 7:25 - loss: 1.5404 - accuracy: 0.57 - ETA: 7:27 - loss: 1.5305 - accuracy: 0.57 - ETA: 7:29 - loss: 1.5206 - accuracy: 0.57 - ETA: 7:31 - loss: 1.5125 - accuracy: 0.57 - ETA: 7:33 - loss: 1.5054 - accuracy: 0.57 - ETA: 7:34 - loss: 1.4971 - accuracy: 0.58 - ETA: 7:35 - loss: 1.4887 - accuracy: 0.58 - ETA: 7:37 - loss: 1.4817 - accuracy: 0.58 - ETA: 7:40 - loss: 1.4723 - accuracy: 0.58 - ETA: 7:41 - loss: 1.4652 - accuracy: 0.58 - ETA: 7:41 - loss: 1.4584 - accuracy: 0.58 - ETA: 7:41 - loss: 1.4514 - accuracy: 0.59 - ETA: 7:42 - loss: 1.4433 - accuracy: 0.59 - ETA: 7:43 - loss: 1.4370 - accuracy: 0.59 - ETA: 7:44 - loss: 1.4319 - accuracy: 0.59 - ETA: 7:44 - loss: 1.4256 - accuracy: 0.59 - ETA: 7:46 - loss: 1.4187 - accuracy: 0.59 - ETA: 7:46 - loss: 1.4169 - accuracy: 0.59 - ETA: 7:47 - loss: 1.4106 - accuracy: 0.59 - ETA: 7:47 - loss: 1.4035 - accuracy: 0.60 - ETA: 7:48 - loss: 1.3965 - accuracy: 0.60 - ETA: 7:48 - loss: 1.3916 - accuracy: 0.60 - ETA: 7:50 - loss: 1.3863 - accuracy: 0.60 - ETA: 7:50 - loss: 1.3810 - accuracy: 0.60 - ETA: 7:49 - loss: 1.3763 - accuracy: 0.60 - ETA: 7:51 - loss: 1.3718 - accuracy: 0.60 - ETA: 7:51 - loss: 1.3676 - accuracy: 0.60 - ETA: 7:51 - loss: 1.3616 - accuracy: 0.60 - ETA: 7:52 - loss: 1.3573 - accuracy: 0.60 - ETA: 7:52 - loss: 1.3506 - accuracy: 0.61 - ETA: 7:53 - loss: 1.3490 - accuracy: 0.61 - ETA: 7:54 - loss: 1.3423 - accuracy: 0.61 - ETA: 7:54 - loss: 1.3365 - accuracy: 0.61 - ETA: 7:55 - loss: 1.3313 - accuracy: 0.61 - ETA: 7:56 - loss: 1.3284 - accuracy: 0.61 - ETA: 7:56 - loss: 1.3215 - accuracy: 0.61 - ETA: 7:57 - loss: 1.3150 - accuracy: 0.61 - ETA: 7:58 - loss: 1.3094 - accuracy: 0.62 - ETA: 7:58 - loss: 1.3045 - accuracy: 0.62 - ETA: 7:59 - loss: 1.3022 - accuracy: 0.62 - ETA: 8:00 - loss: 1.2992 - accuracy: 0.62 - ETA: 8:00 - loss: 1.2962 - accuracy: 0.62 - ETA: 8:01 - loss: 1.2912 - accuracy: 0.62 - ETA: 8:01 - loss: 1.2862 - accuracy: 0.62 - ETA: 8:01 - loss: 1.2814 - accuracy: 0.62 - ETA: 8:02 - loss: 1.2769 - accuracy: 0.62 - ETA: 8:01 - loss: 1.2708 - accuracy: 0.62 - ETA: 8:02 - loss: 1.2677 - accuracy: 0.62 - ETA: 8:02 - loss: 1.2622 - accuracy: 0.62 - ETA: 8:02 - loss: 1.2576 - accuracy: 0.63 - ETA: 8:02 - loss: 1.2530 - accuracy: 0.63 - ETA: 8:03 - loss: 1.2524 - accuracy: 0.63 - ETA: 8:03 - loss: 1.2478 - accuracy: 0.63 - ETA: 8:04 - loss: 1.2432 - accuracy: 0.63 - ETA: 8:04 - loss: 1.2417 - accuracy: 0.63 - ETA: 8:04 - loss: 1.2390 - accuracy: 0.63 - ETA: 8:04 - loss: 1.2360 - accuracy: 0.63 - ETA: 8:04 - loss: 1.2325 - accuracy: 0.63 - ETA: 8:04 - loss: 1.2306 - accuracy: 0.63 - ETA: 8:05 - loss: 1.2264 - accuracy: 0.63 - ETA: 8:04 - loss: 1.2224 - accuracy: 0.63 - ETA: 8:04 - loss: 1.2183 - accuracy: 0.63 - ETA: 8:04 - loss: 1.2137 - accuracy: 0.63 - ETA: 8:04 - loss: 1.2102 - accuracy: 0.63 - ETA: 8:04 - loss: 1.2065 - accuracy: 0.63 - ETA: 8:03 - loss: 1.2023 - accuracy: 0.64 - ETA: 8:03 - loss: 1.1992 - accuracy: 0.64 - ETA: 8:03 - loss: 1.1961 - accuracy: 0.64 - ETA: 8:02 - loss: 1.1939 - accuracy: 0.64 - ETA: 8:02 - loss: 1.1900 - accuracy: 0.64 - ETA: 8:02 - loss: 1.1865 - accuracy: 0.64 - ETA: 8:01 - loss: 1.1840 - accuracy: 0.64 - ETA: 8:02 - loss: 1.1803 - accuracy: 0.64 - ETA: 8:01 - loss: 1.1775 - accuracy: 0.64 - ETA: 8:02 - loss: 1.1734 - accuracy: 0.64 - ETA: 8:02 - loss: 1.1700 - accuracy: 0.64 - ETA: 8:01 - loss: 1.1661 - accuracy: 0.64 - ETA: 8:01 - loss: 1.1626 - accuracy: 0.65 - ETA: 8:01 - loss: 1.1590 - accuracy: 0.65 - ETA: 8:01 - loss: 1.1567 - accuracy: 0.65 - ETA: 8:00 - loss: 1.1537 - accuracy: 0.65 - ETA: 8:00 - loss: 1.1507 - accuracy: 0.65 - ETA: 7:59 - loss: 1.1473 - accuracy: 0.65 - ETA: 7:59 - loss: 1.1439 - accuracy: 0.65 - ETA: 7:59 - loss: 1.1404 - accuracy: 0.65 - ETA: 7:59 - loss: 1.1372 - accuracy: 0.65 - ETA: 7:59 - loss: 1.1334 - accuracy: 0.65 - ETA: 7:58 - loss: 1.1306 - accuracy: 0.65 - ETA: 7:59 - loss: 1.1272 - accuracy: 0.65 - ETA: 7:59 - loss: 1.1256 - accuracy: 0.65 - ETA: 7:58 - loss: 1.1231 - accuracy: 0.65 - ETA: 7:58 - loss: 1.1198 - accuracy: 0.65 - ETA: 7:57 - loss: 1.1172 - accuracy: 0.6600\b\b\b\b\b\b\b\b\b\b\b\b\b\b\b\b\b\b\b\b\b\b\b\b\b\b\b\b\b\b\b\b\b\b\b\b\b\b\b\b\b\b\b\b\b\b\b\b\b\b\b\b\b\b\b\b\b\b\b\b\b\b\b\b\b\b\b\b\b\b\b\b\b\b\b\b\b\b\b\b\b\b\b\b\b\b\b\b\b\b"
     ]
    },
    {
     "name": "stdout",
     "output_type": "stream",
     "text": [
      "23680/60000 [==========>...................] - ETA: 7:57 - loss: 1.1147 - accuracy: 0.66 - ETA: 7:57 - loss: 1.1113 - accuracy: 0.66 - ETA: 7:56 - loss: 1.1093 - accuracy: 0.66 - ETA: 7:56 - loss: 1.1079 - accuracy: 0.66 - ETA: 7:56 - loss: 1.1052 - accuracy: 0.66 - ETA: 7:56 - loss: 1.1032 - accuracy: 0.66 - ETA: 7:56 - loss: 1.0999 - accuracy: 0.66 - ETA: 7:56 - loss: 1.0967 - accuracy: 0.66 - ETA: 7:55 - loss: 1.0944 - accuracy: 0.66 - ETA: 7:54 - loss: 1.0910 - accuracy: 0.66 - ETA: 7:55 - loss: 1.0890 - accuracy: 0.66 - ETA: 7:54 - loss: 1.0870 - accuracy: 0.66 - ETA: 7:54 - loss: 1.0843 - accuracy: 0.66 - ETA: 7:54 - loss: 1.0825 - accuracy: 0.66 - ETA: 7:54 - loss: 1.0803 - accuracy: 0.66 - ETA: 7:53 - loss: 1.0780 - accuracy: 0.66 - ETA: 7:53 - loss: 1.0760 - accuracy: 0.66 - ETA: 7:53 - loss: 1.0738 - accuracy: 0.66 - ETA: 7:52 - loss: 1.0717 - accuracy: 0.67 - ETA: 7:52 - loss: 1.0698 - accuracy: 0.67 - ETA: 7:52 - loss: 1.0684 - accuracy: 0.67 - ETA: 7:52 - loss: 1.0661 - accuracy: 0.67 - ETA: 7:51 - loss: 1.0644 - accuracy: 0.67 - ETA: 7:51 - loss: 1.0637 - accuracy: 0.67 - ETA: 7:50 - loss: 1.0614 - accuracy: 0.67 - ETA: 7:50 - loss: 1.0580 - accuracy: 0.67 - ETA: 7:49 - loss: 1.0554 - accuracy: 0.67 - ETA: 7:49 - loss: 1.0540 - accuracy: 0.67 - ETA: 7:49 - loss: 1.0532 - accuracy: 0.67 - ETA: 7:49 - loss: 1.0506 - accuracy: 0.67 - ETA: 7:49 - loss: 1.0489 - accuracy: 0.67 - ETA: 7:49 - loss: 1.0469 - accuracy: 0.67 - ETA: 7:48 - loss: 1.0452 - accuracy: 0.67 - ETA: 7:48 - loss: 1.0434 - accuracy: 0.67 - ETA: 7:47 - loss: 1.0407 - accuracy: 0.67 - ETA: 7:46 - loss: 1.0385 - accuracy: 0.67 - ETA: 7:46 - loss: 1.0365 - accuracy: 0.67 - ETA: 7:46 - loss: 1.0347 - accuracy: 0.67 - ETA: 7:46 - loss: 1.0334 - accuracy: 0.67 - ETA: 7:46 - loss: 1.0312 - accuracy: 0.67 - ETA: 7:45 - loss: 1.0292 - accuracy: 0.67 - ETA: 7:45 - loss: 1.0283 - accuracy: 0.67 - ETA: 7:44 - loss: 1.0268 - accuracy: 0.67 - ETA: 7:44 - loss: 1.0252 - accuracy: 0.67 - ETA: 7:44 - loss: 1.0242 - accuracy: 0.67 - ETA: 7:43 - loss: 1.0227 - accuracy: 0.67 - ETA: 7:42 - loss: 1.0200 - accuracy: 0.68 - ETA: 7:42 - loss: 1.0186 - accuracy: 0.68 - ETA: 7:41 - loss: 1.0165 - accuracy: 0.68 - ETA: 7:40 - loss: 1.0146 - accuracy: 0.68 - ETA: 7:40 - loss: 1.0130 - accuracy: 0.68 - ETA: 7:40 - loss: 1.0106 - accuracy: 0.68 - ETA: 7:39 - loss: 1.0089 - accuracy: 0.68 - ETA: 7:39 - loss: 1.0076 - accuracy: 0.68 - ETA: 7:39 - loss: 1.0054 - accuracy: 0.68 - ETA: 7:39 - loss: 1.0033 - accuracy: 0.68 - ETA: 7:38 - loss: 1.0016 - accuracy: 0.68 - ETA: 7:38 - loss: 0.9990 - accuracy: 0.68 - ETA: 7:37 - loss: 0.9969 - accuracy: 0.68 - ETA: 7:37 - loss: 0.9950 - accuracy: 0.68 - ETA: 7:36 - loss: 0.9932 - accuracy: 0.68 - ETA: 7:36 - loss: 0.9908 - accuracy: 0.68 - ETA: 7:36 - loss: 0.9886 - accuracy: 0.68 - ETA: 7:35 - loss: 0.9868 - accuracy: 0.68 - ETA: 7:35 - loss: 0.9848 - accuracy: 0.68 - ETA: 7:34 - loss: 0.9823 - accuracy: 0.69 - ETA: 7:34 - loss: 0.9816 - accuracy: 0.69 - ETA: 7:33 - loss: 0.9801 - accuracy: 0.69 - ETA: 7:33 - loss: 0.9781 - accuracy: 0.69 - ETA: 7:33 - loss: 0.9767 - accuracy: 0.69 - ETA: 7:32 - loss: 0.9752 - accuracy: 0.69 - ETA: 7:32 - loss: 0.9745 - accuracy: 0.69 - ETA: 7:31 - loss: 0.9735 - accuracy: 0.69 - ETA: 7:30 - loss: 0.9711 - accuracy: 0.69 - ETA: 7:30 - loss: 0.9696 - accuracy: 0.69 - ETA: 7:30 - loss: 0.9682 - accuracy: 0.69 - ETA: 7:29 - loss: 0.9662 - accuracy: 0.69 - ETA: 7:29 - loss: 0.9645 - accuracy: 0.69 - ETA: 7:29 - loss: 0.9629 - accuracy: 0.69 - ETA: 7:29 - loss: 0.9622 - accuracy: 0.69 - ETA: 7:29 - loss: 0.9604 - accuracy: 0.69 - ETA: 7:29 - loss: 0.9581 - accuracy: 0.69 - ETA: 7:29 - loss: 0.9574 - accuracy: 0.69 - ETA: 7:29 - loss: 0.9559 - accuracy: 0.69 - ETA: 7:29 - loss: 0.9549 - accuracy: 0.69 - ETA: 7:28 - loss: 0.9530 - accuracy: 0.69 - ETA: 7:28 - loss: 0.9515 - accuracy: 0.69 - ETA: 7:28 - loss: 0.9504 - accuracy: 0.69 - ETA: 7:28 - loss: 0.9488 - accuracy: 0.69 - ETA: 7:27 - loss: 0.9483 - accuracy: 0.69 - ETA: 7:27 - loss: 0.9472 - accuracy: 0.69 - ETA: 7:27 - loss: 0.9453 - accuracy: 0.69 - ETA: 7:27 - loss: 0.9443 - accuracy: 0.69 - ETA: 7:27 - loss: 0.9439 - accuracy: 0.69 - ETA: 7:27 - loss: 0.9419 - accuracy: 0.69 - ETA: 7:26 - loss: 0.9406 - accuracy: 0.69 - ETA: 7:26 - loss: 0.9386 - accuracy: 0.70 - ETA: 7:26 - loss: 0.9366 - accuracy: 0.70 - ETA: 7:25 - loss: 0.9350 - accuracy: 0.70 - ETA: 7:25 - loss: 0.9336 - accuracy: 0.70 - ETA: 7:24 - loss: 0.9318 - accuracy: 0.70 - ETA: 7:23 - loss: 0.9308 - accuracy: 0.70 - ETA: 7:23 - loss: 0.9294 - accuracy: 0.70 - ETA: 7:22 - loss: 0.9281 - accuracy: 0.70 - ETA: 7:21 - loss: 0.9271 - accuracy: 0.70 - ETA: 7:21 - loss: 0.9261 - accuracy: 0.70 - ETA: 7:20 - loss: 0.9251 - accuracy: 0.70 - ETA: 7:20 - loss: 0.9246 - accuracy: 0.70 - ETA: 7:19 - loss: 0.9232 - accuracy: 0.70 - ETA: 7:19 - loss: 0.9216 - accuracy: 0.70 - ETA: 7:18 - loss: 0.9201 - accuracy: 0.70 - ETA: 7:18 - loss: 0.9187 - accuracy: 0.70 - ETA: 7:17 - loss: 0.9172 - accuracy: 0.70 - ETA: 7:17 - loss: 0.9158 - accuracy: 0.70 - ETA: 7:16 - loss: 0.9139 - accuracy: 0.70 - ETA: 7:15 - loss: 0.9125 - accuracy: 0.70 - ETA: 7:15 - loss: 0.9123 - accuracy: 0.70 - ETA: 7:14 - loss: 0.9108 - accuracy: 0.70 - ETA: 7:13 - loss: 0.9096 - accuracy: 0.70 - ETA: 7:13 - loss: 0.9088 - accuracy: 0.70 - ETA: 7:12 - loss: 0.9085 - accuracy: 0.70 - ETA: 7:11 - loss: 0.9074 - accuracy: 0.70 - ETA: 7:11 - loss: 0.9064 - accuracy: 0.70 - ETA: 7:10 - loss: 0.9054 - accuracy: 0.70 - ETA: 7:10 - loss: 0.9040 - accuracy: 0.71 - ETA: 7:09 - loss: 0.9027 - accuracy: 0.71 - ETA: 7:08 - loss: 0.9019 - accuracy: 0.71 - ETA: 7:08 - loss: 0.9003 - accuracy: 0.71 - ETA: 7:07 - loss: 0.8992 - accuracy: 0.71 - ETA: 7:06 - loss: 0.8982 - accuracy: 0.71 - ETA: 7:06 - loss: 0.8977 - accuracy: 0.71 - ETA: 7:05 - loss: 0.8974 - accuracy: 0.71 - ETA: 7:04 - loss: 0.8965 - accuracy: 0.71 - ETA: 7:04 - loss: 0.8951 - accuracy: 0.71 - ETA: 7:03 - loss: 0.8943 - accuracy: 0.71 - ETA: 7:02 - loss: 0.8932 - accuracy: 0.71 - ETA: 7:02 - loss: 0.8917 - accuracy: 0.71 - ETA: 7:01 - loss: 0.8907 - accuracy: 0.71 - ETA: 7:00 - loss: 0.8899 - accuracy: 0.71 - ETA: 6:59 - loss: 0.8885 - accuracy: 0.71 - ETA: 6:59 - loss: 0.8873 - accuracy: 0.71 - ETA: 6:58 - loss: 0.8862 - accuracy: 0.71 - ETA: 6:58 - loss: 0.8849 - accuracy: 0.71 - ETA: 6:57 - loss: 0.8845 - accuracy: 0.71 - ETA: 6:56 - loss: 0.8841 - accuracy: 0.71 - ETA: 6:56 - loss: 0.8824 - accuracy: 0.71 - ETA: 6:55 - loss: 0.8818 - accuracy: 0.71 - ETA: 6:55 - loss: 0.8813 - accuracy: 0.71 - ETA: 6:54 - loss: 0.8806 - accuracy: 0.71 - ETA: 6:54 - loss: 0.8801 - accuracy: 0.71 - ETA: 6:54 - loss: 0.8790 - accuracy: 0.71 - ETA: 6:53 - loss: 0.8779 - accuracy: 0.71 - ETA: 6:52 - loss: 0.8770 - accuracy: 0.71 - ETA: 6:52 - loss: 0.8761 - accuracy: 0.71 - ETA: 6:51 - loss: 0.8753 - accuracy: 0.71 - ETA: 6:50 - loss: 0.8752 - accuracy: 0.71 - ETA: 6:50 - loss: 0.8738 - accuracy: 0.71 - ETA: 6:49 - loss: 0.8726 - accuracy: 0.71 - ETA: 6:49 - loss: 0.8721 - accuracy: 0.71 - ETA: 6:48 - loss: 0.8714 - accuracy: 0.71 - ETA: 6:47 - loss: 0.8707 - accuracy: 0.71 - ETA: 6:47 - loss: 0.8706 - accuracy: 0.71 - ETA: 6:46 - loss: 0.8692 - accuracy: 0.71 - ETA: 6:45 - loss: 0.8682 - accuracy: 0.71 - ETA: 6:45 - loss: 0.8674 - accuracy: 0.71 - ETA: 6:44 - loss: 0.8665 - accuracy: 0.71 - ETA: 6:43 - loss: 0.8661 - accuracy: 0.71 - ETA: 6:43 - loss: 0.8648 - accuracy: 0.71 - ETA: 6:42 - loss: 0.8636 - accuracy: 0.72 - ETA: 6:41 - loss: 0.8624 - accuracy: 0.72 - ETA: 6:40 - loss: 0.8615 - accuracy: 0.72 - ETA: 6:39 - loss: 0.8601 - accuracy: 0.72 - ETA: 6:38 - loss: 0.8595 - accuracy: 0.72 - ETA: 6:37 - loss: 0.8587 - accuracy: 0.72 - ETA: 6:36 - loss: 0.8573 - accuracy: 0.72 - ETA: 6:35 - loss: 0.8569 - accuracy: 0.72 - ETA: 6:34 - loss: 0.8559 - accuracy: 0.72 - ETA: 6:33 - loss: 0.8546 - accuracy: 0.72 - ETA: 6:33 - loss: 0.8538 - accuracy: 0.72 - ETA: 6:32 - loss: 0.8529 - accuracy: 0.72 - ETA: 6:31 - loss: 0.8525 - accuracy: 0.72 - ETA: 6:30 - loss: 0.8517 - accuracy: 0.72 - ETA: 6:29 - loss: 0.8510 - accuracy: 0.72 - ETA: 6:28 - loss: 0.8499 - accuracy: 0.72 - ETA: 6:27 - loss: 0.8493 - accuracy: 0.72 - ETA: 6:27 - loss: 0.8484 - accuracy: 0.7242"
     ]
    },
    {
     "name": "stdout",
     "output_type": "stream",
     "text": [
      "35584/60000 [================>.............] - ETA: 6:26 - loss: 0.8479 - accuracy: 0.72 - ETA: 6:25 - loss: 0.8469 - accuracy: 0.72 - ETA: 6:24 - loss: 0.8461 - accuracy: 0.72 - ETA: 6:23 - loss: 0.8449 - accuracy: 0.72 - ETA: 6:22 - loss: 0.8439 - accuracy: 0.72 - ETA: 6:22 - loss: 0.8429 - accuracy: 0.72 - ETA: 6:21 - loss: 0.8421 - accuracy: 0.72 - ETA: 6:20 - loss: 0.8413 - accuracy: 0.72 - ETA: 6:20 - loss: 0.8403 - accuracy: 0.72 - ETA: 6:19 - loss: 0.8394 - accuracy: 0.72 - ETA: 6:18 - loss: 0.8391 - accuracy: 0.72 - ETA: 6:16 - loss: 0.8389 - accuracy: 0.72 - ETA: 6:15 - loss: 0.8379 - accuracy: 0.72 - ETA: 6:14 - loss: 0.8365 - accuracy: 0.72 - ETA: 6:13 - loss: 0.8358 - accuracy: 0.72 - ETA: 6:12 - loss: 0.8351 - accuracy: 0.72 - ETA: 6:11 - loss: 0.8341 - accuracy: 0.72 - ETA: 6:10 - loss: 0.8333 - accuracy: 0.72 - ETA: 6:09 - loss: 0.8323 - accuracy: 0.72 - ETA: 6:08 - loss: 0.8316 - accuracy: 0.72 - ETA: 6:07 - loss: 0.8310 - accuracy: 0.72 - ETA: 6:06 - loss: 0.8300 - accuracy: 0.72 - ETA: 6:05 - loss: 0.8295 - accuracy: 0.72 - ETA: 6:04 - loss: 0.8293 - accuracy: 0.72 - ETA: 6:03 - loss: 0.8285 - accuracy: 0.72 - ETA: 6:02 - loss: 0.8276 - accuracy: 0.73 - ETA: 6:01 - loss: 0.8265 - accuracy: 0.73 - ETA: 6:00 - loss: 0.8256 - accuracy: 0.73 - ETA: 5:59 - loss: 0.8251 - accuracy: 0.73 - ETA: 5:58 - loss: 0.8243 - accuracy: 0.73 - ETA: 5:57 - loss: 0.8233 - accuracy: 0.73 - ETA: 5:57 - loss: 0.8229 - accuracy: 0.73 - ETA: 5:56 - loss: 0.8222 - accuracy: 0.73 - ETA: 5:55 - loss: 0.8212 - accuracy: 0.73 - ETA: 5:54 - loss: 0.8205 - accuracy: 0.73 - ETA: 5:53 - loss: 0.8199 - accuracy: 0.73 - ETA: 5:52 - loss: 0.8192 - accuracy: 0.73 - ETA: 5:51 - loss: 0.8184 - accuracy: 0.73 - ETA: 5:50 - loss: 0.8176 - accuracy: 0.73 - ETA: 5:49 - loss: 0.8173 - accuracy: 0.73 - ETA: 5:48 - loss: 0.8162 - accuracy: 0.73 - ETA: 5:47 - loss: 0.8154 - accuracy: 0.73 - ETA: 5:46 - loss: 0.8149 - accuracy: 0.73 - ETA: 5:45 - loss: 0.8142 - accuracy: 0.73 - ETA: 5:44 - loss: 0.8131 - accuracy: 0.73 - ETA: 5:43 - loss: 0.8122 - accuracy: 0.73 - ETA: 5:42 - loss: 0.8124 - accuracy: 0.73 - ETA: 5:41 - loss: 0.8120 - accuracy: 0.73 - ETA: 5:40 - loss: 0.8112 - accuracy: 0.73 - ETA: 5:39 - loss: 0.8104 - accuracy: 0.73 - ETA: 5:38 - loss: 0.8096 - accuracy: 0.73 - ETA: 5:37 - loss: 0.8084 - accuracy: 0.73 - ETA: 5:36 - loss: 0.8076 - accuracy: 0.73 - ETA: 5:35 - loss: 0.8070 - accuracy: 0.73 - ETA: 5:34 - loss: 0.8063 - accuracy: 0.73 - ETA: 5:33 - loss: 0.8054 - accuracy: 0.73 - ETA: 5:32 - loss: 0.8044 - accuracy: 0.73 - ETA: 5:32 - loss: 0.8041 - accuracy: 0.73 - ETA: 5:31 - loss: 0.8036 - accuracy: 0.73 - ETA: 5:30 - loss: 0.8029 - accuracy: 0.73 - ETA: 5:29 - loss: 0.8022 - accuracy: 0.73 - ETA: 5:28 - loss: 0.8016 - accuracy: 0.73 - ETA: 5:27 - loss: 0.8014 - accuracy: 0.73 - ETA: 5:26 - loss: 0.8012 - accuracy: 0.73 - ETA: 5:25 - loss: 0.8010 - accuracy: 0.73 - ETA: 5:24 - loss: 0.8000 - accuracy: 0.73 - ETA: 5:23 - loss: 0.7996 - accuracy: 0.73 - ETA: 5:22 - loss: 0.7992 - accuracy: 0.73 - ETA: 5:21 - loss: 0.7987 - accuracy: 0.73 - ETA: 5:20 - loss: 0.7980 - accuracy: 0.73 - ETA: 5:20 - loss: 0.7970 - accuracy: 0.73 - ETA: 5:19 - loss: 0.7962 - accuracy: 0.73 - ETA: 5:18 - loss: 0.7956 - accuracy: 0.73 - ETA: 5:18 - loss: 0.7955 - accuracy: 0.73 - ETA: 5:17 - loss: 0.7948 - accuracy: 0.73 - ETA: 5:16 - loss: 0.7944 - accuracy: 0.73 - ETA: 5:16 - loss: 0.7934 - accuracy: 0.73 - ETA: 5:15 - loss: 0.7927 - accuracy: 0.73 - ETA: 5:15 - loss: 0.7920 - accuracy: 0.73 - ETA: 5:14 - loss: 0.7915 - accuracy: 0.73 - ETA: 5:14 - loss: 0.7909 - accuracy: 0.73 - ETA: 5:13 - loss: 0.7905 - accuracy: 0.73 - ETA: 5:12 - loss: 0.7899 - accuracy: 0.74 - ETA: 5:12 - loss: 0.7895 - accuracy: 0.74 - ETA: 5:11 - loss: 0.7889 - accuracy: 0.74 - ETA: 5:10 - loss: 0.7879 - accuracy: 0.74 - ETA: 5:09 - loss: 0.7872 - accuracy: 0.74 - ETA: 5:08 - loss: 0.7862 - accuracy: 0.74 - ETA: 5:08 - loss: 0.7855 - accuracy: 0.74 - ETA: 5:07 - loss: 0.7845 - accuracy: 0.74 - ETA: 5:06 - loss: 0.7844 - accuracy: 0.74 - ETA: 5:05 - loss: 0.7842 - accuracy: 0.74 - ETA: 5:04 - loss: 0.7837 - accuracy: 0.74 - ETA: 5:03 - loss: 0.7832 - accuracy: 0.74 - ETA: 5:02 - loss: 0.7826 - accuracy: 0.74 - ETA: 5:01 - loss: 0.7823 - accuracy: 0.74 - ETA: 5:00 - loss: 0.7819 - accuracy: 0.74 - ETA: 4:59 - loss: 0.7814 - accuracy: 0.74 - ETA: 4:58 - loss: 0.7812 - accuracy: 0.74 - ETA: 4:58 - loss: 0.7807 - accuracy: 0.74 - ETA: 4:57 - loss: 0.7800 - accuracy: 0.74 - ETA: 4:56 - loss: 0.7799 - accuracy: 0.74 - ETA: 4:55 - loss: 0.7796 - accuracy: 0.74 - ETA: 4:54 - loss: 0.7792 - accuracy: 0.74 - ETA: 4:53 - loss: 0.7787 - accuracy: 0.74 - ETA: 4:52 - loss: 0.7779 - accuracy: 0.74 - ETA: 4:51 - loss: 0.7772 - accuracy: 0.74 - ETA: 4:51 - loss: 0.7765 - accuracy: 0.74 - ETA: 4:50 - loss: 0.7759 - accuracy: 0.74 - ETA: 4:49 - loss: 0.7752 - accuracy: 0.74 - ETA: 4:48 - loss: 0.7745 - accuracy: 0.74 - ETA: 4:47 - loss: 0.7740 - accuracy: 0.74 - ETA: 4:46 - loss: 0.7735 - accuracy: 0.74 - ETA: 4:46 - loss: 0.7730 - accuracy: 0.74 - ETA: 4:45 - loss: 0.7725 - accuracy: 0.74 - ETA: 4:44 - loss: 0.7721 - accuracy: 0.74 - ETA: 4:43 - loss: 0.7714 - accuracy: 0.74 - ETA: 4:42 - loss: 0.7710 - accuracy: 0.74 - ETA: 4:42 - loss: 0.7706 - accuracy: 0.74 - ETA: 4:41 - loss: 0.7701 - accuracy: 0.74 - ETA: 4:40 - loss: 0.7695 - accuracy: 0.74 - ETA: 4:39 - loss: 0.7690 - accuracy: 0.74 - ETA: 4:38 - loss: 0.7684 - accuracy: 0.74 - ETA: 4:38 - loss: 0.7681 - accuracy: 0.74 - ETA: 4:37 - loss: 0.7675 - accuracy: 0.74 - ETA: 4:36 - loss: 0.7671 - accuracy: 0.74 - ETA: 4:36 - loss: 0.7669 - accuracy: 0.74 - ETA: 4:35 - loss: 0.7664 - accuracy: 0.74 - ETA: 4:34 - loss: 0.7659 - accuracy: 0.74 - ETA: 4:33 - loss: 0.7653 - accuracy: 0.74 - ETA: 4:33 - loss: 0.7652 - accuracy: 0.74 - ETA: 4:32 - loss: 0.7643 - accuracy: 0.74 - ETA: 4:31 - loss: 0.7640 - accuracy: 0.74 - ETA: 4:30 - loss: 0.7633 - accuracy: 0.74 - ETA: 4:30 - loss: 0.7627 - accuracy: 0.74 - ETA: 4:29 - loss: 0.7623 - accuracy: 0.74 - ETA: 4:28 - loss: 0.7618 - accuracy: 0.74 - ETA: 4:28 - loss: 0.7612 - accuracy: 0.74 - ETA: 4:27 - loss: 0.7605 - accuracy: 0.74 - ETA: 4:26 - loss: 0.7598 - accuracy: 0.74 - ETA: 4:26 - loss: 0.7591 - accuracy: 0.74 - ETA: 4:25 - loss: 0.7587 - accuracy: 0.74 - ETA: 4:24 - loss: 0.7582 - accuracy: 0.74 - ETA: 4:23 - loss: 0.7575 - accuracy: 0.74 - ETA: 4:23 - loss: 0.7569 - accuracy: 0.74 - ETA: 4:22 - loss: 0.7564 - accuracy: 0.74 - ETA: 4:21 - loss: 0.7559 - accuracy: 0.74 - ETA: 4:20 - loss: 0.7551 - accuracy: 0.74 - ETA: 4:19 - loss: 0.7545 - accuracy: 0.74 - ETA: 4:18 - loss: 0.7542 - accuracy: 0.74 - ETA: 4:18 - loss: 0.7535 - accuracy: 0.74 - ETA: 4:17 - loss: 0.7527 - accuracy: 0.74 - ETA: 4:16 - loss: 0.7525 - accuracy: 0.74 - ETA: 4:15 - loss: 0.7521 - accuracy: 0.74 - ETA: 4:14 - loss: 0.7515 - accuracy: 0.74 - ETA: 4:14 - loss: 0.7511 - accuracy: 0.74 - ETA: 4:13 - loss: 0.7504 - accuracy: 0.75 - ETA: 4:12 - loss: 0.7499 - accuracy: 0.75 - ETA: 4:11 - loss: 0.7494 - accuracy: 0.75 - ETA: 4:11 - loss: 0.7490 - accuracy: 0.75 - ETA: 4:10 - loss: 0.7482 - accuracy: 0.75 - ETA: 4:09 - loss: 0.7474 - accuracy: 0.75 - ETA: 4:08 - loss: 0.7473 - accuracy: 0.75 - ETA: 4:08 - loss: 0.7466 - accuracy: 0.75 - ETA: 4:07 - loss: 0.7464 - accuracy: 0.75 - ETA: 4:06 - loss: 0.7464 - accuracy: 0.75 - ETA: 4:05 - loss: 0.7459 - accuracy: 0.75 - ETA: 4:05 - loss: 0.7455 - accuracy: 0.75 - ETA: 4:04 - loss: 0.7449 - accuracy: 0.75 - ETA: 4:03 - loss: 0.7449 - accuracy: 0.75 - ETA: 4:02 - loss: 0.7447 - accuracy: 0.75 - ETA: 4:01 - loss: 0.7441 - accuracy: 0.75 - ETA: 4:01 - loss: 0.7436 - accuracy: 0.75 - ETA: 4:00 - loss: 0.7432 - accuracy: 0.75 - ETA: 3:59 - loss: 0.7427 - accuracy: 0.75 - ETA: 3:58 - loss: 0.7420 - accuracy: 0.75 - ETA: 3:58 - loss: 0.7412 - accuracy: 0.75 - ETA: 3:57 - loss: 0.7414 - accuracy: 0.75 - ETA: 3:56 - loss: 0.7410 - accuracy: 0.75 - ETA: 3:55 - loss: 0.7405 - accuracy: 0.75 - ETA: 3:55 - loss: 0.7401 - accuracy: 0.75 - ETA: 3:54 - loss: 0.7397 - accuracy: 0.75 - ETA: 3:53 - loss: 0.7390 - accuracy: 0.75 - ETA: 3:52 - loss: 0.7384 - accuracy: 0.75 - ETA: 3:52 - loss: 0.7382 - accuracy: 0.75 - ETA: 3:51 - loss: 0.7378 - accuracy: 0.7539"
     ]
    },
    {
     "name": "stdout",
     "output_type": "stream",
     "text": [
      "47488/60000 [======================>.......] - ETA: 3:50 - loss: 0.7371 - accuracy: 0.75 - ETA: 3:49 - loss: 0.7366 - accuracy: 0.75 - ETA: 3:49 - loss: 0.7363 - accuracy: 0.75 - ETA: 3:48 - loss: 0.7358 - accuracy: 0.75 - ETA: 3:47 - loss: 0.7352 - accuracy: 0.75 - ETA: 3:46 - loss: 0.7346 - accuracy: 0.75 - ETA: 3:46 - loss: 0.7346 - accuracy: 0.75 - ETA: 3:45 - loss: 0.7340 - accuracy: 0.75 - ETA: 3:44 - loss: 0.7334 - accuracy: 0.75 - ETA: 3:43 - loss: 0.7328 - accuracy: 0.75 - ETA: 3:43 - loss: 0.7323 - accuracy: 0.75 - ETA: 3:42 - loss: 0.7317 - accuracy: 0.75 - ETA: 3:41 - loss: 0.7311 - accuracy: 0.75 - ETA: 3:40 - loss: 0.7305 - accuracy: 0.75 - ETA: 3:40 - loss: 0.7297 - accuracy: 0.75 - ETA: 3:39 - loss: 0.7293 - accuracy: 0.75 - ETA: 3:38 - loss: 0.7286 - accuracy: 0.75 - ETA: 3:38 - loss: 0.7283 - accuracy: 0.75 - ETA: 3:37 - loss: 0.7279 - accuracy: 0.75 - ETA: 3:36 - loss: 0.7274 - accuracy: 0.75 - ETA: 3:35 - loss: 0.7267 - accuracy: 0.75 - ETA: 3:35 - loss: 0.7259 - accuracy: 0.75 - ETA: 3:34 - loss: 0.7256 - accuracy: 0.75 - ETA: 3:33 - loss: 0.7255 - accuracy: 0.75 - ETA: 3:32 - loss: 0.7250 - accuracy: 0.75 - ETA: 3:32 - loss: 0.7242 - accuracy: 0.75 - ETA: 3:31 - loss: 0.7236 - accuracy: 0.75 - ETA: 3:30 - loss: 0.7230 - accuracy: 0.75 - ETA: 3:29 - loss: 0.7226 - accuracy: 0.75 - ETA: 3:29 - loss: 0.7225 - accuracy: 0.75 - ETA: 3:28 - loss: 0.7223 - accuracy: 0.75 - ETA: 3:27 - loss: 0.7218 - accuracy: 0.75 - ETA: 3:27 - loss: 0.7214 - accuracy: 0.75 - ETA: 3:26 - loss: 0.7209 - accuracy: 0.75 - ETA: 3:25 - loss: 0.7205 - accuracy: 0.75 - ETA: 3:24 - loss: 0.7198 - accuracy: 0.75 - ETA: 3:24 - loss: 0.7197 - accuracy: 0.75 - ETA: 3:23 - loss: 0.7192 - accuracy: 0.75 - ETA: 3:22 - loss: 0.7185 - accuracy: 0.75 - ETA: 3:21 - loss: 0.7181 - accuracy: 0.76 - ETA: 3:21 - loss: 0.7177 - accuracy: 0.76 - ETA: 3:20 - loss: 0.7170 - accuracy: 0.76 - ETA: 3:19 - loss: 0.7164 - accuracy: 0.76 - ETA: 3:19 - loss: 0.7161 - accuracy: 0.76 - ETA: 3:18 - loss: 0.7155 - accuracy: 0.76 - ETA: 3:17 - loss: 0.7151 - accuracy: 0.76 - ETA: 3:17 - loss: 0.7145 - accuracy: 0.76 - ETA: 3:16 - loss: 0.7142 - accuracy: 0.76 - ETA: 3:15 - loss: 0.7139 - accuracy: 0.76 - ETA: 3:15 - loss: 0.7133 - accuracy: 0.76 - ETA: 3:14 - loss: 0.7132 - accuracy: 0.76 - ETA: 3:13 - loss: 0.7129 - accuracy: 0.76 - ETA: 3:13 - loss: 0.7123 - accuracy: 0.76 - ETA: 3:12 - loss: 0.7118 - accuracy: 0.76 - ETA: 3:11 - loss: 0.7111 - accuracy: 0.76 - ETA: 3:11 - loss: 0.7110 - accuracy: 0.76 - ETA: 3:10 - loss: 0.7109 - accuracy: 0.76 - ETA: 3:09 - loss: 0.7106 - accuracy: 0.76 - ETA: 3:09 - loss: 0.7102 - accuracy: 0.76 - ETA: 3:08 - loss: 0.7103 - accuracy: 0.76 - ETA: 3:07 - loss: 0.7097 - accuracy: 0.76 - ETA: 3:07 - loss: 0.7090 - accuracy: 0.76 - ETA: 3:06 - loss: 0.7085 - accuracy: 0.76 - ETA: 3:06 - loss: 0.7081 - accuracy: 0.76 - ETA: 3:05 - loss: 0.7076 - accuracy: 0.76 - ETA: 3:04 - loss: 0.7075 - accuracy: 0.76 - ETA: 3:04 - loss: 0.7071 - accuracy: 0.76 - ETA: 3:03 - loss: 0.7067 - accuracy: 0.76 - ETA: 3:02 - loss: 0.7061 - accuracy: 0.76 - ETA: 3:02 - loss: 0.7058 - accuracy: 0.76 - ETA: 3:01 - loss: 0.7053 - accuracy: 0.76 - ETA: 3:00 - loss: 0.7049 - accuracy: 0.76 - ETA: 3:00 - loss: 0.7050 - accuracy: 0.76 - ETA: 2:59 - loss: 0.7048 - accuracy: 0.76 - ETA: 2:58 - loss: 0.7044 - accuracy: 0.76 - ETA: 2:58 - loss: 0.7041 - accuracy: 0.76 - ETA: 2:57 - loss: 0.7036 - accuracy: 0.76 - ETA: 2:56 - loss: 0.7034 - accuracy: 0.76 - ETA: 2:56 - loss: 0.7030 - accuracy: 0.76 - ETA: 2:55 - loss: 0.7026 - accuracy: 0.76 - ETA: 2:54 - loss: 0.7023 - accuracy: 0.76 - ETA: 2:54 - loss: 0.7021 - accuracy: 0.76 - ETA: 2:53 - loss: 0.7017 - accuracy: 0.76 - ETA: 2:52 - loss: 0.7016 - accuracy: 0.76 - ETA: 2:52 - loss: 0.7011 - accuracy: 0.76 - ETA: 2:51 - loss: 0.7007 - accuracy: 0.76 - ETA: 2:51 - loss: 0.7004 - accuracy: 0.76 - ETA: 2:50 - loss: 0.7001 - accuracy: 0.76 - ETA: 2:49 - loss: 0.6999 - accuracy: 0.76 - ETA: 2:49 - loss: 0.6994 - accuracy: 0.76 - ETA: 2:48 - loss: 0.6991 - accuracy: 0.76 - ETA: 2:48 - loss: 0.6986 - accuracy: 0.76 - ETA: 2:47 - loss: 0.6981 - accuracy: 0.76 - ETA: 2:46 - loss: 0.6977 - accuracy: 0.76 - ETA: 2:46 - loss: 0.6974 - accuracy: 0.76 - ETA: 2:45 - loss: 0.6972 - accuracy: 0.76 - ETA: 2:44 - loss: 0.6969 - accuracy: 0.76 - ETA: 2:44 - loss: 0.6965 - accuracy: 0.76 - ETA: 2:43 - loss: 0.6960 - accuracy: 0.76 - ETA: 2:42 - loss: 0.6955 - accuracy: 0.76 - ETA: 2:42 - loss: 0.6952 - accuracy: 0.76 - ETA: 2:41 - loss: 0.6950 - accuracy: 0.76 - ETA: 2:41 - loss: 0.6946 - accuracy: 0.76 - ETA: 2:40 - loss: 0.6941 - accuracy: 0.76 - ETA: 2:40 - loss: 0.6937 - accuracy: 0.76 - ETA: 2:39 - loss: 0.6933 - accuracy: 0.76 - ETA: 2:38 - loss: 0.6929 - accuracy: 0.76 - ETA: 2:38 - loss: 0.6924 - accuracy: 0.76 - ETA: 2:37 - loss: 0.6922 - accuracy: 0.76 - ETA: 2:37 - loss: 0.6919 - accuracy: 0.76 - ETA: 2:36 - loss: 0.6915 - accuracy: 0.76 - ETA: 2:36 - loss: 0.6912 - accuracy: 0.76 - ETA: 2:35 - loss: 0.6907 - accuracy: 0.76 - ETA: 2:34 - loss: 0.6903 - accuracy: 0.76 - ETA: 2:34 - loss: 0.6901 - accuracy: 0.76 - ETA: 2:33 - loss: 0.6900 - accuracy: 0.76 - ETA: 2:33 - loss: 0.6897 - accuracy: 0.76 - ETA: 2:32 - loss: 0.6892 - accuracy: 0.76 - ETA: 2:32 - loss: 0.6887 - accuracy: 0.76 - ETA: 2:31 - loss: 0.6883 - accuracy: 0.76 - ETA: 2:31 - loss: 0.6880 - accuracy: 0.76 - ETA: 2:30 - loss: 0.6876 - accuracy: 0.76 - ETA: 2:30 - loss: 0.6870 - accuracy: 0.76 - ETA: 2:29 - loss: 0.6868 - accuracy: 0.76 - ETA: 2:29 - loss: 0.6866 - accuracy: 0.76 - ETA: 2:28 - loss: 0.6860 - accuracy: 0.76 - ETA: 2:28 - loss: 0.6860 - accuracy: 0.76 - ETA: 2:27 - loss: 0.6856 - accuracy: 0.76 - ETA: 2:27 - loss: 0.6852 - accuracy: 0.76 - ETA: 2:26 - loss: 0.6849 - accuracy: 0.76 - ETA: 2:26 - loss: 0.6843 - accuracy: 0.76 - ETA: 2:25 - loss: 0.6839 - accuracy: 0.76 - ETA: 2:25 - loss: 0.6837 - accuracy: 0.76 - ETA: 2:24 - loss: 0.6832 - accuracy: 0.76 - ETA: 2:24 - loss: 0.6828 - accuracy: 0.76 - ETA: 2:23 - loss: 0.6825 - accuracy: 0.77 - ETA: 2:22 - loss: 0.6818 - accuracy: 0.77 - ETA: 2:22 - loss: 0.6816 - accuracy: 0.77 - ETA: 2:21 - loss: 0.6812 - accuracy: 0.77 - ETA: 2:21 - loss: 0.6810 - accuracy: 0.77 - ETA: 2:20 - loss: 0.6806 - accuracy: 0.77 - ETA: 2:20 - loss: 0.6805 - accuracy: 0.77 - ETA: 2:19 - loss: 0.6800 - accuracy: 0.77 - ETA: 2:18 - loss: 0.6797 - accuracy: 0.77 - ETA: 2:18 - loss: 0.6796 - accuracy: 0.77 - ETA: 2:17 - loss: 0.6795 - accuracy: 0.77 - ETA: 2:17 - loss: 0.6791 - accuracy: 0.77 - ETA: 2:16 - loss: 0.6787 - accuracy: 0.77 - ETA: 2:16 - loss: 0.6782 - accuracy: 0.77 - ETA: 2:15 - loss: 0.6777 - accuracy: 0.77 - ETA: 2:15 - loss: 0.6775 - accuracy: 0.77 - ETA: 2:14 - loss: 0.6770 - accuracy: 0.77 - ETA: 2:13 - loss: 0.6768 - accuracy: 0.77 - ETA: 2:13 - loss: 0.6766 - accuracy: 0.77 - ETA: 2:12 - loss: 0.6762 - accuracy: 0.77 - ETA: 2:12 - loss: 0.6757 - accuracy: 0.77 - ETA: 2:11 - loss: 0.6754 - accuracy: 0.77 - ETA: 2:11 - loss: 0.6751 - accuracy: 0.77 - ETA: 2:10 - loss: 0.6752 - accuracy: 0.77 - ETA: 2:10 - loss: 0.6751 - accuracy: 0.77 - ETA: 2:09 - loss: 0.6747 - accuracy: 0.77 - ETA: 2:08 - loss: 0.6742 - accuracy: 0.77 - ETA: 2:08 - loss: 0.6741 - accuracy: 0.77 - ETA: 2:07 - loss: 0.6741 - accuracy: 0.77 - ETA: 2:07 - loss: 0.6739 - accuracy: 0.77 - ETA: 2:06 - loss: 0.6734 - accuracy: 0.77 - ETA: 2:06 - loss: 0.6730 - accuracy: 0.77 - ETA: 2:05 - loss: 0.6725 - accuracy: 0.77 - ETA: 2:05 - loss: 0.6721 - accuracy: 0.77 - ETA: 2:04 - loss: 0.6718 - accuracy: 0.77 - ETA: 2:03 - loss: 0.6716 - accuracy: 0.77 - ETA: 2:03 - loss: 0.6715 - accuracy: 0.77 - ETA: 2:02 - loss: 0.6712 - accuracy: 0.77 - ETA: 2:02 - loss: 0.6710 - accuracy: 0.77 - ETA: 2:01 - loss: 0.6706 - accuracy: 0.77 - ETA: 2:00 - loss: 0.6705 - accuracy: 0.77 - ETA: 2:00 - loss: 0.6701 - accuracy: 0.77 - ETA: 1:59 - loss: 0.6701 - accuracy: 0.77 - ETA: 1:59 - loss: 0.6699 - accuracy: 0.77 - ETA: 1:58 - loss: 0.6696 - accuracy: 0.77 - ETA: 1:57 - loss: 0.6693 - accuracy: 0.77 - ETA: 1:57 - loss: 0.6690 - accuracy: 0.77 - ETA: 1:56 - loss: 0.6687 - accuracy: 0.77 - ETA: 1:56 - loss: 0.6686 - accuracy: 0.77 - ETA: 1:55 - loss: 0.6685 - accuracy: 0.77 - ETA: 1:54 - loss: 0.6685 - accuracy: 0.7741"
     ]
    },
    {
     "name": "stdout",
     "output_type": "stream",
     "text": [
      "59392/60000 [============================>.] - ETA: 1:54 - loss: 0.6683 - accuracy: 0.77 - ETA: 1:53 - loss: 0.6680 - accuracy: 0.77 - ETA: 1:53 - loss: 0.6678 - accuracy: 0.77 - ETA: 1:52 - loss: 0.6677 - accuracy: 0.77 - ETA: 1:52 - loss: 0.6673 - accuracy: 0.77 - ETA: 1:51 - loss: 0.6670 - accuracy: 0.77 - ETA: 1:50 - loss: 0.6666 - accuracy: 0.77 - ETA: 1:50 - loss: 0.6663 - accuracy: 0.77 - ETA: 1:49 - loss: 0.6662 - accuracy: 0.77 - ETA: 1:49 - loss: 0.6659 - accuracy: 0.77 - ETA: 1:48 - loss: 0.6657 - accuracy: 0.77 - ETA: 1:47 - loss: 0.6652 - accuracy: 0.77 - ETA: 1:47 - loss: 0.6649 - accuracy: 0.77 - ETA: 1:46 - loss: 0.6644 - accuracy: 0.77 - ETA: 1:46 - loss: 0.6640 - accuracy: 0.77 - ETA: 1:45 - loss: 0.6637 - accuracy: 0.77 - ETA: 1:44 - loss: 0.6634 - accuracy: 0.77 - ETA: 1:44 - loss: 0.6631 - accuracy: 0.77 - ETA: 1:43 - loss: 0.6628 - accuracy: 0.77 - ETA: 1:43 - loss: 0.6625 - accuracy: 0.77 - ETA: 1:42 - loss: 0.6621 - accuracy: 0.77 - ETA: 1:41 - loss: 0.6618 - accuracy: 0.77 - ETA: 1:41 - loss: 0.6617 - accuracy: 0.77 - ETA: 1:40 - loss: 0.6615 - accuracy: 0.77 - ETA: 1:40 - loss: 0.6613 - accuracy: 0.77 - ETA: 1:39 - loss: 0.6610 - accuracy: 0.77 - ETA: 1:38 - loss: 0.6608 - accuracy: 0.77 - ETA: 1:38 - loss: 0.6607 - accuracy: 0.77 - ETA: 1:37 - loss: 0.6603 - accuracy: 0.77 - ETA: 1:37 - loss: 0.6598 - accuracy: 0.77 - ETA: 1:36 - loss: 0.6595 - accuracy: 0.77 - ETA: 1:35 - loss: 0.6591 - accuracy: 0.77 - ETA: 1:35 - loss: 0.6588 - accuracy: 0.77 - ETA: 1:34 - loss: 0.6584 - accuracy: 0.77 - ETA: 1:34 - loss: 0.6579 - accuracy: 0.77 - ETA: 1:33 - loss: 0.6574 - accuracy: 0.77 - ETA: 1:33 - loss: 0.6572 - accuracy: 0.77 - ETA: 1:32 - loss: 0.6570 - accuracy: 0.77 - ETA: 1:32 - loss: 0.6567 - accuracy: 0.77 - ETA: 1:31 - loss: 0.6563 - accuracy: 0.77 - ETA: 1:31 - loss: 0.6560 - accuracy: 0.77 - ETA: 1:30 - loss: 0.6559 - accuracy: 0.77 - ETA: 1:29 - loss: 0.6560 - accuracy: 0.77 - ETA: 1:29 - loss: 0.6557 - accuracy: 0.77 - ETA: 1:28 - loss: 0.6554 - accuracy: 0.77 - ETA: 1:28 - loss: 0.6554 - accuracy: 0.77 - ETA: 1:27 - loss: 0.6550 - accuracy: 0.77 - ETA: 1:26 - loss: 0.6546 - accuracy: 0.77 - ETA: 1:26 - loss: 0.6546 - accuracy: 0.77 - ETA: 1:25 - loss: 0.6541 - accuracy: 0.77 - ETA: 1:25 - loss: 0.6538 - accuracy: 0.77 - ETA: 1:24 - loss: 0.6535 - accuracy: 0.77 - ETA: 1:23 - loss: 0.6533 - accuracy: 0.77 - ETA: 1:23 - loss: 0.6530 - accuracy: 0.77 - ETA: 1:22 - loss: 0.6530 - accuracy: 0.77 - ETA: 1:22 - loss: 0.6526 - accuracy: 0.77 - ETA: 1:21 - loss: 0.6524 - accuracy: 0.77 - ETA: 1:20 - loss: 0.6521 - accuracy: 0.77 - ETA: 1:20 - loss: 0.6517 - accuracy: 0.77 - ETA: 1:19 - loss: 0.6516 - accuracy: 0.77 - ETA: 1:19 - loss: 0.6512 - accuracy: 0.77 - ETA: 1:18 - loss: 0.6510 - accuracy: 0.77 - ETA: 1:18 - loss: 0.6506 - accuracy: 0.77 - ETA: 1:17 - loss: 0.6505 - accuracy: 0.77 - ETA: 1:16 - loss: 0.6501 - accuracy: 0.77 - ETA: 1:16 - loss: 0.6498 - accuracy: 0.77 - ETA: 1:15 - loss: 0.6495 - accuracy: 0.77 - ETA: 1:15 - loss: 0.6491 - accuracy: 0.78 - ETA: 1:14 - loss: 0.6488 - accuracy: 0.78 - ETA: 1:13 - loss: 0.6485 - accuracy: 0.78 - ETA: 1:13 - loss: 0.6482 - accuracy: 0.78 - ETA: 1:12 - loss: 0.6479 - accuracy: 0.78 - ETA: 1:12 - loss: 0.6475 - accuracy: 0.78 - ETA: 1:11 - loss: 0.6471 - accuracy: 0.78 - ETA: 1:11 - loss: 0.6466 - accuracy: 0.78 - ETA: 1:10 - loss: 0.6462 - accuracy: 0.78 - ETA: 1:09 - loss: 0.6463 - accuracy: 0.78 - ETA: 1:09 - loss: 0.6461 - accuracy: 0.78 - ETA: 1:08 - loss: 0.6464 - accuracy: 0.78 - ETA: 1:08 - loss: 0.6463 - accuracy: 0.78 - ETA: 1:07 - loss: 0.6460 - accuracy: 0.78 - ETA: 1:06 - loss: 0.6458 - accuracy: 0.78 - ETA: 1:06 - loss: 0.6458 - accuracy: 0.78 - ETA: 1:05 - loss: 0.6454 - accuracy: 0.78 - ETA: 1:05 - loss: 0.6455 - accuracy: 0.78 - ETA: 1:04 - loss: 0.6453 - accuracy: 0.78 - ETA: 1:03 - loss: 0.6452 - accuracy: 0.78 - ETA: 1:03 - loss: 0.6449 - accuracy: 0.78 - ETA: 1:02 - loss: 0.6447 - accuracy: 0.78 - ETA: 1:02 - loss: 0.6445 - accuracy: 0.78 - ETA: 1:01 - loss: 0.6446 - accuracy: 0.78 - ETA: 1:01 - loss: 0.6442 - accuracy: 0.78 - ETA: 1:00 - loss: 0.6441 - accuracy: 0.78 - ETA: 59s - loss: 0.6438 - accuracy: 0.7815 - ETA: 59s - loss: 0.6437 - accuracy: 0.781 - ETA: 58s - loss: 0.6433 - accuracy: 0.781 - ETA: 58s - loss: 0.6432 - accuracy: 0.781 - ETA: 57s - loss: 0.6430 - accuracy: 0.781 - ETA: 56s - loss: 0.6426 - accuracy: 0.781 - ETA: 56s - loss: 0.6424 - accuracy: 0.782 - ETA: 55s - loss: 0.6422 - accuracy: 0.782 - ETA: 55s - loss: 0.6423 - accuracy: 0.782 - ETA: 54s - loss: 0.6421 - accuracy: 0.782 - ETA: 53s - loss: 0.6417 - accuracy: 0.782 - ETA: 53s - loss: 0.6415 - accuracy: 0.782 - ETA: 52s - loss: 0.6412 - accuracy: 0.782 - ETA: 52s - loss: 0.6409 - accuracy: 0.782 - ETA: 51s - loss: 0.6407 - accuracy: 0.782 - ETA: 50s - loss: 0.6404 - accuracy: 0.782 - ETA: 50s - loss: 0.6402 - accuracy: 0.782 - ETA: 49s - loss: 0.6399 - accuracy: 0.782 - ETA: 49s - loss: 0.6396 - accuracy: 0.782 - ETA: 48s - loss: 0.6392 - accuracy: 0.782 - ETA: 47s - loss: 0.6390 - accuracy: 0.782 - ETA: 47s - loss: 0.6391 - accuracy: 0.782 - ETA: 46s - loss: 0.6389 - accuracy: 0.782 - ETA: 46s - loss: 0.6387 - accuracy: 0.782 - ETA: 45s - loss: 0.6383 - accuracy: 0.782 - ETA: 45s - loss: 0.6379 - accuracy: 0.783 - ETA: 44s - loss: 0.6376 - accuracy: 0.783 - ETA: 43s - loss: 0.6372 - accuracy: 0.783 - ETA: 43s - loss: 0.6370 - accuracy: 0.783 - ETA: 42s - loss: 0.6367 - accuracy: 0.783 - ETA: 42s - loss: 0.6362 - accuracy: 0.783 - ETA: 41s - loss: 0.6361 - accuracy: 0.783 - ETA: 40s - loss: 0.6358 - accuracy: 0.783 - ETA: 40s - loss: 0.6356 - accuracy: 0.783 - ETA: 39s - loss: 0.6355 - accuracy: 0.783 - ETA: 39s - loss: 0.6353 - accuracy: 0.783 - ETA: 38s - loss: 0.6353 - accuracy: 0.783 - ETA: 37s - loss: 0.6351 - accuracy: 0.783 - ETA: 37s - loss: 0.6348 - accuracy: 0.783 - ETA: 36s - loss: 0.6347 - accuracy: 0.783 - ETA: 36s - loss: 0.6344 - accuracy: 0.784 - ETA: 35s - loss: 0.6342 - accuracy: 0.784 - ETA: 35s - loss: 0.6338 - accuracy: 0.784 - ETA: 34s - loss: 0.6336 - accuracy: 0.784 - ETA: 33s - loss: 0.6333 - accuracy: 0.784 - ETA: 33s - loss: 0.6328 - accuracy: 0.784 - ETA: 32s - loss: 0.6324 - accuracy: 0.784 - ETA: 32s - loss: 0.6324 - accuracy: 0.784 - ETA: 31s - loss: 0.6322 - accuracy: 0.784 - ETA: 30s - loss: 0.6322 - accuracy: 0.784 - ETA: 30s - loss: 0.6319 - accuracy: 0.784 - ETA: 29s - loss: 0.6318 - accuracy: 0.784 - ETA: 29s - loss: 0.6315 - accuracy: 0.784 - ETA: 28s - loss: 0.6313 - accuracy: 0.784 - ETA: 27s - loss: 0.6308 - accuracy: 0.785 - ETA: 27s - loss: 0.6305 - accuracy: 0.785 - ETA: 26s - loss: 0.6306 - accuracy: 0.785 - ETA: 26s - loss: 0.6302 - accuracy: 0.785 - ETA: 25s - loss: 0.6304 - accuracy: 0.785 - ETA: 25s - loss: 0.6302 - accuracy: 0.785 - ETA: 24s - loss: 0.6299 - accuracy: 0.785 - ETA: 23s - loss: 0.6298 - accuracy: 0.785 - ETA: 23s - loss: 0.6295 - accuracy: 0.785 - ETA: 22s - loss: 0.6292 - accuracy: 0.785 - ETA: 22s - loss: 0.6294 - accuracy: 0.785 - ETA: 21s - loss: 0.6290 - accuracy: 0.785 - ETA: 20s - loss: 0.6287 - accuracy: 0.785 - ETA: 20s - loss: 0.6285 - accuracy: 0.785 - ETA: 19s - loss: 0.6281 - accuracy: 0.786 - ETA: 19s - loss: 0.6279 - accuracy: 0.786 - ETA: 18s - loss: 0.6275 - accuracy: 0.786 - ETA: 17s - loss: 0.6273 - accuracy: 0.786 - ETA: 17s - loss: 0.6272 - accuracy: 0.786 - ETA: 16s - loss: 0.6272 - accuracy: 0.786 - ETA: 16s - loss: 0.6270 - accuracy: 0.786 - ETA: 15s - loss: 0.6268 - accuracy: 0.786 - ETA: 15s - loss: 0.6269 - accuracy: 0.786 - ETA: 14s - loss: 0.6266 - accuracy: 0.786 - ETA: 13s - loss: 0.6264 - accuracy: 0.786 - ETA: 13s - loss: 0.6261 - accuracy: 0.786 - ETA: 12s - loss: 0.6258 - accuracy: 0.786 - ETA: 12s - loss: 0.6254 - accuracy: 0.786 - ETA: 11s - loss: 0.6253 - accuracy: 0.786 - ETA: 10s - loss: 0.6251 - accuracy: 0.786 - ETA: 10s - loss: 0.6248 - accuracy: 0.787 - ETA: 9s - loss: 0.6246 - accuracy: 0.787 - ETA: 9s - loss: 0.6242 - accuracy: 0.78 - ETA: 8s - loss: 0.6240 - accuracy: 0.78 - ETA: 7s - loss: 0.6237 - accuracy: 0.78 - ETA: 7s - loss: 0.6235 - accuracy: 0.78 - ETA: 6s - loss: 0.6233 - accuracy: 0.78 - ETA: 6s - loss: 0.6230 - accuracy: 0.78 - ETA: 5s - loss: 0.6228 - accuracy: 0.7876"
     ]
    },
    {
     "name": "stdout",
     "output_type": "stream",
     "text": [
      "60000/60000 [==============================] - ETA: 5s - loss: 0.6226 - accuracy: 0.78 - ETA: 4s - loss: 0.6225 - accuracy: 0.78 - ETA: 3s - loss: 0.6223 - accuracy: 0.78 - ETA: 3s - loss: 0.6218 - accuracy: 0.78 - ETA: 2s - loss: 0.6217 - accuracy: 0.78 - ETA: 2s - loss: 0.6216 - accuracy: 0.78 - ETA: 1s - loss: 0.6215 - accuracy: 0.78 - ETA: 0s - loss: 0.6213 - accuracy: 0.78 - ETA: 0s - loss: 0.6210 - accuracy: 0.78 - 581s 10ms/sample - loss: 0.6207 - accuracy: 0.7883 - val_loss: 0.4505 - val_accuracy: 0.8396\n"
     ]
    },
    {
     "data": {
      "text/html": [
       "<span style=\"color:#4527A0\"><h1 style=\"font-size:18px\">Trial complete</h1></span>"
      ],
      "text/plain": [
       "<IPython.core.display.HTML object>"
      ]
     },
     "metadata": {},
     "output_type": "display_data"
    },
    {
     "data": {
      "text/html": [
       "<span style=\"color:#4527A0\"><h1 style=\"font-size:18px\">Trial summary</h1></span>"
      ],
      "text/plain": [
       "<IPython.core.display.HTML object>"
      ]
     },
     "metadata": {},
     "output_type": "display_data"
    },
    {
     "data": {
      "text/html": [
       "<span style=\"color:cyan\"> |-Trial ID: fb5f9c13b2c05c8f4316663a20024c62</span>"
      ],
      "text/plain": [
       "<IPython.core.display.HTML object>"
      ]
     },
     "metadata": {},
     "output_type": "display_data"
    },
    {
     "data": {
      "text/html": [
       "<span style=\"color:cyan\"> |-Score: 0.8396000266075134</span>"
      ],
      "text/plain": [
       "<IPython.core.display.HTML object>"
      ]
     },
     "metadata": {},
     "output_type": "display_data"
    },
    {
     "data": {
      "text/html": [
       "<span style=\"color:cyan\"> |-Best step: 0</span>"
      ],
      "text/plain": [
       "<IPython.core.display.HTML object>"
      ]
     },
     "metadata": {},
     "output_type": "display_data"
    },
    {
     "data": {
      "text/html": [
       "<span style=\"color:#7E57C2\"><h2 style=\"font-size:16px\">Hyperparameters:</h2></span>"
      ],
      "text/plain": [
       "<IPython.core.display.HTML object>"
      ]
     },
     "metadata": {},
     "output_type": "display_data"
    },
    {
     "data": {
      "text/html": [
       "<span style=\"color:cyan\"> |-conv_0_units: 96</span>"
      ],
      "text/plain": [
       "<IPython.core.display.HTML object>"
      ]
     },
     "metadata": {},
     "output_type": "display_data"
    },
    {
     "data": {
      "text/html": [
       "<span style=\"color:blue\"> |-conv_1_units: 32</span>"
      ],
      "text/plain": [
       "<IPython.core.display.HTML object>"
      ]
     },
     "metadata": {},
     "output_type": "display_data"
    },
    {
     "data": {
      "text/html": [
       "<span style=\"color:cyan\"> |-conv_2_units: 32</span>"
      ],
      "text/plain": [
       "<IPython.core.display.HTML object>"
      ]
     },
     "metadata": {},
     "output_type": "display_data"
    },
    {
     "data": {
      "text/html": [
       "<span style=\"color:blue\"> |-input_units: 224</span>"
      ],
      "text/plain": [
       "<IPython.core.display.HTML object>"
      ]
     },
     "metadata": {},
     "output_type": "display_data"
    },
    {
     "data": {
      "text/html": [
       "<span style=\"color:cyan\"> |-n_layers: 3</span>"
      ],
      "text/plain": [
       "<IPython.core.display.HTML object>"
      ]
     },
     "metadata": {},
     "output_type": "display_data"
    },
    {
     "name": "stdout",
     "output_type": "stream",
     "text": [
      "INFO:tensorflow:Oracle triggered exit\n"
     ]
    }
   ],
   "source": [
    "tuner.search(x=x_train,\n",
    "             y=y_train,\n",
    "             verbose=1, # just slapping this here bc jupyter notebook. The console out was getting messy.\n",
    "             epochs=1,\n",
    "             batch_size=64,\n",
    "             #callbacks=[tensorboard],  # if you have callbacks like tensorboard, they go here.\n",
    "             validation_data=(x_test, y_test))"
   ]
  }
 ],
 "metadata": {
  "kernelspec": {
   "display_name": "Python 3",
   "language": "python",
   "name": "python3"
  },
  "language_info": {
   "codemirror_mode": {
    "name": "ipython",
    "version": 3
   },
   "file_extension": ".py",
   "mimetype": "text/x-python",
   "name": "python",
   "nbconvert_exporter": "python",
   "pygments_lexer": "ipython3",
   "version": "3.7.4"
  }
 },
 "nbformat": 4,
 "nbformat_minor": 2
}
