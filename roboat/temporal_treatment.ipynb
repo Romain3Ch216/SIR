{
 "cells": [
  {
   "cell_type": "code",
   "execution_count": 1,
   "metadata": {},
   "outputs": [],
   "source": [
    "import numpy as np\n",
    "import cv2\n",
    "from matplotlib import pyplot as plt\n",
    "import scipy.ndimage as nd\n",
    "import skimage.measure\n",
    "import sklearn.preprocessing as sk"
   ]
  },
  {
   "cell_type": "code",
   "execution_count": 15,
   "metadata": {},
   "outputs": [],
   "source": [
    "def define_img(img1,img2,folder,side):\n",
    "    frame_1 = cv2.imread('data_montsouris_{}/frame_{}_{}.jpg'.format(folder, side, img1),0)\n",
    "    frame_2 = cv2.imread('data_montsouris_{}/frame_{}_{}.jpg'.format(folder, side, img2),0)\n",
    "    return frame_1, frame_2"
   ]
  },
  {
   "cell_type": "code",
   "execution_count": 46,
   "metadata": {},
   "outputs": [],
   "source": [
    "def diff_img(frame_1,frame_2,s1,s2):\n",
    "    d = frame_2 - frame_1\n",
    "    for i in range(d.shape[0]):\n",
    "        for j in range(d.shape[1]):\n",
    "            if d[i,j] < s1:\n",
    "                d[i,j] = 0\n",
    "            elif d[i,j] > s2:\n",
    "                d[i,j] = 0\n",
    "    return d"
   ]
  },
  {
   "cell_type": "code",
   "execution_count": 17,
   "metadata": {},
   "outputs": [],
   "source": [
    "def display(img):\n",
    "    plt.imshow(img)\n",
    "    plt.colorbar()\n",
    "    plt.show()"
   ]
  },
  {
   "cell_type": "code",
   "execution_count": 54,
   "metadata": {},
   "outputs": [],
   "source": [
    "for i in range(1,19):\n",
    "    frame_d_1, frame_d_2 = define_img(i,i+1,1,'d')\n",
    "    frame_g_1, frame_g_2 = define_img(i,i+1,1,'g')\n",
    "    dd = diff_img(frame_d_1,frame_d_2,50,200)\n",
    "    dg = diff_img(frame_g_1,frame_g_2,50,200)\n",
    "    cv2.imwrite(\"data_diff_1/frame_d_{}.jpg\".format(i), dd)\n",
    "    cv2.imwrite(\"data_diff_1/frame_g_{}.jpg\".format(i), dg) "
   ]
  }
 ],
 "metadata": {
  "kernelspec": {
   "display_name": "Python 3",
   "language": "python",
   "name": "python3"
  },
  "language_info": {
   "codemirror_mode": {
    "name": "ipython",
    "version": 3
   },
   "file_extension": ".py",
   "mimetype": "text/x-python",
   "name": "python",
   "nbconvert_exporter": "python",
   "pygments_lexer": "ipython3",
   "version": "3.7.4"
  }
 },
 "nbformat": 4,
 "nbformat_minor": 2
}
