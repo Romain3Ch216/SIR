{
 "cells": [
  {
   "cell_type": "code",
   "execution_count": 1,
   "metadata": {},
   "outputs": [],
   "source": [
    "import numpy as np\n",
    "import cv2\n",
    "from matplotlib import pyplot as plt\n",
    "import time"
   ]
  },
  {
   "cell_type": "code",
   "execution_count": 2,
   "metadata": {},
   "outputs": [],
   "source": [
    "cam_g = cv2.VideoCapture(1)\n",
    "cam_d = cv2.VideoCapture(2)"
   ]
  },
  {
   "cell_type": "code",
   "execution_count": 3,
   "metadata": {},
   "outputs": [],
   "source": [
    "start_time = time.time()\n",
    "count = 0\n",
    "while count != 100:\n",
    "    # Capture frame-by-frame\n",
    "    ret_g, frame_g = cam_g.read()\n",
    "    ret_d, frame_d = cam_d.read()\n",
    "        \n",
    "    # Our operations on the frame come here\n",
    "    gray_g = cv2.cvtColor(frame_g, cv2.COLOR_BGR2GRAY)\n",
    "    gray_d = cv2.cvtColor(frame_d, cv2.COLOR_BGR2GRAY)\n",
    "\n",
    "    # Display the resulting frame\n",
    "    cv2.imshow('frame_g',gray_g)\n",
    "    cv2.imshow('frame_d',gray_d)\n",
    "    t = time.time() - start_time\n",
    "    if t%1 < 0.5e-1:\n",
    "        cv2.imwrite(\"data_montsouris_8/frame_g_{}.jpg\".format(count), frame_g) \n",
    "        cv2.imwrite(\"data_montsouris_8/frame_d_{}.jpg\".format(count), frame_d)\n",
    "        count += 1\n",
    "        \n",
    "    if cv2.waitKey(1) & 0xFF == ord('q'):\n",
    "        break\n",
    "\n",
    "# When everything done, release the capture\n",
    "cam_g.release()\n",
    "cam_d.release()\n",
    "cv2.destroyAllWindows()"
   ]
  }
 ],
 "metadata": {
  "kernelspec": {
   "display_name": "Python 3",
   "language": "python",
   "name": "python3"
  },
  "language_info": {
   "codemirror_mode": {
    "name": "ipython",
    "version": 3
   },
   "file_extension": ".py",
   "mimetype": "text/x-python",
   "name": "python",
   "nbconvert_exporter": "python",
   "pygments_lexer": "ipython3",
   "version": "3.7.4"
  }
 },
 "nbformat": 4,
 "nbformat_minor": 2
}
