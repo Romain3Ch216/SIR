{
 "cells": [
  {
   "cell_type": "code",
   "execution_count": 342,
   "metadata": {},
   "outputs": [],
   "source": [
    "import matplotlib.pyplot as plt\n",
    "import numpy as np"
   ]
  },
  {
   "cell_type": "code",
   "execution_count": 3,
   "metadata": {},
   "outputs": [],
   "source": [
    "%qtconsole"
   ]
  },
  {
   "cell_type": "code",
   "execution_count": 343,
   "metadata": {},
   "outputs": [],
   "source": [
    "def sigmoid(v):\n",
    "    #return np.tanh(v)\n",
    "    return 1/(1+np.exp(-v))"
   ]
  },
  {
   "cell_type": "code",
   "execution_count": 344,
   "metadata": {},
   "outputs": [],
   "source": [
    "def sigmoid_derivative(v):\n",
    "    #return 1 - sigmoid(v)**2\n",
    "    return sigmoid(v)*(1-sigmoid(v))"
   ]
  },
  {
   "cell_type": "code",
   "execution_count": 346,
   "metadata": {},
   "outputs": [
    {
     "data": {
      "image/png": "[encoded data removed]",
      "text/plain": [
       "<Figure size 432x288 with 1 Axes>"
      ]
     },
     "metadata": {
      "needs_background": "light"
     },
     "output_type": "display_data"
    }
   ],
   "source": [
    "x1 = np.linspace(-10,10,1000)\n",
    "y1 = [sigmoid(e) for e in x1]\n",
    "dy1 = [sigmoid_derivative(e) for e in x1]\n",
    "plt.plot(x1,y1)\n",
    "plt.plot(x1,dy1)\n",
    "plt.grid(True)\n",
    "plt.show()"
   ]
  },
  {
   "cell_type": "code",
   "execution_count": 347,
   "metadata": {},
   "outputs": [],
   "source": [
    "def mlpclass(y):\n",
    "    #Retourne les classes de la sortie y \n",
    "    if len(y.shape)==1:\n",
    "        res = np.argmax(y)\n",
    "    else: \n",
    "        res = []\n",
    "        for i in range(y.shape[1]):\n",
    "            res.append(np.argmax(y[:,i]))\n",
    "    return res"
   ]
  },
  {
   "cell_type": "code",
   "execution_count": 348,
   "metadata": {},
   "outputs": [],
   "source": [
    "def label2target(c,nb_classe):\n",
    "    #Calcule les vecteurs de sortie désirée en fonction des classes en entrée\n",
    "    n = len(c)\n",
    "    res = -np.ones((nb_classe,n))\n",
    "    for i in range(n):\n",
    "        res[c[i],i] = 1\n",
    "    return res"
   ]
  },
  {
   "cell_type": "code",
   "execution_count": 349,
   "metadata": {},
   "outputs": [],
   "source": [
    "def score(label, pred):\n",
    "    #Retourne le score de la prédiction\n",
    "    verification = label == pred\n",
    "    res = [e for e in verification if e ==True]\n",
    "    nb = len(res)\n",
    "    taux = round(len(res)/len(verification),2)\n",
    "    return {'nb': nb,'taux': taux }"
   ]
  },
  {
   "cell_type": "code",
   "execution_count": 350,
   "metadata": {},
   "outputs": [],
   "source": [
    "def sqrerror(error):\n",
    "    #Calcul l'erreur au sein des moindres carrés\n",
    "    sqrmatrix = [e**2 for e in error]\n",
    "    res = sum(sum(sqrmatrix))\n",
    "    return res"
   ]
  },
  {
   "cell_type": "code",
   "execution_count": 394,
   "metadata": {},
   "outputs": [],
   "source": [
    "class NeuralNetwork:\n",
    "    def __init__(self, x_train, y_train, x_test, y_test, w_sup, n_out):\n",
    "        self.input_train = np.concatenate((np.ones((1,np.shape(x_train)[1])),x_train),axis=0)\n",
    "        self.input_test  = np.concatenate((np.ones((1,np.shape(x_test)[1])),x_test),axis=0)\n",
    "        self.weights     = (np.random.rand(self.input_train.shape[0],n_out)\n",
    "        -np.random.randint(0,2,(self.input_train.shape[0],n_out)))*w_sup\n",
    "        self.y_train     = y_train \n",
    "        self.y_test      = y_test\n",
    "        self.output      = np.zeros(y_train.shape)\n",
    "        self.errors      = []\n",
    "        \n",
    "    def feedforward(self, train):\n",
    "        if train == True:\n",
    "            self.layer = np.dot(self.input_train.T, self.weights)\n",
    "            self.output = sigmoid(self.layer)\n",
    "        else:\n",
    "            self.layer = np.dot(self.input_test.T, self.weights)\n",
    "            self.output = sigmoid(self.layer)\n",
    "\n",
    "    def backprop(self, lr):\n",
    "        # application of the chain rule to find derivative of the loss function with respect to weights2 and weights1\n",
    "        self.error =  self.output - self.y_train\n",
    "        d_weights = lr*np.dot(self.input_train, (2*self.error * sigmoid_derivative(self.layer)))\n",
    "        # update the weights with the derivative (slope) of the loss function\n",
    "        self.weights -= d_weights\n",
    "        \n",
    "    def train(self, it, lr):\n",
    "        for i in range(it):\n",
    "            self.feedforward(train = True)\n",
    "            self.backprop(lr)\n",
    "            self.errors.append(sqrerror(self.error))\n",
    "            \n",
    "    def test(self,train):\n",
    "        self.feedforward(train)\n",
    "        self.pred = np.array(mlpclass(self.output.T))\n",
    "        if train == True:\n",
    "            label = np.array(mlpclass(self.y_train.T))\n",
    "        else:\n",
    "            label = np.array(mlpclass(self.y_test.T))\n",
    "        return score(label,self.pred)"
   ]
  },
  {
   "cell_type": "code",
   "execution_count": 354,
   "metadata": {},
   "outputs": [],
   "source": [
    "Basetrain = np.load('basetrain.npy')\n",
    "Basetrain = Basetrain/255\n",
    "\n",
    "Labeltrain = np.load('labeltrain.npy')\n",
    "Labeltrain = np.array(label2target(Labeltrain,10)).T\n",
    "\n",
    "Basetest = np.load('basetest.npy')\n",
    "Basetest = Basetest/255\n",
    "\n",
    "Labeltest = np.load('labeltest.npy')\n",
    "Labeltest = np.array(label2target(Labeltest,10)).T"
   ]
  },
  {
   "cell_type": "code",
   "execution_count": 426,
   "metadata": {},
   "outputs": [],
   "source": [
    "nn = NeuralNetwork(Basetrain,Labeltrain,Basetest,Labeltest, w_sup = 1e-3, n_out=10)"
   ]
  },
  {
   "cell_type": "code",
   "execution_count": 427,
   "metadata": {},
   "outputs": [],
   "source": [
    "it, lr = 100, 1e-2\n",
    "nn.train(it,lr)"
   ]
  },
  {
   "cell_type": "code",
   "execution_count": 428,
   "metadata": {},
   "outputs": [
    {
     "data": {
      "image/png": "[encoded data removed]",
      "text/plain": [
       "<Figure size 432x288 with 1 Axes>"
      ]
     },
     "metadata": {
      "needs_background": "light"
     },
     "output_type": "display_data"
    },
    {
     "data": {
      "text/plain": [
       "{'nb': 1040, 'taux': 0.1}"
      ]
     },
     "execution_count": 428,
     "metadata": {},
     "output_type": "execute_result"
    }
   ],
   "source": [
    "iterations = np.linspace(1,it,it)\n",
    "plt.plot(iterations,nn.errors)\n",
    "plt.title(\"Evolution de l'erreur quadratique\")\n",
    "plt.xlabel('Itérations')\n",
    "plt.ylabel('Erreur')\n",
    "plt.show()\n",
    "nn.test(train = True)"
   ]
  },
  {
   "cell_type": "code",
   "execution_count": 359,
   "metadata": {},
   "outputs": [
    {
     "data": {
      "text/plain": [
       "{'nb': 949, 'taux': 0.47}"
      ]
     },
     "execution_count": 359,
     "metadata": {},
     "output_type": "execute_result"
    }
   ],
   "source": [
    "nn.test(train=False)"
   ]
  },
  {
   "cell_type": "code",
   "execution_count": 11,
   "metadata": {},
   "outputs": [],
   "source": [
    "class TwoLayersNeuralNetwork:\n",
    "    def __init__(self, x_train, y_train, x_test, y_test, w_sup, nb_hidden):\n",
    "        self.input_train = np.concatenate((np.ones((1,np.shape(x_train)[1])),x_train),axis=0)\n",
    "        self.input_test  = np.concatenate((np.ones((1,np.shape(x_test)[1])),x_test),axis=0)\n",
    "        self.weights1    = np.random.rand(self.input_train.shape[0],nb_hidden)*w_sup\n",
    "        self.weights2    = np.random.rand(nb_hidden,10)*w_sup\n",
    "        self.y_train     = y_train \n",
    "        self.y_test      = y_test\n",
    "        self.output      = np.zeros(y_train.shape)\n",
    "        self.errors      = []\n",
    "        \n",
    "    def feedforward(self, train):\n",
    "        if train == True:\n",
    "            self.layer1   = np.dot(self.input_train.T, self.weights1)\n",
    "            self.output1  = sigmoid(self.layer1)\n",
    "            self.layer2   = np.dot(self.output1, self.weights2)\n",
    "            self.output2  = sigmoid(self.layer2)\n",
    "        else:\n",
    "            self.layer1   = np.dot(self.input_test.T, self.weights1)\n",
    "            self.output1  = sigmoid(self.layer1)\n",
    "            self.layer2   = np.dot(self.output1, self.weights2)\n",
    "            self.output2  = sigmoid(self.layer2)\n",
    "\n",
    "    def backprop(self, lr):\n",
    "        self.error = self.output2 - self.y_train\n",
    "        delta2 = 2*self.error * sigmoid_derivative(self.layer2)\n",
    "        d_weights2 = lr*np.dot(self.output1.T, delta2)\n",
    "        delta1 = sigmoid_derivative(self.layer1)*np.dot(delta2,self.weights2.T)\n",
    "        d_weights1 = lr*np.dot(self.input_train, delta1)\n",
    "        self.weights1 -= d_weights1\n",
    "        self.weights2 -= d_weights2\n",
    "                \n",
    "    def train(self, it, lr):\n",
    "        for i in range(it):\n",
    "            self.feedforward(train = True)\n",
    "            self.backprop(lr)\n",
    "            self.errors.append(sqrerror(self.error))\n",
    "            \n",
    "    def test(self,train):\n",
    "        self.feedforward(train)\n",
    "        self.pred = np.array(mlpclass(self.output.T))\n",
    "        if train == True:\n",
    "            label = np.array(mlpclass(self.y_train.T))\n",
    "        else:\n",
    "            label = np.array(mlpclass(self.y_test.T))\n",
    "        return score(label,self.pred)"
   ]
  },
  {
   "cell_type": "code",
   "execution_count": 246,
   "metadata": {},
   "outputs": [
    {
     "data": {
      "image/png": "[encoded data removed]",
      "text/plain": [
       "<Figure size 432x288 with 1 Axes>"
      ]
     },
     "metadata": {
      "needs_background": "light"
     },
     "output_type": "display_data"
    }
   ],
   "source": [
    "X = np.array([[20,15,16,5,16,2],[8,20,10,15,6,20]])\n",
    "Y = np.array([0,0,1,1,1,1]).T\n",
    "Y = np.reshape(Y,(6,1))\n",
    "XX = np.array([[5,10,17.5,10,10],[10,14,14,25,30]])\n",
    "YY = np.array([1,1,0,1,0]).T\n",
    "YY = np.reshape(YY,(5,1))\n",
    "x = np.linspace(0,20,100)\n",
    "y = [47 - 2*e for e in x]\n",
    "plt.plot(X[0][0:2],X[1][0:2],'o',color='red')\n",
    "plt.plot(X[0][2:6],X[1][2:6],'o',color='blue')\n",
    "plt.plot(XX[0],XX[1],'o',color='gray')\n",
    "plt.plot(x,y)\n",
    "plt.show()"
   ]
  },
  {
   "cell_type": "code",
   "execution_count": 340,
   "metadata": {},
   "outputs": [],
   "source": [
    "nn = NeuralNetwork(X,Y,XX,YY, w_sup = 1e-3, n_out = 1)\n",
    "it, lr = 2000, 1e-3\n",
    "nn.train(it,lr)"
   ]
  },
  {
   "cell_type": "code",
   "execution_count": 341,
   "metadata": {},
   "outputs": [
    {
     "data": {
      "image/png": "[encoded data removed]",
      "text/plain": [
       "<Figure size 432x288 with 1 Axes>"
      ]
     },
     "metadata": {
      "needs_background": "light"
     },
     "output_type": "display_data"
    },
    {
     "name": "stdout",
     "output_type": "stream",
     "text": [
      "{'nb': 4, 'taux': 0.67} [0 0 0 1 0 1]\n"
     ]
    }
   ],
   "source": [
    "iterations = np.linspace(1,it,it)\n",
    "plt.plot(iterations,nn.errors)\n",
    "plt.title(\"Evolution de l'erreur quadratique\")\n",
    "plt.xlabel('Itérations')\n",
    "plt.ylabel('Erreur')\n",
    "plt.show()\n",
    "print(nn.test(train = True),nn.pred)"
   ]
  },
  {
   "cell_type": "code",
   "execution_count": 250,
   "metadata": {},
   "outputs": [
    {
     "data": {
      "image/png": "[encoded data removed]",
      "text/plain": [
       "<Figure size 432x288 with 1 Axes>"
      ]
     },
     "metadata": {
      "needs_background": "light"
     },
     "output_type": "display_data"
    }
   ],
   "source": [
    "X = np.array([[20,15,16,5,16,2],[8,20,10,15,6,20]])\n",
    "Y = np.array([-1,-1,1,1,1,1]).T\n",
    "Y = np.reshape(Y,(6,1))\n",
    "XX = np.array([[5,10,17.5,10,10],[10,14,14,25,30]])\n",
    "YY = np.array([1,1,-1,1,-1]).T\n",
    "YY = np.reshape(YY,(5,1))\n",
    "x = np.linspace(0,40,100)\n",
    "y = [47 - 2*e for e in x]\n",
    "b = -nn.weights[0][0]/nn.weights[2][0]\n",
    "c = -(nn.weights[1][0]/nn.weights[2][0])\n",
    "yy = [b+c*e for e in x]\n",
    "plt.plot(X[0][0:2],X[1][0:2],'o',color='red')\n",
    "plt.plot(X[0][2:6],X[1][2:6],'o',color='blue')\n",
    "plt.plot(XX[0],XX[1],'o',color='gray')\n",
    "plt.plot(x,y)\n",
    "plt.plot(x,yy)\n",
    "plt.show()"
   ]
  },
  {
   "cell_type": "code",
   "execution_count": 200,
   "metadata": {},
   "outputs": [
    {
     "data": {
      "text/plain": [
       "{'nb': 4, 'taux': 0.8}"
      ]
     },
     "execution_count": 200,
     "metadata": {},
     "output_type": "execute_result"
    }
   ],
   "source": [
    "nn.test(train=False)"
   ]
  },
  {
   "cell_type": "code",
   "execution_count": 17,
   "metadata": {},
   "outputs": [
    {
     "data": {
      "image/png": "[encoded data removed]",
      "text/plain": [
       "<Figure size 432x288 with 1 Axes>"
      ]
     },
     "metadata": {
      "needs_background": "light"
     },
     "output_type": "display_data"
    },
    {
     "data": {
      "text/plain": [
       "{'nb': 1038, 'taux': 0.1}"
      ]
     },
     "execution_count": 17,
     "metadata": {},
     "output_type": "execute_result"
    }
   ],
   "source": [
    "twonn = TwoLayersNeuralNetwork(Basetrain,Labeltrain,Basetest,Labeltest, w_sup = 1e-2,nb_hidden=20)\n",
    "it, lr = 100, 1e-6\n",
    "twonn.train(it,lr)\n",
    "iterations = np.linspace(1,it,it)\n",
    "plt.plot(iterations,twonn.errors)\n",
    "plt.title(\"Evolution de l'erreur quadratique\")\n",
    "plt.xlabel('Itérations')\n",
    "plt.ylabel('Erreur')\n",
    "plt.show()\n",
    "twonn.test(train = True)"
   ]
  }
 ],
 "metadata": {
  "kernelspec": {
   "display_name": "Python 3",
   "language": "python",
   "name": "python3"
  },
  "language_info": {
   "codemirror_mode": {
    "name": "ipython",
    "version": 3
   },
   "file_extension": ".py",
   "mimetype": "text/x-python",
   "name": "python",
   "nbconvert_exporter": "python",
   "pygments_lexer": "ipython3",
   "version": "3.7.4"
  }
 },
 "nbformat": 4,
 "nbformat_minor": 2
}
