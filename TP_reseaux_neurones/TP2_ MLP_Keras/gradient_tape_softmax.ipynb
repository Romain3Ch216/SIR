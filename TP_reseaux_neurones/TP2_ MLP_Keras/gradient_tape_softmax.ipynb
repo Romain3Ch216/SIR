{
 "cells": [
  {
   "cell_type": "code",
   "execution_count": 1,
   "metadata": {},
   "outputs": [],
   "source": [
    "import tensorflow as tf\n",
    "import numpy as np\n",
    "import matplotlib.pyplot as plt\n",
    "from tensorflow.keras.layers import Dense\n",
    "from tensorflow.keras import Model"
   ]
  },
  {
   "cell_type": "code",
   "execution_count": 14,
   "metadata": {},
   "outputs": [],
   "source": [
    "# X = np.array([[0.3],[1.1],[-1.9]])\n",
    "X = np.array([0.3,1.1,-1.9])\n",
    "Y = np.array([0,1,0])"
   ]
  },
  {
   "cell_type": "code",
   "execution_count": 89,
   "metadata": {},
   "outputs": [],
   "source": [
    "x = tf.constant([0.3,1.1,-1.9])\n",
    "y = tf.constant([0.0,1.0,0.0])\n",
    "with tf.GradientTape(watch_accessed_variables=True) as tape:\n",
    "    tape.watch(x)\n",
    "    a = tf.nn.softmax(x)\n",
    "    e = -tf.tensordot(tf.math.log(a),y,1)\n",
    "b = tape.gradient(e,x)"
   ]
  }
 ],
 "metadata": {
  "kernelspec": {
   "display_name": "Python 3",
   "language": "python",
   "name": "python3"
  },
  "language_info": {
   "codemirror_mode": {
    "name": "ipython",
    "version": 3
   },
   "file_extension": ".py",
   "mimetype": "text/x-python",
   "name": "python",
   "nbconvert_exporter": "python",
   "pygments_lexer": "ipython3",
   "version": "3.7.4"
  }
 },
 "nbformat": 4,
 "nbformat_minor": 2
}
