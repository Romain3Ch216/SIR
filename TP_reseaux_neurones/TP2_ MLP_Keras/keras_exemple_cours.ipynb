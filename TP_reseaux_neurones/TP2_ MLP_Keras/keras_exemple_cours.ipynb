{
 "cells": [
  {
   "cell_type": "code",
   "execution_count": 1,
   "metadata": {},
   "outputs": [],
   "source": [
    "import tensorflow as tf\n",
    "import numpy as np\n",
    "import matplotlib.pyplot as plt\n",
    "from tensorflow.keras.layers import Dense\n",
    "from tensorflow.keras import Model"
   ]
  },
  {
   "cell_type": "code",
   "execution_count": 10,
   "metadata": {},
   "outputs": [],
   "source": [
    "class LinearModel(Model):\n",
    "    def __init__(self):\n",
    "        super(LinearModel, self).__init__()\n",
    "        self.fc1 = Dense(1, activation='sigmoid')\n",
    "        \n",
    "    def call(self,x):\n",
    "        x = self.fc1(x)\n",
    "        return x"
   ]
  },
  {
   "cell_type": "code",
   "execution_count": 11,
   "metadata": {},
   "outputs": [],
   "source": [
    "linear_model = LinearModel()\n",
    "loss_object = tf.keras.losses.MeanSquaredError()\n",
    "sgd = tf.keras.optimizers.SGD(lr=0.05, momentum=0.9)"
   ]
  },
  {
   "cell_type": "code",
   "execution_count": 12,
   "metadata": {},
   "outputs": [],
   "source": [
    "@tf.function\n",
    "def train_step(data,labels):\n",
    "    with tf.GradientTape() as tape:\n",
    "        predictions = linear_model(data)\n",
    "        loss = loss_object(labels,predictions)\n",
    "    gradients = tape.gradient(loss, linear_model.trainable_variables)\n",
    "    sgd.apply_gradients(zip(gradients, linear_model.trainable_variables))"
   ]
  },
  {
   "cell_type": "code",
   "execution_count": 13,
   "metadata": {},
   "outputs": [],
   "source": [
    "x_train = np.array([[18,20,10,25,18,16,5,12,2,5,10,8],[30,14,30,8,20,10,15,6,20,10,14,25]]).T\n",
    "x_train = np.concatenate((x_train,np.ones((x_train[:,0].shape[0],1))),axis=1)\n",
    "y_train = np.array([0,0,0,0,0,1,1,1,1,1,1,1]).T\n",
    "\n",
    "batch_size = 12\n",
    "train_ds = [[x_train[i*batch_size:(i+1)*batch_size,:],y_train[i*batch_size:(i+1)*batch_size]] for i in range(int(x_train.shape[0]/batch_size))]"
   ]
  },
  {
   "cell_type": "code",
   "execution_count": 14,
   "metadata": {},
   "outputs": [
    {
     "name": "stdout",
     "output_type": "stream",
     "text": [
      "WARNING:tensorflow:Layer linear_model is casting an input tensor from dtype float64 to the layer's dtype of float32, which is new behavior in TensorFlow 2.  The layer has dtype float32 because it's dtype defaults to floatx.\n",
      "\n",
      "If you intended to run this layer in float32, you can safely ignore this warning. If in doubt, this warning is likely only an issue if you are porting a TensorFlow 1.X model to TensorFlow 2.\n",
      "\n",
      "To change all layers to have dtype float64 by default, call `tf.keras.backend.set_floatx('float64')`. To change just this layer, pass dtype='float64' to the layer constructor. If you are the author of this layer, you can disable autocasting by passing autocast=False to the base Layer constructor.\n",
      "\n"
     ]
    }
   ],
   "source": [
    "EPOCHS = 1000\n",
    "\n",
    "for epoch in range(EPOCHS):\n",
    "    for data, labels in train_ds:\n",
    "        train_step(data,labels)"
   ]
  },
  {
   "cell_type": "code",
   "execution_count": 15,
   "metadata": {},
   "outputs": [
    {
     "data": {
      "image/png": "[encoded data removed]",
      "text/plain": [
       "<Figure size 432x288 with 1 Axes>"
      ]
     },
     "metadata": {
      "needs_background": "light"
     },
     "output_type": "display_data"
    }
   ],
   "source": [
    "for i in np.arange(0,25.1,1):\n",
    "    for j in np.arange(0,30.1,1):\n",
    "        z = xor_model.call(np.array([[i,j,1]]))\n",
    "        if z > 0.5:\n",
    "            plt.plot(i,j,'.r')\n",
    "        else:\n",
    "            plt.plot(i,j,'.b')\n",
    "            \n",
    "for i in range(y_train.size):\n",
    "    if y_train[i] ==1:\n",
    "        fig = plt.plot(x_train[i,0],x_train[i,1],'ro')\n",
    "    else:\n",
    "        fig = plt.plot(x_train[i,0],x_train[i,1],'bo')\n",
    "    plt.setp(fig, markersize = 10)"
   ]
  }
 ],
 "metadata": {
  "kernelspec": {
   "display_name": "Python 3",
   "language": "python",
   "name": "python3"
  },
  "language_info": {
   "codemirror_mode": {
    "name": "ipython",
    "version": 3
   },
   "file_extension": ".py",
   "mimetype": "text/x-python",
   "name": "python",
   "nbconvert_exporter": "python",
   "pygments_lexer": "ipython3",
   "version": "3.7.4"
  }
 },
 "nbformat": 4,
 "nbformat_minor": 2
}
