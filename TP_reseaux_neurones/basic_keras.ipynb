{
 "cells": [
  {
   "cell_type": "code",
   "execution_count": 2,
   "metadata": {},
   "outputs": [],
   "source": [
    "import tensorflow as tf\n",
    "import numpy as np\n",
    "import matplotlib.pyplot as plt"
   ]
  },
  {
   "cell_type": "code",
   "execution_count": 58,
   "metadata": {},
   "outputs": [],
   "source": [
    "x_train = np.array([[18,20,10,25,18,16,5,12,2,5,10,8],[30,14,30,8,20,10,15,6,20,10,14,25]]).T\n",
    "x_train = np.concatenate((x_train,np.ones((x_train[:,0].shape[0],1))),axis=1)\n",
    "y_train = np.array([0,0,0,0,0,1,1,1,1,1,1,1]).T"
   ]
  },
  {
   "cell_type": "code",
   "execution_count": 75,
   "metadata": {},
   "outputs": [],
   "source": [
    "model = tf.keras.models.Sequential([\n",
    "    tf.keras.layers.Dense(1, activation='sigmoid')\n",
    "])\n",
    "\n",
    "model.compile(optimizer=tf.keras.optimizers.SGD(learning_rate=0.001),\n",
    "              loss=tf.keras.losses.MeanSquaredError(),\n",
    "              metrics=['accuracy'])"
   ]
  },
  {
   "cell_type": "code",
   "execution_count": 76,
   "metadata": {},
   "outputs": [
    {
     "name": "stdout",
     "output_type": "stream",
     "text": [
      "Train on 12 samples\n",
      "Epoch 1/10\n",
      "12/12 [==============================] - 0s 38ms/sample - loss: 0.4167 - accuracy: 0.5833\n",
      "Epoch 2/10\n",
      "12/12 [==============================] - 0s 281us/sample - loss: 0.4167 - accuracy: 0.5833\n",
      "Epoch 3/10\n",
      "12/12 [==============================] - 0s 357us/sample - loss: 0.4167 - accuracy: 0.5833\n",
      "Epoch 4/10\n",
      "12/12 [==============================] - 0s 329us/sample - loss: 0.4167 - accuracy: 0.5833\n",
      "Epoch 5/10\n",
      "12/12 [==============================] - 0s 426us/sample - loss: 0.4167 - accuracy: 0.5833\n",
      "Epoch 6/10\n",
      "12/12 [==============================] - 0s 441us/sample - loss: 0.4167 - accuracy: 0.5833\n",
      "Epoch 7/10\n",
      "12/12 [==============================] - 0s 248us/sample - loss: 0.4167 - accuracy: 0.5833\n",
      "Epoch 8/10\n",
      "12/12 [==============================] - 0s 706us/sample - loss: 0.4167 - accuracy: 0.5833\n",
      "Epoch 9/10\n",
      "12/12 [==============================] - 0s 323us/sample - loss: 0.4167 - accuracy: 0.5833\n",
      "Epoch 10/10\n",
      "12/12 [==============================] - 0s 325us/sample - loss: 0.4167 - accuracy: 0.5833\n"
     ]
    },
    {
     "data": {
      "text/plain": [
       "<tensorflow.python.keras.callbacks.History at 0x7f4848199810>"
      ]
     },
     "execution_count": 76,
     "metadata": {},
     "output_type": "execute_result"
    }
   ],
   "source": [
    "model.fit(x_train, y_train, epochs=10)"
   ]
  },
  {
   "cell_type": "code",
   "execution_count": 64,
   "metadata": {},
   "outputs": [],
   "source": [
    "weights = model.layers[0].get_weights\n",
    "weights = model.weights"
   ]
  },
  {
   "cell_type": "code",
   "execution_count": 17,
   "metadata": {},
   "outputs": [],
   "source": [
    "%qtconsole"
   ]
  }
 ],
 "metadata": {
  "kernelspec": {
   "display_name": "Python 3",
   "language": "python",
   "name": "python3"
  },
  "language_info": {
   "codemirror_mode": {
    "name": "ipython",
    "version": 3
   },
   "file_extension": ".py",
   "mimetype": "text/x-python",
   "name": "python",
   "nbconvert_exporter": "python",
   "pygments_lexer": "ipython3",
   "version": "3.7.4"
  }
 },
 "nbformat": 4,
 "nbformat_minor": 2
}
