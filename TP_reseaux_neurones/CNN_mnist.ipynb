{
 "cells": [
  {
   "cell_type": "code",
   "execution_count": 1,
   "metadata": {},
   "outputs": [],
   "source": [
    "import tensorflow as tf\n",
    "import numpy as np\n",
    "import matplotlib.pyplot as plt\n",
    "from tensorflow.keras import layers, models, callbacks"
   ]
  },
  {
   "cell_type": "code",
   "execution_count": 2,
   "metadata": {},
   "outputs": [],
   "source": [
    "mnist = tf.keras.datasets.mnist\n",
    "\n",
    "(x_train, y_train), (x_test, y_test) = mnist.load_data()\n",
    "x_train, x_test = x_train / 255.0, x_test / 255.0\n",
    "\n",
    "N,n,m = x_train.shape\n",
    "x_train = np.reshape(x_train,(N,n,m,1))\n",
    "\n",
    "N,n,m = x_test.shape\n",
    "x_test = np.reshape(x_test,(N,n,m,1))"
   ]
  },
  {
   "cell_type": "code",
   "execution_count": 3,
   "metadata": {},
   "outputs": [],
   "source": [
    "def displayConvLayer(layer_name):\n",
    "    weights = layer_name.get_weights()[0]\n",
    "    for i in range(weights.shape[-1]):\n",
    "        for j in range(weights.shape[-2]):\n",
    "            weight = np.reshape(weights[:,:,j,i],(5,5))\n",
    "            plt.imshow(weight)\n",
    "            plt.show()\n",
    "    return weights"
   ]
  },
  {
   "cell_type": "code",
   "execution_count": 4,
   "metadata": {},
   "outputs": [
    {
     "name": "stdout",
     "output_type": "stream",
     "text": [
      "Model: \"sequential\"\n",
      "_________________________________________________________________\n",
      "Layer (type)                 Output Shape              Param #   \n",
      "=================================================================\n",
      "conv2d (Conv2D)              (None, 28, 28, 6)         156       \n",
      "_________________________________________________________________\n",
      "max_pooling2d (MaxPooling2D) (None, 14, 14, 6)         0         \n",
      "_________________________________________________________________\n",
      "conv2d_1 (Conv2D)            (None, 10, 10, 16)        2416      \n",
      "_________________________________________________________________\n",
      "max_pooling2d_1 (MaxPooling2 (None, 5, 5, 16)          0         \n",
      "_________________________________________________________________\n",
      "flatten (Flatten)            (None, 400)               0         \n",
      "_________________________________________________________________\n",
      "dense (Dense)                (None, 120)               48120     \n",
      "_________________________________________________________________\n",
      "dense_1 (Dense)              (None, 80)                9680      \n",
      "_________________________________________________________________\n",
      "dense_2 (Dense)              (None, 10)                810       \n",
      "=================================================================\n",
      "Total params: 61,182\n",
      "Trainable params: 61,182\n",
      "Non-trainable params: 0\n",
      "_________________________________________________________________\n"
     ]
    }
   ],
   "source": [
    "model = models.Sequential()\n",
    "conv1 = layers.Conv2D(6, (5, 5), padding='same', activation='relu', input_shape=(28, 28 ,1))\n",
    "model.add(conv1)\n",
    "model.add(layers.MaxPooling2D((2, 2)))\n",
    "conv2 = layers.Conv2D(16, (5, 5), activation='relu')\n",
    "model.add(conv2)\n",
    "model.add(layers.MaxPooling2D((2, 2)))\n",
    "model.add(layers.Flatten(input_shape=(5, 5, 16)))\n",
    "model.add(layers.Dense(120, activation='relu'))\n",
    "model.add(layers.Dense(80, activation='relu'))\n",
    "model.add(layers.Dense(10, activation='softmax'))\n",
    "model.summary()"
   ]
  },
  {
   "cell_type": "code",
   "execution_count": 5,
   "metadata": {},
   "outputs": [],
   "source": [
    "#print_weights = callbacks.LambdaCallback(on_epoch_end=lambda batch, logs: print(conv1.get_weights()[0]))"
   ]
  },
  {
   "cell_type": "code",
   "execution_count": 6,
   "metadata": {},
   "outputs": [],
   "source": [
    "model.compile(optimizer='adam',\n",
    "              loss=tf.keras.losses.CategoricalCrossentropy(),\n",
    "              metrics=['accuracy'])"
   ]
  },
  {
   "cell_type": "code",
   "execution_count": 7,
   "metadata": {},
   "outputs": [
    {
     "data": {
      "image/png": "[encoded data removed]",
      "text/plain": [
       "<Figure size 432x288 with 1 Axes>"
      ]
     },
     "metadata": {
      "needs_background": "light"
     },
     "output_type": "display_data"
    },
    {
     "data": {
      "image/png": "[encoded data removed]",
      "text/plain": [
       "<Figure size 432x288 with 1 Axes>"
      ]
     },
     "metadata": {
      "needs_background": "light"
     },
     "output_type": "display_data"
    },
    {
     "data": {
      "image/png": "[encoded data removed]",
      "text/plain": [
       "<Figure size 432x288 with 1 Axes>"
      ]
     },
     "metadata": {
      "needs_background": "light"
     },
     "output_type": "display_data"
    },
    {
     "data": {
      "image/png": "[encoded data removed]",
      "text/plain": [
       "<Figure size 432x288 with 1 Axes>"
      ]
     },
     "metadata": {
      "needs_background": "light"
     },
     "output_type": "display_data"
    },
    {
     "data": {
      "image/png": "[encoded data removed]",
      "text/plain": [
       "<Figure size 432x288 with 1 Axes>"
      ]
     },
     "metadata": {
      "needs_background": "light"
     },
     "output_type": "display_data"
    },
    {
     "data": {
      "image/png": "[encoded data removed]",
      "text/plain": [
       "<Figure size 432x288 with 1 Axes>"
      ]
     },
     "metadata": {
      "needs_background": "light"
     },
     "output_type": "display_data"
    }
   ],
   "source": [
    "weights_i  = displayConvLayer(conv1)"
   ]
  },
  {
   "cell_type": "code",
   "execution_count": 8,
   "metadata": {},
   "outputs": [
    {
     "name": "stdout",
     "output_type": "stream",
     "text": [
      "Train on 60000 samples, validate on 10000 samples\n",
      "Epoch 1/20\n",
      "60000/60000 [==============================] - 66s 1ms/sample - loss: 0.2875 - accuracy: 0.9184 - val_loss: 0.0824 - val_accuracy: 0.9742\n",
      "Epoch 2/20\n",
      "60000/60000 [==============================] - 59s 991us/sample - loss: 0.0756 - accuracy: 0.9770 - val_loss: 0.0519 - val_accuracy: 0.9829\n",
      "Epoch 3/20\n",
      "60000/60000 [==============================] - 61s 1ms/sample - loss: 0.0538 - accuracy: 0.9832 - val_loss: 0.0468 - val_accuracy: 0.9854\n",
      "Epoch 4/20\n",
      "60000/60000 [==============================] - 61s 1ms/sample - loss: 0.0430 - accuracy: 0.9866 - val_loss: 0.0361 - val_accuracy: 0.9878\n",
      "Epoch 5/20\n",
      "60000/60000 [==============================] - 60s 1ms/sample - loss: 0.0356 - accuracy: 0.9888 - val_loss: 0.0368 - val_accuracy: 0.9877\n",
      "Epoch 6/20\n",
      "60000/60000 [==============================] - 63s 1ms/sample - loss: 0.0286 - accuracy: 0.9909 - val_loss: 0.0324 - val_accuracy: 0.9884\n",
      "Epoch 7/20\n",
      "60000/60000 [==============================] - 65s 1ms/sample - loss: 0.0258 - accuracy: 0.9915 - val_loss: 0.0272 - val_accuracy: 0.9902\n",
      "Epoch 8/20\n",
      "60000/60000 [==============================] - 73s 1ms/sample - loss: 0.0198 - accuracy: 0.9938 - val_loss: 0.0303 - val_accuracy: 0.9899\n",
      "Epoch 9/20\n",
      "60000/60000 [==============================] - 58s 969us/sample - loss: 0.0192 - accuracy: 0.9939 - val_loss: 0.0339 - val_accuracy: 0.9887\n",
      "Epoch 10/20\n",
      "60000/60000 [==============================] - 57s 952us/sample - loss: 0.0173 - accuracy: 0.9944 - val_loss: 0.0309 - val_accuracy: 0.9905\n",
      "Epoch 11/20\n",
      "60000/60000 [==============================] - 55s 914us/sample - loss: 0.0138 - accuracy: 0.9952 - val_loss: 0.0314 - val_accuracy: 0.9902\n",
      "Epoch 12/20\n",
      "60000/60000 [==============================] - 70s 1ms/sample - loss: 0.0124 - accuracy: 0.9962 - val_loss: 0.0341 - val_accuracy: 0.9901\n",
      "Epoch 13/20\n",
      "60000/60000 [==============================] - 70s 1ms/sample - loss: 0.0121 - accuracy: 0.9958 - val_loss: 0.0347 - val_accuracy: 0.9899\n",
      "Epoch 14/20\n",
      "60000/60000 [==============================] - 56s 933us/sample - loss: 0.0096 - accuracy: 0.9968 - val_loss: 0.0354 - val_accuracy: 0.9899\n",
      "Epoch 15/20\n",
      "60000/60000 [==============================] - 54s 903us/sample - loss: 0.0098 - accuracy: 0.9969 - val_loss: 0.0341 - val_accuracy: 0.9909\n",
      "Epoch 16/20\n",
      "60000/60000 [==============================] - 64s 1ms/sample - loss: 0.0081 - accuracy: 0.9975 - val_loss: 0.0367 - val_accuracy: 0.9905\n",
      "Epoch 17/20\n",
      "60000/60000 [==============================] - 65s 1ms/sample - loss: 0.0086 - accuracy: 0.9971 - val_loss: 0.0444 - val_accuracy: 0.9879\n",
      "Epoch 18/20\n",
      "60000/60000 [==============================] - 58s 973us/sample - loss: 0.0078 - accuracy: 0.9970 - val_loss: 0.0531 - val_accuracy: 0.9870\n",
      "Epoch 19/20\n",
      "60000/60000 [==============================] - 57s 954us/sample - loss: 0.0070 - accuracy: 0.9976 - val_loss: 0.0370 - val_accuracy: 0.9913\n",
      "Epoch 20/20\n",
      "60000/60000 [==============================] - 58s 973us/sample - loss: 0.0051 - accuracy: 0.9982 - val_loss: 0.0306 - val_accuracy: 0.9926\n"
     ]
    }
   ],
   "source": [
    "history = model.fit(x_train, tf.one_hot(y_train,10), batch_size  = 128, epochs=20,\n",
    "          validation_data=(x_test, tf.one_hot(y_test,10)))"
   ]
  },
  {
   "cell_type": "code",
   "execution_count": 9,
   "metadata": {},
   "outputs": [
    {
     "data": {
      "image/png": "[encoded data removed]",
      "text/plain": [
       "<Figure size 432x288 with 1 Axes>"
      ]
     },
     "metadata": {
      "needs_background": "light"
     },
     "output_type": "display_data"
    },
    {
     "data": {
      "image/png": "[encoded data removed]",
      "text/plain": [
       "<Figure size 432x288 with 1 Axes>"
      ]
     },
     "metadata": {
      "needs_background": "light"
     },
     "output_type": "display_data"
    },
    {
     "data": {
      "image/png": "[encoded data removed]",
      "text/plain": [
       "<Figure size 432x288 with 1 Axes>"
      ]
     },
     "metadata": {
      "needs_background": "light"
     },
     "output_type": "display_data"
    },
    {
     "data": {
      "image/png": "[encoded data removed]",
      "text/plain": [
       "<Figure size 432x288 with 1 Axes>"
      ]
     },
     "metadata": {
      "needs_background": "light"
     },
     "output_type": "display_data"
    },
    {
     "data": {
      "image/png": "[encoded data removed]",
      "text/plain": [
       "<Figure size 432x288 with 1 Axes>"
      ]
     },
     "metadata": {
      "needs_background": "light"
     },
     "output_type": "display_data"
    },
    {
     "data": {
      "image/png": "[encoded data removed]",
      "text/plain": [
       "<Figure size 432x288 with 1 Axes>"
      ]
     },
     "metadata": {
      "needs_background": "light"
     },
     "output_type": "display_data"
    }
   ],
   "source": [
    "weights_f = displayConvLayer(conv1)"
   ]
  },
  {
   "cell_type": "code",
   "execution_count": 10,
   "metadata": {},
   "outputs": [
    {
     "name": "stdout",
     "output_type": "stream",
     "text": [
      "10000/1 - 5s - loss: 0.0153 - accuracy: 0.9926\n"
     ]
    },
    {
     "data": {
      "image/png": "[encoded data removed]",
      "text/plain": [
       "<Figure size 432x288 with 1 Axes>"
      ]
     },
     "metadata": {
      "needs_background": "light"
     },
     "output_type": "display_data"
    }
   ],
   "source": [
    "plt.plot(history.history['accuracy'], label='accuracy')\n",
    "plt.plot(history.history['val_accuracy'], label = 'val_accuracy')\n",
    "plt.xlabel('Epoch')\n",
    "plt.ylabel('Accuracy')\n",
    "plt.ylim([0.5, 1])\n",
    "plt.legend(loc='lower right')\n",
    "\n",
    "test_loss, test_acc = model.evaluate(x_test,  tf.one_hot(y_test,10), verbose=2)"
   ]
  },
  {
   "cell_type": "code",
   "execution_count": 11,
   "metadata": {},
   "outputs": [
    {
     "data": {
      "text/plain": [
       "Text(0, 0.5, 'Loss')"
      ]
     },
     "execution_count": 11,
     "metadata": {},
     "output_type": "execute_result"
    },
    {
     "data": {
      "image/png": "[encoded data removed]",
      "text/plain": [
       "<Figure size 432x288 with 1 Axes>"
      ]
     },
     "metadata": {
      "needs_background": "light"
     },
     "output_type": "display_data"
    }
   ],
   "source": [
    "plt.plot(history.history['loss'], label='loss')\n",
    "plt.xlabel('Epoch')\n",
    "plt.ylabel('Loss')"
   ]
  }
 ],
 "metadata": {
  "kernelspec": {
   "display_name": "Python 3",
   "language": "python",
   "name": "python3"
  },
  "language_info": {
   "codemirror_mode": {
    "name": "ipython",
    "version": 3
   },
   "file_extension": ".py",
   "mimetype": "text/x-python",
   "name": "python",
   "nbconvert_exporter": "python",
   "pygments_lexer": "ipython3",
   "version": "3.7.4"
  }
 },
 "nbformat": 4,
 "nbformat_minor": 2
}
