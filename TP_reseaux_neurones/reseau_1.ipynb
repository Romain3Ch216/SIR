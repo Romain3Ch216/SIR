{
 "cells": [
  {
   "cell_type": "code",
   "execution_count": 1,
   "metadata": {},
   "outputs": [],
   "source": [
    "import numpy as np\n",
    "import matplotlib.pyplot as plt\n",
    "import random as rd"
   ]
  },
  {
   "cell_type": "code",
   "execution_count": 2,
   "metadata": {},
   "outputs": [],
   "source": [
    "#Les exemples sont rangés en colonnes. Il y a 10 000 exemples (10 000 colonnes) de dimension 784 (784 lignes)\n",
    "Basetrain = np.load('basetrain.npy')\n",
    "Labeltrain = np.load('labeltrain.npy')\n",
    "Basetest = np.load('basetest.npy')\n",
    "Labeltest = np.load('labeltest.npy')"
   ]
  },
  {
   "cell_type": "code",
   "execution_count": 3,
   "metadata": {},
   "outputs": [],
   "source": [
    "#%qtconsole"
   ]
  },
  {
   "cell_type": "raw",
   "metadata": {},
   "source": [
    "plt.figure(1, figsize=(3, 3))\n",
    "plt.imshow(Basetest[1,:].reshape(28,28),cmap=plt.cm.gray_r)\n",
    "plt.show()"
   ]
  },
  {
   "cell_type": "code",
   "execution_count": 4,
   "metadata": {},
   "outputs": [],
   "source": [
    "def mlp1def(n, m):\n",
    "    #Crée un vecteur de poids aléatoires, m neurones, n entrées\n",
    "    w = np.zeros((m,n+1))\n",
    "    for i in range(m):\n",
    "        for j in range(n+1):\n",
    "            w[i,j] = rd.uniform(-1,1)\n",
    "    #w = np.random.rand(m,n+1)\n",
    "    return w"
   ]
  },
  {
   "cell_type": "code",
   "execution_count": 5,
   "metadata": {},
   "outputs": [],
   "source": [
    "def sigma(v):\n",
    "    #Définition de la fonction tanh\n",
    "    #return (1-np.exp(-2*v))/(1+np.exp(-2*v))\n",
    "    return np.tanh(v)"
   ]
  },
  {
   "cell_type": "code",
   "execution_count": 6,
   "metadata": {},
   "outputs": [],
   "source": [
    "def mlp1run(x,w):\n",
    "    if len(np.shape(x))==1:\n",
    "        x = np.concatenate(([1],x), axis=0)\n",
    "    else:\n",
    "        x = np.concatenate((np.ones((1,np.shape(x)[1])),x),axis=0)\n",
    "    #Calcul les sorties avant sigmoide\n",
    "    v = np.dot(w,x)\n",
    "    m,N = v.shape\n",
    "    V = np.zeros((m,N))\n",
    "    for i in range(m):\n",
    "        for j in range(N):\n",
    "            V[i,j] = sigma(v[i,j])\n",
    "    return {'v':v,'sig(v)':V,'x':x}"
   ]
  },
  {
   "cell_type": "code",
   "execution_count": 7,
   "metadata": {},
   "outputs": [],
   "source": [
    "def mlpclass(y):\n",
    "    #Retourne les classes de la sortie y \n",
    "    if len(x.shape)==1:\n",
    "        res = np.argmax(y)\n",
    "    else: \n",
    "        res = []\n",
    "        for i in range(y.shape[1]):\n",
    "            res.append(np.argmax(y[:,i]))\n",
    "    return res"
   ]
  },
  {
   "cell_type": "code",
   "execution_count": 8,
   "metadata": {},
   "outputs": [],
   "source": [
    "def score(label, pred):\n",
    "    #Retourne le score de la prédiction\n",
    "    verification = label == pred\n",
    "    res = [e for e in verification if e ==True]\n",
    "    nb = len(res)\n",
    "    taux = round(len(res)/len(verification),2)\n",
    "    return {'nb': nb,'taux': taux }"
   ]
  },
  {
   "cell_type": "code",
   "execution_count": 9,
   "metadata": {},
   "outputs": [],
   "source": [
    "def sigmop(v):\n",
    "    #calcule la dérivée de la tanh\n",
    "    return 1 - sigma(v)**2"
   ]
  },
  {
   "cell_type": "code",
   "execution_count": 10,
   "metadata": {},
   "outputs": [],
   "source": [
    "def label2target(c):\n",
    "    #Calcule les vecteurs de sortie désirée en fonction des classes en entrée\n",
    "    n = len(c)\n",
    "    res = -np.ones((10,n))\n",
    "    for i in range(n):\n",
    "        res[c[i],i] = 1\n",
    "    return res"
   ]
  },
  {
   "cell_type": "code",
   "execution_count": 11,
   "metadata": {},
   "outputs": [],
   "source": [
    "def mlperror(y, target):\n",
    "    #Calcule l'erreur\n",
    "    return target - y"
   ]
  },
  {
   "cell_type": "code",
   "execution_count": 12,
   "metadata": {},
   "outputs": [],
   "source": [
    "def sqrerror(error):\n",
    "    #Calcul l'erreur au sein des moindres carrés\n",
    "    sqrmatrix = [e**2 for e in error]\n",
    "    res = sum(sum(sqrmatrix))\n",
    "    return res"
   ]
  },
  {
   "cell_type": "code",
   "execution_count": 13,
   "metadata": {},
   "outputs": [
    {
     "name": "stdout",
     "output_type": "stream",
     "text": [
      "291.1535975933075\n"
     ]
    }
   ],
   "source": [
    "from time import time\n",
    "time1 = time()\n",
    "lr = 0.001\n",
    "it = 1000\n",
    "x = Basetrain/255\n",
    "target = label2target(Labeltrain)\n",
    "w = mlp1def(784,10)\n",
    "L = []\n",
    "for k in range(it):\n",
    "    run = mlp1run(x,w)\n",
    "    y = run['sig(v)']\n",
    "    v = run['v']\n",
    "    error = mlperror(y,target)\n",
    "    l = sqrerror(error)\n",
    "    dev = sigmop(v)\n",
    "    error_x_dev = error*dev\n",
    "    delta_w = lr*np.dot(error_x_dev,np.transpose(run['x']))\n",
    "    w = w + delta_w\n",
    "    L.append(l)\n",
    "time2 = time()\n",
    "print(time2-time1)"
   ]
  },
  {
   "cell_type": "code",
   "execution_count": 14,
   "metadata": {},
   "outputs": [
    {
     "data": {
      "image/png": "[encoded data removed]",
      "text/plain": [
       "<Figure size 432x288 with 1 Axes>"
      ]
     },
     "metadata": {
      "needs_background": "light"
     },
     "output_type": "display_data"
    }
   ],
   "source": [
    "axe_x=np.linspace(1,it,it)\n",
    "plt.plot(axe_x,L)\n",
    "plt.ylabel('Cout quadratique')\n",
    "plt.xlabel(\"Iterations d’apprentissage\")\n",
    "plt.show()"
   ]
  },
  {
   "cell_type": "code",
   "execution_count": 15,
   "metadata": {},
   "outputs": [],
   "source": [
    "run = mlp1run(Basetrain,w)\n",
    "pred = np.array(mlpclass(run['sig(v)']))\n",
    "target = np.array(mlpclass(label2target(Labeltrain)))\n",
    "s_test = score(target,pred)"
   ]
  },
  {
   "cell_type": "code",
   "execution_count": 16,
   "metadata": {},
   "outputs": [
    {
     "name": "stdout",
     "output_type": "stream",
     "text": [
      "{'nb': 1938, 'taux': 0.19}\n"
     ]
    }
   ],
   "source": [
    "print(s_test)"
   ]
  },
  {
   "cell_type": "code",
   "execution_count": 17,
   "metadata": {},
   "outputs": [],
   "source": [
    "run = mlp1run(Basetest,w)\n",
    "pred = np.array(mlpclass(run['sig(v)']))"
   ]
  },
  {
   "cell_type": "code",
   "execution_count": 18,
   "metadata": {},
   "outputs": [],
   "source": [
    "target = np.array(mlpclass(label2target(Labeltest)))\n",
    "s = score(target,pred)"
   ]
  },
  {
   "cell_type": "code",
   "execution_count": 19,
   "metadata": {},
   "outputs": [
    {
     "name": "stdout",
     "output_type": "stream",
     "text": [
      "{'nb': 405, 'taux': 0.2}\n"
     ]
    }
   ],
   "source": [
    "print(s)"
   ]
  }
 ],
 "metadata": {
  "kernelspec": {
   "display_name": "Python 3",
   "language": "python",
   "name": "python3"
  },
  "language_info": {
   "codemirror_mode": {
    "name": "ipython",
    "version": 3
   },
   "file_extension": ".py",
   "mimetype": "text/x-python",
   "name": "python",
   "nbconvert_exporter": "python",
   "pygments_lexer": "ipython3",
   "version": "3.7.4"
  }
 },
 "nbformat": 4,
 "nbformat_minor": 2
}
