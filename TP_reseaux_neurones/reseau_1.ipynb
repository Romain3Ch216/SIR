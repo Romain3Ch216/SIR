{
 "cells": [
  {
   "cell_type": "code",
   "execution_count": 22,
   "metadata": {},
   "outputs": [],
   "source": [
    "import numpy as np\n",
    "import matplotlib.pyplot as plt\n",
    "import random as rd"
   ]
  },
  {
   "cell_type": "code",
   "execution_count": 19,
   "metadata": {},
   "outputs": [],
   "source": [
    "Basetrain = np.load('basetrain.npy')\n",
    "Basetrain = np.transpose(Basetrain)\n",
    "Labeltrain = np.load('labeltrain.npy')\n",
    "Basetest = np.load('basetest.npy')\n",
    "Labeltest = np.load('labeltest.npy')\n",
    "Basetest = np.transpose(Basetest)"
   ]
  },
  {
   "cell_type": "code",
   "execution_count": 5,
   "metadata": {},
   "outputs": [],
   "source": [
    "%qtconsole"
   ]
  },
  {
   "cell_type": "raw",
   "metadata": {},
   "source": [
    "plt.figure(1, figsize=(3, 3))\n",
    "plt.imshow(Basetest[1,:].reshape(28,28),cmap=plt.cm.gray_r)\n",
    "plt.show()"
   ]
  },
  {
   "cell_type": "code",
   "execution_count": 54,
   "metadata": {},
   "outputs": [],
   "source": [
    "def mlp1def(n, m):\n",
    "    w = np.zeros((m,n+1))\n",
    "    for i in range(m):\n",
    "        for j in range(n+1):\n",
    "            w[i,j] = rd.uniform(-1,1)\n",
    "    return w"
   ]
  },
  {
   "cell_type": "code",
   "execution_count": 57,
   "metadata": {},
   "outputs": [],
   "source": [
    "def sigma(v):\n",
    "    return (1-np.exp(-2*v))/(1+np.exp(-2*v))"
   ]
  },
  {
   "cell_type": "code",
   "execution_count": 121,
   "metadata": {},
   "outputs": [],
   "source": [
    "def mlp1run(x, w):\n",
    "    #Augmente le vecteur d'entrée x\n",
    "    if len(np.shape(x))==1:\n",
    "        x = np.concatenate(([1],x), axis=0)\n",
    "    else:\n",
    "        x = np.concatenate((np.ones((1,np.shape(x)[1])),x),axis=0)\n",
    "    #Calcul les sorties avant sigmoide\n",
    "    V = np.dot(w,x)\n",
    "    #Calcul des sorties\n",
    "    m,N = np.shape(V)\n",
    "    for i in range(m):\n",
    "        for j in range(N):\n",
    "            V[i,j] = sigma(V[i,j])\n",
    "    return V"
   ]
  },
  {
   "cell_type": "code",
   "execution_count": 161,
   "metadata": {},
   "outputs": [],
   "source": [
    "#3 entrées de dimension 2\n",
    "x = np.array([[2,3,4],[1,2,1]])\n",
    "n = np.shape(x)[0]\n",
    "#1 couche de 4 neurones\n",
    "w = mlp1def(n,4)\n",
    "#sortie des neurones\n",
    "V = mlp1run(x,w)"
   ]
  },
  {
   "cell_type": "code",
   "execution_count": 164,
   "metadata": {},
   "outputs": [],
   "source": [
    "#Définition d'un jeu de 3 exemples dont chaque entrée est de dimension 5\n",
    "x = np.array([[-1, -0.5, 0, 0.5, 1], [-1, -0.5, 0, 0.5, 1], [-1, -0.5, 0, 0.5, 1]])\n",
    "# rangement des exemples en colonne:\n",
    "x = np.transpose(x)"
   ]
  },
  {
   "cell_type": "code",
   "execution_count": 165,
   "metadata": {},
   "outputs": [],
   "source": [
    "def mlpclass(y):\n",
    "    if len(x.shape)==1:\n",
    "        res = np.argmax(y)\n",
    "    else: \n",
    "        res = []\n",
    "        for i in range(y.shape[1]):\n",
    "            res.append(np.argmax(y[:,i]))\n",
    "    return res"
   ]
  },
  {
   "cell_type": "code",
   "execution_count": 190,
   "metadata": {},
   "outputs": [],
   "source": [
    "def score(label, pred):\n",
    "    verification = label == pred\n",
    "    res = [e for e in verification if e ==True]\n",
    "    nb = len(res)\n",
    "    taux = round(len(res)/len(verification),2)\n",
    "    return {'nb': nb,'taux': taux }"
   ]
  }
 ],
 "metadata": {
  "kernelspec": {
   "display_name": "Python 3",
   "language": "python",
   "name": "python3"
  },
  "language_info": {
   "codemirror_mode": {
    "name": "ipython",
    "version": 3
   },
   "file_extension": ".py",
   "mimetype": "text/x-python",
   "name": "python",
   "nbconvert_exporter": "python",
   "pygments_lexer": "ipython3",
   "version": "3.6.5"
  }
 },
 "nbformat": 4,
 "nbformat_minor": 2
}
