{
 "cells": [
  {
   "cell_type": "code",
   "execution_count": 1,
   "metadata": {},
   "outputs": [],
   "source": [
    "import matplotlib.pyplot as plt\n",
    "import numpy as np"
   ]
  },
  {
   "cell_type": "code",
   "execution_count": 17,
   "metadata": {},
   "outputs": [],
   "source": [
    "def sqrerror(error):\n",
    "    #Calcul l'erreur au sein des moindres carrés\n",
    "    sqrmatrix = [e**2 for e in error]\n",
    "    res = sum(sum(sqrmatrix))\n",
    "    return res\n",
    "\n",
    "def mlpclass(y):\n",
    "    y = y[0]\n",
    "    res = [np.sign(e) for e in y]\n",
    "    return res\n",
    "\n",
    "def score(label, pred):\n",
    "    #Retourne le score de la prédiction\n",
    "    verification = label == pred\n",
    "    res = [e for e in verification if e ==True]\n",
    "    nb = len(res)\n",
    "    taux = round(len(res)/len(verification),2)\n",
    "    return {'nb': nb,'taux': taux }\n",
    "\n",
    "def label2target(c,nb_classe):\n",
    "    #Calcule les vecteurs de sortie désirée en fonction des classes en entrée\n",
    "    n = len(c)\n",
    "    res = -np.ones((nb_classe,n))\n",
    "    for i in range(n):\n",
    "        res[c[i],i] = 1\n",
    "    return res"
   ]
  },
  {
   "cell_type": "code",
   "execution_count": 2,
   "metadata": {},
   "outputs": [
    {
     "data": {
      "image/png": "[encoded data removed]",
      "text/plain": [
       "<Figure size 432x288 with 1 Axes>"
      ]
     },
     "metadata": {
      "needs_background": "light"
     },
     "output_type": "display_data"
    }
   ],
   "source": [
    "X = np.array([[18,20,10,25,18,16,5,12,2,5,10,8],[30,14,30,8,20,10,15,6,20,10,14,25]])\n",
    "Y = np.array([0,0,0,0,0,1,1,1,1,1,1,1]).T\n",
    "Y = np.reshape(Y,(12,1))\n",
    "\n",
    "XX = np.array([[5,10,17.5,10,10],[10,14,14,25,30]])\n",
    "YY = np.array([1,1,0,1,0]).T\n",
    "YY = np.reshape(YY,(5,1))\n",
    "\n",
    "x = np.linspace(0,20,100)\n",
    "y = [47 - 2*e for e in x]\n",
    "plt.plot(X[0][0:5],X[1][0:5],'o',color='red')\n",
    "plt.plot(X[0][5:12],X[1][5:12],'o',color='blue')\n",
    "plt.plot(x,y)\n",
    "plt.show()"
   ]
  },
  {
   "cell_type": "code",
   "execution_count": 54,
   "metadata": {},
   "outputs": [],
   "source": [
    "X = np.random.randint(0,30,(2,1000))\n",
    "def decision(x):\n",
    "    if  2*x[0] + x[1] - 25 > 0:\n",
    "        return 1\n",
    "    else:\n",
    "        return -1\n",
    "Y = np.zeros((1000,1))\n",
    "for i in range(1000):\n",
    "    Y[i] = decision(X[:,i])\n",
    "\n",
    "XX = np.random.randint(0,30,(2,100))\n",
    "def decision(x):\n",
    "    if  2*x[0] + x[1] - 25 > 0:\n",
    "        return 1\n",
    "    else:\n",
    "        return -1\n",
    "YY = np.zeros((100,1))\n",
    "for i in range(100):\n",
    "    YY[i] = decision(XX[:,i])\n"
   ]
  },
  {
   "cell_type": "code",
   "execution_count": 72,
   "metadata": {},
   "outputs": [
    {
     "data": {
      "image/png": "[encoded data removed]",
      "text/plain": [
       "<Figure size 432x288 with 1 Axes>"
      ]
     },
     "metadata": {
      "needs_background": "light"
     },
     "output_type": "display_data"
    }
   ],
   "source": [
    "x = np.linspace(0,30,100)\n",
    "y = [0 - 2*e for e in x]\n",
    "plt.plot(X[0],X[1],'o')\n",
    "plt.ylim([0,30])\n",
    "#plt.plot(X[0][5:12],X[1][5:12],'o',color='blue')\n",
    "plt.plot(x,y)\n",
    "plt.show()"
   ]
  },
  {
   "cell_type": "code",
   "execution_count": 37,
   "metadata": {},
   "outputs": [],
   "source": [
    "%qtconsole"
   ]
  },
  {
   "cell_type": "code",
   "execution_count": 12,
   "metadata": {},
   "outputs": [],
   "source": [
    "class NeuralNetwork:\n",
    "    def __init__(self, x_train, y_train, x_test, y_test, w_sup, n_out):\n",
    "        #Matrice d'entrée augmentée\n",
    "        self.input_train = np.concatenate((np.ones((1,np.shape(x_train)[1])),x_train),axis=0)\n",
    "        self.input_test  = np.concatenate((np.ones((1,np.shape(x_test)[1])),x_test),axis=0)\n",
    "        #Matrice de poids aléatoires entre 0 et w_sup\n",
    "        self.weights     = (np.random.rand(self.input_train.shape[0],n_out)-np.random.randint(0,2,(self.input_train.shape[0],n_out)))*w_sup\n",
    "        self.y_train     = y_train \n",
    "        self.y_test      = y_test\n",
    "        self.output      = np.zeros(y_train.shape)\n",
    "        self.errors      = []\n",
    "        \n",
    "    def feedforward(self, train):\n",
    "        #Calcul une propagation dans le réseau avec les données d'entrainement si train = True\n",
    "        #et avec les données de test si train = False\n",
    "        if train == True:\n",
    "            self.output= np.dot(self.input_train.T, self.weights)\n",
    "        else:\n",
    "            self.output = np.dot(self.input_test.T, self.weights)\n",
    "\n",
    "    def backprop(self, lr):\n",
    "        #Calcul de l'erreur\n",
    "        self.error =  self.output - self.y_train\n",
    "        #Calcul de la matrice d'évolution des poids\n",
    "        d_weights = np.dot(self.input_train, 2*self.error)\n",
    "        #Calcul des nouveaux poids\n",
    "        self.weights -= lr*d_weights\n",
    "        \n",
    "    def train(self, it, lr):\n",
    "        #Entraine le réseau de neurones et complète une liste errrors des erreurs quadratiques\n",
    "        for i in range(it):\n",
    "            self.feedforward(train = True)\n",
    "            self.backprop(lr)\n",
    "            self.errors.append(sqrerror(self.error))\n",
    "            \n",
    "    def test(self,train):\n",
    "        #Teste la performance du réseau sur la base d'entrainement si train = True, base de test sinon\n",
    "        self.feedforward(train)\n",
    "        self.pred = np.array(mlpclass(self.output.T))\n",
    "        if train == True:\n",
    "            label = np.array(mlpclass(self.y_train.T))\n",
    "        else:\n",
    "            label = np.array(mlpclass(self.y_test.T))\n",
    "        return score(label,self.pred)"
   ]
  },
  {
   "cell_type": "code",
   "execution_count": 69,
   "metadata": {},
   "outputs": [],
   "source": [
    "nn = NeuralNetwork(X,Y,XX,YY, w_sup = 1, n_out = 1)\n",
    "it, lr = 1, 1e-5\n",
    "nn.train(it,lr)"
   ]
  },
  {
   "cell_type": "code",
   "execution_count": 70,
   "metadata": {},
   "outputs": [
    {
     "data": {
      "image/png": "[encoded data removed]",
      "text/plain": [
       "<Figure size 432x288 with 1 Axes>"
      ]
     },
     "metadata": {
      "needs_background": "light"
     },
     "output_type": "display_data"
    },
    {
     "name": "stdout",
     "output_type": "stream",
     "text": [
      "{'nb': 800, 'taux': 0.8}\n"
     ]
    }
   ],
   "source": [
    "iterations = np.linspace(1,it,it)\n",
    "plt.plot(iterations,nn.errors)\n",
    "plt.title(\"Evolution de l'erreur quadratique\")\n",
    "plt.xlabel('Itérations')\n",
    "plt.ylabel('Erreur')\n",
    "plt.show()\n",
    "print(nn.test(train = True))"
   ]
  },
  {
   "cell_type": "code",
   "execution_count": 35,
   "metadata": {},
   "outputs": [
    {
     "data": {
      "text/plain": [
       "array([[ 0.05140983],\n",
       "       [-0.0019625 ],\n",
       "       [ 0.02279604]])"
      ]
     },
     "execution_count": 35,
     "metadata": {},
     "output_type": "execute_result"
    }
   ],
   "source": [
    "nn.weights"
   ]
  }
 ],
 "metadata": {
  "kernelspec": {
   "display_name": "Python 3",
   "language": "python",
   "name": "python3"
  },
  "language_info": {
   "codemirror_mode": {
    "name": "ipython",
    "version": 3
   },
   "file_extension": ".py",
   "mimetype": "text/x-python",
   "name": "python",
   "nbconvert_exporter": "python",
   "pygments_lexer": "ipython3",
   "version": "3.7.4"
  }
 },
 "nbformat": 4,
 "nbformat_minor": 2
}
