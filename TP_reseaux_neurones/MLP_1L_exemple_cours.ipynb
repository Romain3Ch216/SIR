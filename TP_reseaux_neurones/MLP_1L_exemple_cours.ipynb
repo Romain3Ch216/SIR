{
 "cells": [
  {
   "cell_type": "code",
   "execution_count": 1,
   "metadata": {},
   "outputs": [],
   "source": [
    "import matplotlib.pyplot as plt\n",
    "import numpy as np"
   ]
  },
  {
   "cell_type": "code",
   "execution_count": 2,
   "metadata": {},
   "outputs": [],
   "source": [
    "#%qtconsole"
   ]
  },
  {
   "cell_type": "code",
   "execution_count": 3,
   "metadata": {},
   "outputs": [],
   "source": [
    "def sigmoid(v):\n",
    "    return np.tanh(v)\n",
    "    #return 1/(1+np.exp(-v))\n",
    "    #return v"
   ]
  },
  {
   "cell_type": "code",
   "execution_count": 4,
   "metadata": {},
   "outputs": [],
   "source": [
    "def sigmoid_derivative(v):\n",
    "    return 1 - sigmoid(v)**2\n",
    "    #return sigmoid(v)*(1-sigmoid(v))\n",
    "    #return np.ones(v.shape)"
   ]
  },
  {
   "cell_type": "code",
   "execution_count": 5,
   "metadata": {},
   "outputs": [
    {
     "data": {
      "image/png": "[encoded data removed]",
      "text/plain": [
       "<Figure size 432x288 with 1 Axes>"
      ]
     },
     "metadata": {
      "needs_background": "light"
     },
     "output_type": "display_data"
    }
   ],
   "source": [
    "x1 = np.linspace(-10,10,1000)\n",
    "y1 = [sigmoid(e) for e in x1]\n",
    "dy1 = [sigmoid_derivative(e) for e in x1]\n",
    "plt.plot(x1,y1)\n",
    "plt.plot(x1,dy1)\n",
    "plt.grid(True)\n",
    "plt.show()"
   ]
  },
  {
   "cell_type": "code",
   "execution_count": 6,
   "metadata": {},
   "outputs": [],
   "source": [
    "def mlpclass(y):\n",
    "    y = y[0]\n",
    "    res = [np.sign(e) for e in y]\n",
    "    return res"
   ]
  },
  {
   "cell_type": "code",
   "execution_count": 7,
   "metadata": {},
   "outputs": [],
   "source": [
    "def label2target(c,nb_classe):\n",
    "    #Calcule les vecteurs de sortie désirée en fonction des classes en entrée\n",
    "    n = len(c)\n",
    "    res = -np.ones((nb_classe,n))\n",
    "    for i in range(n):\n",
    "        res[c[i],i] = 1\n",
    "    return res"
   ]
  },
  {
   "cell_type": "code",
   "execution_count": 8,
   "metadata": {},
   "outputs": [],
   "source": [
    "def score(label, pred):\n",
    "    #Retourne le score de la prédiction\n",
    "    verification = label == pred\n",
    "    res = [e for e in verification if e ==True]\n",
    "    nb = len(res)\n",
    "    taux = round(len(res)/len(verification),2)\n",
    "    return {'nb': nb,'taux': taux }"
   ]
  },
  {
   "cell_type": "code",
   "execution_count": 9,
   "metadata": {},
   "outputs": [],
   "source": [
    "def sqrerror(error):\n",
    "    #Calcul l'erreur au sein des moindres carrés\n",
    "    sqrmatrix = [e**2 for e in error]\n",
    "    res = sum(sum(sqrmatrix))\n",
    "    return res"
   ]
  },
  {
   "cell_type": "code",
   "execution_count": 46,
   "metadata": {},
   "outputs": [],
   "source": [
    "class NeuralNetwork:\n",
    "    def __init__(self, x_train, y_train, x_test, y_test, w_sup, n_out):\n",
    "        #Matrice d'entrée augmentée\n",
    "        self.input_train = np.concatenate((np.ones((1,np.shape(x_train)[1])),x_train),axis=0)\n",
    "        self.input_test  = np.concatenate((np.ones((1,np.shape(x_test)[1])),x_test),axis=0)\n",
    "        #Matrice de poids aléatoires entre 0 et w_sup\n",
    "        self.weights     = (np.random.rand(self.input_train.shape[0],n_out)-np.random.randint(0,2,(self.input_train.shape[0],n_out)))*w_sup\n",
    "        self.y_train     = y_train \n",
    "        self.y_test      = y_test\n",
    "        self.output      = np.zeros(y_train.shape)\n",
    "        self.errors      = []\n",
    "        \n",
    "    def feedforward(self,x, train):\n",
    "        #Calcul une propagation dans le réseau avec les données d'entrainement si train = True\n",
    "        #et avec les données de test si train = False\n",
    "        if train == True:\n",
    "            self.layer = np.dot(x.T, self.weights)\n",
    "            self.output = sigmoid(self.layer)\n",
    "        else:\n",
    "            self.layer = np.dot(self.input_test.T, self.weights)\n",
    "            self.output = sigmoid(self.layer)\n",
    "\n",
    "    def backprop(self, lr, x, y):\n",
    "        #Calcul de l'erreur\n",
    "        self.error =  self.output - y\n",
    "        #Calcul de la matrice d'évolution des poids\n",
    "        d_weights = lr*np.dot(x, (2*self.error * sigmoid_derivative(self.layer)))\n",
    "        #Calcul des nouveaux poids\n",
    "        self.weights -= d_weights\n",
    "        \n",
    "    def train(self, it, lr, batch_size):\n",
    "        #Entraine le réseau de neurones et complète une liste errrors des erreurs quadratiques\n",
    "        for i in range(it):\n",
    "            for k in range(int(np.shape(self.input_train)[1]/batch_size)):\n",
    "                x = self.input_train[:,k*batch_size:(k+1)*batch_size]\n",
    "                self.feedforward(x,True)\n",
    "                self.backprop(lr,x,self.y_train[k*batch_size:(k+1)*batch_size,:])\n",
    "                self.errors.append(sqrerror(self.error))\n",
    "            \n",
    "    def test(self,train):\n",
    "        #Teste la performance du réseau sur la base d'entrainement si train = True, base de test sinon\n",
    "        if train == True:\n",
    "            self.feedforward(self.input_train,train)\n",
    "            self.pred = np.array(mlpclass(self.output.T))\n",
    "            label = np.array(mlpclass(self.y_train.T))\n",
    "        else:\n",
    "            self.feedforward(self.input_test,train)\n",
    "            self.pred = np.array(mlpclass(self.output.T))\n",
    "            label = np.array(mlpclass(self.y_test.T))\n",
    "        return score(label,self.pred)"
   ]
  },
  {
   "cell_type": "code",
   "execution_count": 11,
   "metadata": {},
   "outputs": [
    {
     "data": {
      "image/png": "[encoded data removed]",
      "text/plain": [
       "<Figure size 432x288 with 1 Axes>"
      ]
     },
     "metadata": {
      "needs_background": "light"
     },
     "output_type": "display_data"
    }
   ],
   "source": [
    "X = np.array([[18,20,10,25,18,16,5,12,2,5,10,8],[30,14,30,8,20,10,15,6,20,10,14,25]])\n",
    "Y = np.array([0,0,0,0,0,1,1,1,1,1,1,1]).T\n",
    "Y = np.reshape(Y,(12,1))\n",
    "\n",
    "XX = np.array([[5,10,17.5,10,10],[10,14,14,25,30]])\n",
    "YY = np.array([1,1,0,1,0]).T\n",
    "YY = np.reshape(YY,(5,1))\n",
    "\n",
    "x = np.linspace(0,20,100)\n",
    "y = [47 - 2*e for e in x]\n",
    "plt.plot(X[0][0:5],X[1][0:5],'o',color='red')\n",
    "plt.plot(X[0][5:12],X[1][5:12],'o',color='blue')\n",
    "plt.plot(x,y)\n",
    "plt.show()"
   ]
  },
  {
   "cell_type": "code",
   "execution_count": 82,
   "metadata": {},
   "outputs": [],
   "source": [
    "nn = NeuralNetwork(X[:,0:1],Y[0:1],XX,YY, w_sup = 1e-2, n_out = 1)\n",
    "it, lr, batch_size = 1, 1e-6, 1\n",
    "K = int(X[0].shape[0]/batch_size)\n",
    "nn.train(it,lr,batch_size)"
   ]
  },
  {
   "cell_type": "code",
   "execution_count": 83,
   "metadata": {},
   "outputs": [
    {
     "name": "stdout",
     "output_type": "stream",
     "text": [
      "{'nb': 0, 'taux': 0.0} [1.]\n"
     ]
    }
   ],
   "source": [
    "# iterations = np.linspace(1,it*K,it*K)\n",
    "# plt.plot(iterations,nn.errors)\n",
    "# plt.title(\"Evolution de l'erreur quadratique\")\n",
    "# plt.xlabel('Itérations')\n",
    "# plt.ylabel('Erreur')\n",
    "# plt.show()\n",
    "print(nn.test(train = True),nn.pred)"
   ]
  },
  {
   "cell_type": "code",
   "execution_count": 84,
   "metadata": {},
   "outputs": [
    {
     "data": {
      "image/png": "[encoded data removed]",
      "text/plain": [
       "<Figure size 288x380.903 with 1 Axes>"
      ]
     },
     "metadata": {
      "needs_background": "light"
     },
     "output_type": "display_data"
    }
   ],
   "source": [
    "X = np.array([[18,20,10,25,18,16,5,12,2,5,10,8],[30,14,30,8,20,10,15,6,20,10,14,25]])\n",
    "x = np.linspace(0,30,31)\n",
    "y = [47 - 2*e for e in x]\n",
    "b = (0.5-nn.weights[0][0])/nn.weights[2][0] \n",
    "c = -(nn.weights[1][0]/nn.weights[2][0])\n",
    "yy = [b+c*e for e in x]\n",
    "\n",
    "def pred(X):\n",
    "    X = np.concatenate(([1],X),axis=0)\n",
    "    return np.sign(sigmoid(np.dot(nn.weights.T,X)))\n",
    "\n",
    "z = np.linspace(0,40,41)\n",
    "    \n",
    "M = np.zeros((len(x),len(z)))\n",
    "for i in range(len(x)):\n",
    "    for j in range(len(z)):\n",
    "        M[i,j] = pred([x[i],z[j]])\n",
    "from matplotlib.colors import ListedColormap\n",
    "\n",
    "cmap = ListedColormap([[0.8,0.2,0.2,0.2], [0.2,0.6,0.8,0.2]])\n",
    "plt.matshow(M.T,cmap = cmap, origin = 'lower')\n",
    "\n",
    "plt.plot(X[0][0:6],X[1][0:6],'o',color='red')\n",
    "plt.plot(X[0][6:12],X[1][6:12],'o',color='blue')\n",
    "#plt.plot(x,y)\n",
    "#plt.plot(x,yy)\n",
    "plt.show()"
   ]
  },
  {
   "cell_type": "code",
   "execution_count": null,
   "metadata": {},
   "outputs": [],
   "source": [
    "nn.test(train=False)"
   ]
  }
 ],
 "metadata": {
  "kernelspec": {
   "display_name": "Python 3",
   "language": "python",
   "name": "python3"
  },
  "language_info": {
   "codemirror_mode": {
    "name": "ipython",
    "version": 3
   },
   "file_extension": ".py",
   "mimetype": "text/x-python",
   "name": "python",
   "nbconvert_exporter": "python",
   "pygments_lexer": "ipython3",
   "version": "3.7.4"
  }
 },
 "nbformat": 4,
 "nbformat_minor": 2
}
