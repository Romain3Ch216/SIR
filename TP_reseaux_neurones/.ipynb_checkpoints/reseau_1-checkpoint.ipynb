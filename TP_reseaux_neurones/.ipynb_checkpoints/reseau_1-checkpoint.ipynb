{
 "cells": [
  {
   "cell_type": "code",
   "execution_count": 22,
   "metadata": {},
   "outputs": [],
   "source": [
    "import numpy as np\n",
    "import matplotlib.pyplot as plt\n",
    "import random as rd"
   ]
  },
  {
   "cell_type": "code",
   "execution_count": 19,
   "metadata": {},
   "outputs": [],
   "source": [
    "Basetrain = np.load('basetrain.npy')\n",
    "Basetrain = np.transpose(Basetrain)\n",
    "Labeltrain = np.load('labeltrain.npy')\n",
    "Basetest = np.load('basetest.npy')\n",
    "Labeltest = np.load('labeltest.npy')\n",
    "Basetest = np.transpose(Basetest)"
   ]
  },
  {
   "cell_type": "code",
   "execution_count": 5,
   "metadata": {},
   "outputs": [],
   "source": [
    "%qtconsole"
   ]
  },
  {
   "cell_type": "raw",
   "metadata": {},
   "source": [
    "plt.figure(1, figsize=(3, 3))\n",
    "plt.imshow(Basetest[1,:].reshape(28,28),cmap=plt.cm.gray_r)\n",
    "plt.show()"
   ]
  },
  {
   "cell_type": "code",
   "execution_count": 54,
   "metadata": {},
   "outputs": [],
   "source": [
    "def mlp1def(n, m):\n",
    "    w = np.zeros((m,n+1))\n",
    "    for i in range(m):\n",
    "        for j in range(n+1):\n",
    "            w[i,j] = rd.uniform(-1,1)\n",
    "    return w"
   ]
  },
  {
   "cell_type": "code",
   "execution_count": 57,
   "metadata": {},
   "outputs": [],
   "source": [
    "def sigma(v):\n",
    "    return (1-np.exp(-2*v))/(1+np.exp(-2*v))"
   ]
  },
  {
   "cell_type": "code",
   "execution_count": 72,
   "metadata": {},
   "outputs": [],
   "source": [
    "def mlp1run(x, w):\n",
    "    if np.shape(x)[0] == 1:\n",
    "        x = np.concatenate(([1]*np.shape(x)[1],x), axis=0)\n",
    "        \n",
    "        V = np.dot(w,x)"
   ]
  }
 ],
 "metadata": {
  "kernelspec": {
   "display_name": "Python 3",
   "language": "python",
   "name": "python3"
  },
  "language_info": {
   "codemirror_mode": {
    "name": "ipython",
    "version": 3
   },
   "file_extension": ".py",
   "mimetype": "text/x-python",
   "name": "python",
   "nbconvert_exporter": "python",
   "pygments_lexer": "ipython3",
   "version": "3.6.5"
  }
 },
 "nbformat": 4,
 "nbformat_minor": 2
}
