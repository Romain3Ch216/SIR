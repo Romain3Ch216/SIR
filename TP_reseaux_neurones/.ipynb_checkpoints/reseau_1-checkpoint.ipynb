{
 "cells": [
  {
   "cell_type": "code",
   "execution_count": 78,
   "metadata": {},
   "outputs": [],
   "source": [
    "import numpy as np\n",
    "import matplotlib.pyplot as plt\n",
    "import random as rd"
   ]
  },
  {
   "cell_type": "code",
   "execution_count": 79,
   "metadata": {},
   "outputs": [],
   "source": [
    "#Les exemples sont rangés en colonnes. Il y a 10 000 exemples (10 000 colonnes) de dimension 784 (784 lignes)\n",
    "Basetrain = np.load('basetrain.npy')\n",
    "Labeltrain = np.load('labeltrain.npy')\n",
    "Basetest = np.load('basetest.npy')\n",
    "Labeltest = np.load('labeltest.npy')"
   ]
  },
  {
   "cell_type": "code",
   "execution_count": 111,
   "metadata": {},
   "outputs": [],
   "source": [
    "%qtconsole"
   ]
  },
  {
   "cell_type": "raw",
   "metadata": {},
   "source": [
    "plt.figure(1, figsize=(3, 3))\n",
    "plt.imshow(Basetest[1,:].reshape(28,28),cmap=plt.cm.gray_r)\n",
    "plt.show()"
   ]
  },
  {
   "cell_type": "code",
   "execution_count": 81,
   "metadata": {},
   "outputs": [],
   "source": [
    "def mlp1def(n, m):\n",
    "    #Crée un vecteur de poids aléatoires, m neurones, n entrées\n",
    "    w = np.zeros((m,n+1))\n",
    "    for i in range(m):\n",
    "        for j in range(n+1):\n",
    "            w[i,j] = rd.uniform(-1,1)\n",
    "    #w = np.random.rand(m,n+1)\n",
    "    return w"
   ]
  },
  {
   "cell_type": "code",
   "execution_count": 82,
   "metadata": {},
   "outputs": [],
   "source": [
    "def sigma(v):\n",
    "    #Définition de la fonction tanh\n",
    "    #return (1-np.exp(-2*v))/(1+np.exp(-2*v))\n",
    "    return np.tanh(v)"
   ]
  },
  {
   "cell_type": "code",
   "execution_count": 83,
   "metadata": {},
   "outputs": [],
   "source": [
    "def mlp1run(x,w):\n",
    "    if len(np.shape(x))==1:\n",
    "        x = np.concatenate(([1],x), axis=0)\n",
    "    else:\n",
    "        x = np.concatenate((np.ones((1,np.shape(x)[1])),x),axis=0)\n",
    "    #Calcul les sorties avant sigmoide\n",
    "    v = np.dot(w,x)\n",
    "    m,N = v.shape\n",
    "    V = np.zeros((m,N))\n",
    "    for i in range(m):\n",
    "        for j in range(N):\n",
    "            V[i,j] = sigma(v[i,j])\n",
    "    return {'v':v,'sig(v)':V,'x':x}"
   ]
  },
  {
   "cell_type": "code",
   "execution_count": 84,
   "metadata": {},
   "outputs": [],
   "source": [
    "# #3 entrées de dimension 2\n",
    "# x = np.array([[2,3,4,2],[1,1,2,1]])\n",
    "# n = np.shape(x)[0]\n",
    "# #1 couche de 4 neurones\n",
    "# w = mlp1def(n,4)\n",
    "# #sortie des neurones\n",
    "# V = mlp1run(x,w)['sig(v)']"
   ]
  },
  {
   "cell_type": "code",
   "execution_count": 85,
   "metadata": {},
   "outputs": [],
   "source": [
    "# #Définition d'un jeu de 3 exemples dont chaque entrée est de dimension 5\n",
    "# x = np.array([[-1, -0.5, 0, 0.5, 1], [-1, -0.5, 0, 0.5, 1], [-1, -0.5, 0, 0.5, 1]])\n",
    "# # rangement des exemples en colonne:\n",
    "# x = np.transpose(x)"
   ]
  },
  {
   "cell_type": "code",
   "execution_count": 86,
   "metadata": {},
   "outputs": [],
   "source": [
    "def mlpclass(y):\n",
    "    #Retourne les classes de la sortie y \n",
    "    if len(x.shape)==1:\n",
    "        res = np.argmax(y)\n",
    "    else: \n",
    "        res = []\n",
    "        for i in range(y.shape[1]):\n",
    "            res.append(np.argmax(y[:,i]))\n",
    "    return res"
   ]
  },
  {
   "cell_type": "code",
   "execution_count": 87,
   "metadata": {},
   "outputs": [],
   "source": [
    "def score(label, pred):\n",
    "    #Retourne le score de la prédiction\n",
    "    verification = label == pred\n",
    "    res = [e for e in verification if e ==True]\n",
    "    nb = len(res)\n",
    "    taux = round(len(res)/len(verification),2)\n",
    "    return {'nb': nb,'taux': taux }"
   ]
  },
  {
   "cell_type": "code",
   "execution_count": 88,
   "metadata": {},
   "outputs": [],
   "source": [
    "def sigmop(v):\n",
    "    #calcule la dérivée de la tanh\n",
    "    return 1 - sigma(v)**2"
   ]
  },
  {
   "cell_type": "code",
   "execution_count": 89,
   "metadata": {},
   "outputs": [],
   "source": [
    "def label2target(c):\n",
    "    #Calcule les vecteurs de sortie désirée en fonction des classes en entrée\n",
    "    n = len(c)\n",
    "    res = -np.ones((10,n))\n",
    "    for i in range(n):\n",
    "        res[c[i],i] = 1\n",
    "    return res"
   ]
  },
  {
   "cell_type": "code",
   "execution_count": 90,
   "metadata": {},
   "outputs": [],
   "source": [
    "def mlperror(y, target):\n",
    "    #Calcule l'erreur\n",
    "    return target - y"
   ]
  },
  {
   "cell_type": "code",
   "execution_count": 91,
   "metadata": {},
   "outputs": [],
   "source": [
    "def sqrerror(error):\n",
    "    #Calcul l'erreur au sein des moindres carrés\n",
    "    sqrmatrix = [e**2 for e in error]\n",
    "    res = sum(sum(sqrmatrix))\n",
    "    return res"
   ]
  },
  {
   "cell_type": "code",
   "execution_count": 100,
   "metadata": {},
   "outputs": [
    {
     "name": "stdout",
     "output_type": "stream",
     "text": [
      "173288.67749466636\n",
      "2290.2912059320975\n"
     ]
    }
   ],
   "source": [
    "lr = 0.1\n",
    "x = Basetrain\n",
    "target = label2target(Labeltrain)\n",
    "w = mlp1def(784,10)\n",
    "run = mlp1run(x,w)\n",
    "y = run['sig(v)']\n",
    "v = run['v']\n",
    "error = mlperror(y,target)\n",
    "l = sqrerror(error)\n",
    "dev = sigmop(v)\n",
    "error_x_dev = np.zeros(dev.shape)\n",
    "delta_w = lr*np.dot(error_x_dev,np.transpose(run['x']))\n",
    "w = w + delta_w\n",
    "print(l)\n",
    "print(np.linalg.norm(delta_w))"
   ]
  },
  {
   "cell_type": "code",
   "execution_count": 102,
   "metadata": {},
   "outputs": [
    {
     "name": "stdout",
     "output_type": "stream",
     "text": [
      "norme delta_w 2290.2912059320975\n",
      "Norme x 239061.26265666715\n",
      "Norme inter 0.0\n",
      "39968.0\n",
      "0.0\n"
     ]
    }
   ],
   "source": [
    "run = mlp1run(x,w)\n",
    "y = run['sig(v)']\n",
    "v = run['v']\n",
    "error = mlperror(y,target)\n",
    "l = sqrerror(error)\n",
    "dev = sigmop(v)\n",
    "error_x_dev = np.zeros(dev.shape)\n",
    "for i in range(dev.shape[0]):\n",
    "    for j in range(dev.shape[1]):\n",
    "        error_x_dev[i,j] = error[i,j]*dev[i,j]\n",
    "print('norme delta_w',np.linalg.norm(delta_w))\n",
    "inter = np.dot(error_x_dev,np.transpose(run['x']))\n",
    "print('Norme x', np.linalg.norm(run['x']))\n",
    "print('Norme inter', np.linalg.norm(inter))\n",
    "delta_w = lr*inter\n",
    "w = w + delta_w\n",
    "print(l)\n",
    "print(np.linalg.norm(delta_w))"
   ]
  },
  {
   "cell_type": "code",
   "execution_count": 116,
   "metadata": {},
   "outputs": [
    {
     "ename": "KeyboardInterrupt",
     "evalue": "",
     "output_type": "error",
     "traceback": [
      "\u001b[0;31m---------------------------------------------------------------------------\u001b[0m",
      "\u001b[0;31mKeyboardInterrupt\u001b[0m                         Traceback (most recent call last)",
      "\u001b[0;32m<ipython-input-116-bffae48247f5>\u001b[0m in \u001b[0;36m<module>\u001b[0;34m\u001b[0m\n\u001b[1;32m      8\u001b[0m \u001b[0mL\u001b[0m \u001b[0;34m=\u001b[0m \u001b[0;34m[\u001b[0m\u001b[0;34m]\u001b[0m\u001b[0;34m\u001b[0m\u001b[0;34m\u001b[0m\u001b[0m\n\u001b[1;32m      9\u001b[0m \u001b[0;32mfor\u001b[0m \u001b[0mk\u001b[0m \u001b[0;32min\u001b[0m \u001b[0mrange\u001b[0m\u001b[0;34m(\u001b[0m\u001b[0mit\u001b[0m\u001b[0;34m)\u001b[0m\u001b[0;34m:\u001b[0m\u001b[0;34m\u001b[0m\u001b[0;34m\u001b[0m\u001b[0m\n\u001b[0;32m---> 10\u001b[0;31m     \u001b[0mrun\u001b[0m \u001b[0;34m=\u001b[0m \u001b[0mmlp1run\u001b[0m\u001b[0;34m(\u001b[0m\u001b[0mx\u001b[0m\u001b[0;34m,\u001b[0m\u001b[0mw\u001b[0m\u001b[0;34m)\u001b[0m\u001b[0;34m\u001b[0m\u001b[0;34m\u001b[0m\u001b[0m\n\u001b[0m\u001b[1;32m     11\u001b[0m     \u001b[0my\u001b[0m \u001b[0;34m=\u001b[0m \u001b[0mrun\u001b[0m\u001b[0;34m[\u001b[0m\u001b[0;34m'sig(v)'\u001b[0m\u001b[0;34m]\u001b[0m\u001b[0;34m\u001b[0m\u001b[0;34m\u001b[0m\u001b[0m\n\u001b[1;32m     12\u001b[0m     \u001b[0mv\u001b[0m \u001b[0;34m=\u001b[0m \u001b[0mrun\u001b[0m\u001b[0;34m[\u001b[0m\u001b[0;34m'v'\u001b[0m\u001b[0;34m]\u001b[0m\u001b[0;34m\u001b[0m\u001b[0;34m\u001b[0m\u001b[0m\n",
      "\u001b[0;32m<ipython-input-83-1c4ecaf3211b>\u001b[0m in \u001b[0;36mmlp1run\u001b[0;34m(x, w)\u001b[0m\n\u001b[1;32m     10\u001b[0m     \u001b[0;32mfor\u001b[0m \u001b[0mi\u001b[0m \u001b[0;32min\u001b[0m \u001b[0mrange\u001b[0m\u001b[0;34m(\u001b[0m\u001b[0mm\u001b[0m\u001b[0;34m)\u001b[0m\u001b[0;34m:\u001b[0m\u001b[0;34m\u001b[0m\u001b[0;34m\u001b[0m\u001b[0m\n\u001b[1;32m     11\u001b[0m         \u001b[0;32mfor\u001b[0m \u001b[0mj\u001b[0m \u001b[0;32min\u001b[0m \u001b[0mrange\u001b[0m\u001b[0;34m(\u001b[0m\u001b[0mN\u001b[0m\u001b[0;34m)\u001b[0m\u001b[0;34m:\u001b[0m\u001b[0;34m\u001b[0m\u001b[0;34m\u001b[0m\u001b[0m\n\u001b[0;32m---> 12\u001b[0;31m             \u001b[0mV\u001b[0m\u001b[0;34m[\u001b[0m\u001b[0mi\u001b[0m\u001b[0;34m,\u001b[0m\u001b[0mj\u001b[0m\u001b[0;34m]\u001b[0m \u001b[0;34m=\u001b[0m \u001b[0msigma\u001b[0m\u001b[0;34m(\u001b[0m\u001b[0mv\u001b[0m\u001b[0;34m[\u001b[0m\u001b[0mi\u001b[0m\u001b[0;34m,\u001b[0m\u001b[0mj\u001b[0m\u001b[0;34m]\u001b[0m\u001b[0;34m)\u001b[0m\u001b[0;34m\u001b[0m\u001b[0;34m\u001b[0m\u001b[0m\n\u001b[0m\u001b[1;32m     13\u001b[0m     \u001b[0;32mreturn\u001b[0m \u001b[0;34m{\u001b[0m\u001b[0;34m'v'\u001b[0m\u001b[0;34m:\u001b[0m\u001b[0mv\u001b[0m\u001b[0;34m,\u001b[0m\u001b[0;34m'sig(v)'\u001b[0m\u001b[0;34m:\u001b[0m\u001b[0mV\u001b[0m\u001b[0;34m,\u001b[0m\u001b[0;34m'x'\u001b[0m\u001b[0;34m:\u001b[0m\u001b[0mx\u001b[0m\u001b[0;34m}\u001b[0m\u001b[0;34m\u001b[0m\u001b[0;34m\u001b[0m\u001b[0m\n",
      "\u001b[0;32m<ipython-input-82-97640b3196fc>\u001b[0m in \u001b[0;36msigma\u001b[0;34m(v)\u001b[0m\n\u001b[1;32m      2\u001b[0m     \u001b[0;31m#Définition de la fonction tanh\u001b[0m\u001b[0;34m\u001b[0m\u001b[0;34m\u001b[0m\u001b[0;34m\u001b[0m\u001b[0m\n\u001b[1;32m      3\u001b[0m     \u001b[0;31m#return (1-np.exp(-2*v))/(1+np.exp(-2*v))\u001b[0m\u001b[0;34m\u001b[0m\u001b[0;34m\u001b[0m\u001b[0;34m\u001b[0m\u001b[0m\n\u001b[0;32m----> 4\u001b[0;31m     \u001b[0;32mreturn\u001b[0m \u001b[0mnp\u001b[0m\u001b[0;34m.\u001b[0m\u001b[0mtanh\u001b[0m\u001b[0;34m(\u001b[0m\u001b[0mv\u001b[0m\u001b[0;34m)\u001b[0m\u001b[0;34m\u001b[0m\u001b[0;34m\u001b[0m\u001b[0m\n\u001b[0m",
      "\u001b[0;31mKeyboardInterrupt\u001b[0m: "
     ]
    }
   ],
   "source": [
    "from time import time\n",
    "time1 = time()\n",
    "lr = 0.1\n",
    "it = 1000\n",
    "x = Basetrain\n",
    "target = label2target(Labeltrain)\n",
    "w = mlp1def(784,10)\n",
    "L = []\n",
    "for k in range(it):\n",
    "    run = mlp1run(x,w)\n",
    "    y = run['sig(v)']\n",
    "    v = run['v']\n",
    "    error = mlperror(y,target)\n",
    "    l = sqrerror(error)\n",
    "    dev = sigmop(y)\n",
    "    error_x_dev = error*dev\n",
    "    delta_w = lr*np.dot(error_x_dev,np.transpose(run['x']))\n",
    "    w = w + delta_w\n",
    "    L.append(l)\n",
    "time2 = time()\n",
    "print(time2-time1)"
   ]
  },
  {
   "cell_type": "code",
   "execution_count": 109,
   "metadata": {},
   "outputs": [
    {
     "data": {
      "image/png": "[encoded data removed]",
      "text/plain": [
       "<Figure size 432x288 with 1 Axes>"
      ]
     },
     "metadata": {
      "needs_background": "light"
     },
     "output_type": "display_data"
    }
   ],
   "source": [
    "axe_x=np.linspace(1,it,it)\n",
    "plt.plot(axe_x,L)\n",
    "plt.ylabel('Cout quadratique')\n",
    "plt.xlabel(\"Iterations d’apprentissage\")\n",
    "plt.show()"
   ]
  },
  {
   "cell_type": "code",
   "execution_count": 110,
   "metadata": {},
   "outputs": [],
   "source": [
    "run = mlp1run(Basetrain,w)\n",
    "pred = np.array(mlpclass(run['sig(v)']))\n",
    "target = np.array(mlpclass(label2target(Labeltrain)))\n",
    "s_test = score(target,pred)"
   ]
  },
  {
   "cell_type": "code",
   "execution_count": 113,
   "metadata": {},
   "outputs": [],
   "source": [
    "run = mlp1run(Basetest,w)\n",
    "pred = np.array(mlpclass(run['sig(v)']))"
   ]
  },
  {
   "cell_type": "code",
   "execution_count": 114,
   "metadata": {},
   "outputs": [],
   "source": [
    "target = np.array(mlpclass(label2target(Labeltest)))\n",
    "s = score(target,pred)"
   ]
  }
 ],
 "metadata": {
  "kernelspec": {
   "display_name": "Python 3",
   "language": "python",
   "name": "python3"
  },
  "language_info": {
   "codemirror_mode": {
    "name": "ipython",
    "version": 3
   },
   "file_extension": ".py",
   "mimetype": "text/x-python",
   "name": "python",
   "nbconvert_exporter": "python",
   "pygments_lexer": "ipython3",
   "version": "3.7.4"
  }
 },
 "nbformat": 4,
 "nbformat_minor": 2
}
