{
 "cells": [
  {
   "cell_type": "code",
   "execution_count": 1,
   "metadata": {},
   "outputs": [],
   "source": [
    "import tensorflow as tf\n",
    "import numpy as np\n",
    "import matplotlib.pyplot as plt\n",
    "from tensorflow.keras.layers import Dense\n",
    "from tensorflow.keras import Model"
   ]
  },
  {
   "cell_type": "code",
   "execution_count": 2,
   "metadata": {},
   "outputs": [],
   "source": [
    "class XorModel(Model):\n",
    "    def __init__(self):\n",
    "        super(XorModel, self).__init__()\n",
    "        self.fc1 = Dense(2, activation='sigmoid')\n",
    "        self.fc2 = Dense(1, activation='sigmoid')\n",
    "        \n",
    "    def call(self,x):\n",
    "        x = self.fc1(x)\n",
    "        x = self.fc2(x)\n",
    "        return x"
   ]
  },
  {
   "cell_type": "code",
   "execution_count": 3,
   "metadata": {},
   "outputs": [],
   "source": [
    "xor_model = XorModel()\n",
    "loss_object = tf.keras.losses.MeanSquaredError()\n",
    "sgd = tf.keras.optimizers.SGD(lr=0.05, momentum=0.9)"
   ]
  },
  {
   "cell_type": "code",
   "execution_count": 4,
   "metadata": {},
   "outputs": [],
   "source": [
    "@tf.function\n",
    "def train_step(data,labels):\n",
    "    with tf.GradientTape() as tape:\n",
    "        predictions = xor_model(data)\n",
    "        loss = loss_object(labels,predictions)\n",
    "    gradients = tape.gradient(loss, xor_model.trainable_variables)\n",
    "    sgd.apply_gradients(zip(gradients, xor_model.trainable_variables))"
   ]
  },
  {
   "cell_type": "code",
   "execution_count": 5,
   "metadata": {},
   "outputs": [],
   "source": [
    "X = np.array([[0,0],[0,1],[1,0],[1,1]])\n",
    "Y = np.array([0,1,1,0])\n",
    "batch_size = 1\n",
    "train_ds = [[X[i*batch_size:(i+1)*batch_size,:],Y[i*batch_size:(i+1)*batch_size]] for i in range(4)]"
   ]
  },
  {
   "cell_type": "code",
   "execution_count": 6,
   "metadata": {},
   "outputs": [],
   "source": [
    "EPOCHS = 1000\n",
    "\n",
    "for epoch in range(EPOCHS):\n",
    "    for data, labels in train_ds:\n",
    "        train_step(X,Y)"
   ]
  },
  {
   "cell_type": "code",
   "execution_count": 7,
   "metadata": {},
   "outputs": [
    {
     "name": "stdout",
     "output_type": "stream",
     "text": [
      "WARNING:tensorflow:Layer dense is casting an input tensor from dtype float64 to the layer's dtype of float32, which is new behavior in TensorFlow 2.  The layer has dtype float32 because it's dtype defaults to floatx.\n",
      "\n",
      "If you intended to run this layer in float32, you can safely ignore this warning. If in doubt, this warning is likely only an issue if you are porting a TensorFlow 1.X model to TensorFlow 2.\n",
      "\n",
      "To change all layers to have dtype float64 by default, call `tf.keras.backend.set_floatx('float64')`. To change just this layer, pass dtype='float64' to the layer constructor. If you are the author of this layer, you can disable autocasting by passing autocast=False to the base Layer constructor.\n",
      "\n"
     ]
    },
    {
     "data": {
      "image/png": "[encoded data removed]",
      "text/plain": [
       "<Figure size 432x288 with 1 Axes>"
      ]
     },
     "metadata": {
      "needs_background": "light"
     },
     "output_type": "display_data"
    }
   ],
   "source": [
    "for i in np.arange(-0.1,1.1,0.05):\n",
    "    for j in np.arange(-0.1,1.1,0.05):\n",
    "        z = xor_model.call(np.array([[i,j]]))\n",
    "        if z > 0.5:\n",
    "            plt.plot(i,j,'.r')\n",
    "        else:\n",
    "            plt.plot(i,j,'.b')\n",
    "            \n",
    "for i in range(Y.size):\n",
    "    if Y[i] ==1:\n",
    "        fig = plt.plot(X[i,0],X[i,1],'ro')\n",
    "    else:\n",
    "        fig = plt.plot(X[i,0],X[i,1],'bo')\n",
    "    plt.setp(fig, markersize = 10)"
   ]
  }
 ],
 "metadata": {
  "kernelspec": {
   "display_name": "Python 3",
   "language": "python",
   "name": "python3"
  },
  "language_info": {
   "codemirror_mode": {
    "name": "ipython",
    "version": 3
   },
   "file_extension": ".py",
   "mimetype": "text/x-python",
   "name": "python",
   "nbconvert_exporter": "python",
   "pygments_lexer": "ipython3",
   "version": "3.7.4"
  }
 },
 "nbformat": 4,
 "nbformat_minor": 2
}
