{
 "cells": [
  {
   "cell_type": "code",
   "execution_count": 1,
   "metadata": {},
   "outputs": [],
   "source": [
    "import tensorflow as tf\n",
    "import numpy as np\n",
    "import matplotlib.pyplot as plt"
   ]
  },
  {
   "cell_type": "code",
   "execution_count": 2,
   "metadata": {},
   "outputs": [],
   "source": [
    "%qtconsole"
   ]
  },
  {
   "cell_type": "code",
   "execution_count": 36,
   "metadata": {},
   "outputs": [],
   "source": [
    "mnist = tf.keras.datasets.mnist\n",
    "\n",
    "(x_train, y_train), (x_test, y_test) = mnist.load_data()\n",
    "x_train, x_test = x_train / 255.0, x_test / 255.0\n",
    "\n",
    "batch_size = 1000\n",
    "data, labels = [],[]\n",
    "for i in range(int(x_train.shape[0]/batch_size)):\n",
    "    data.append(x_train[i*batch_size:batch_size*(i+1),:,:])\n",
    "    labels.append(y_train[i*batch_size:batch_size*(i+1)])\n",
    "train_ds = [[data[i],labels[i]] for i in range(len(data))]"
   ]
  },
  {
   "cell_type": "code",
   "execution_count": 4,
   "metadata": {},
   "outputs": [],
   "source": [
    "model = tf.keras.models.Sequential([\n",
    "    tf.keras.layers.Flatten(input_shape=(28, 28)),\n",
    "    tf.keras.layers.Dense(120, activation='sigmoid'),\n",
    "    tf.keras.layers.Dense(80, activation='sigmoid'),\n",
    "    tf.keras.layers.Dense(10, activation='sigmoid')\n",
    "])\n",
    "\n",
    "model.compile(optimizer=tf.keras.optimizers.SGD(learning_rate=0.1),\n",
    "              loss='sparse_categorical_crossentropy',\n",
    "              metrics=['accuracy'])"
   ]
  },
  {
   "cell_type": "code",
   "execution_count": 5,
   "metadata": {},
   "outputs": [
    {
     "name": "stdout",
     "output_type": "stream",
     "text": [
      "Train on 60000 samples\n",
      "Epoch 1/2\n",
      "60000/60000 [==============================] - 8s 126us/sample - loss: 1.0586 - accuracy: 0.6942\n",
      "Epoch 2/2\n",
      "60000/60000 [==============================] - 8s 127us/sample - loss: 0.3486 - accuracy: 0.9007\n"
     ]
    },
    {
     "data": {
      "text/plain": [
       "<tensorflow.python.keras.callbacks.History at 0x7f51ade0e750>"
      ]
     },
     "execution_count": 5,
     "metadata": {},
     "output_type": "execute_result"
    }
   ],
   "source": [
    "model.fit(x_train, y_train, epochs=2)"
   ]
  },
  {
   "cell_type": "code",
   "execution_count": 6,
   "metadata": {},
   "outputs": [
    {
     "name": "stdout",
     "output_type": "stream",
     "text": [
      "10000/1 - 1s - loss: 0.2206 - accuracy: 0.9155\n"
     ]
    },
    {
     "data": {
      "text/plain": [
       "[0.2952850646972656, 0.9155]"
      ]
     },
     "execution_count": 6,
     "metadata": {},
     "output_type": "execute_result"
    }
   ],
   "source": [
    "model.evaluate(x_test,  y_test, verbose=2)"
   ]
  },
  {
   "cell_type": "code",
   "execution_count": 7,
   "metadata": {},
   "outputs": [],
   "source": [
    "from tensorflow.keras.layers import Dense\n",
    "from tensorflow.keras import Model"
   ]
  },
  {
   "cell_type": "code",
   "execution_count": 67,
   "metadata": {},
   "outputs": [],
   "source": [
    "class MnistClassifier(Model):\n",
    "    def __init__(self):\n",
    "        super(MnistClassifier,self).__init__()\n",
    "        self.layer0 = tf.keras.layers.Flatten(input_shape=(28, 28))\n",
    "        self.layer1 = Dense(120, activation='sigmoid')\n",
    "        self.layer2 = Dense(80, activation='sigmoid')\n",
    "        self.layer3 = Dense(10, activation='sigmoid')\n",
    "        \n",
    "    def call(self,x):\n",
    "        x = self.layer0(x)\n",
    "        x = self.layer1(x)\n",
    "        x = self.layer2(x)\n",
    "        x = self.layer3(x)\n",
    "        return x"
   ]
  },
  {
   "cell_type": "code",
   "execution_count": 68,
   "metadata": {},
   "outputs": [],
   "source": [
    "classifier = MnistClassifier()\n",
    "loss_object = tf.keras.losses.MeanSquaredError()\n",
    "sgd = tf.keras.optimizers.SGD(lr=0.05,momentum=0.9)"
   ]
  },
  {
   "cell_type": "code",
   "execution_count": 69,
   "metadata": {},
   "outputs": [],
   "source": [
    "@tf.function\n",
    "def train_step(data,labels):\n",
    "    with tf.GradientTape() as tape:\n",
    "        predictions = classifier(data)\n",
    "        labels = tf.one_hot(labels,10)\n",
    "        loss = loss_object(labels,predictions)\n",
    "    gradients = tape.gradient(loss, classifier.trainable_variables)\n",
    "    sgd.apply_gradients(zip(gradients, classifier.trainable_variables))"
   ]
  },
  {
   "cell_type": "code",
   "execution_count": 70,
   "metadata": {},
   "outputs": [
    {
     "name": "stdout",
     "output_type": "stream",
     "text": [
      "WARNING:tensorflow:Layer mnist_classifier_1 is casting an input tensor from dtype float64 to the layer's dtype of float32, which is new behavior in TensorFlow 2.  The layer has dtype float32 because it's dtype defaults to floatx.\n",
      "\n",
      "If you intended to run this layer in float32, you can safely ignore this warning. If in doubt, this warning is likely only an issue if you are porting a TensorFlow 1.X model to TensorFlow 2.\n",
      "\n",
      "To change all layers to have dtype float64 by default, call `tf.keras.backend.set_floatx('float64')`. To change just this layer, pass dtype='float64' to the layer constructor. If you are the author of this layer, you can disable autocasting by passing autocast=False to the base Layer constructor.\n",
      "\n"
     ]
    }
   ],
   "source": [
    "EPOCHS = 1000\n",
    "\n",
    "for epoch in range(EPOCHS):\n",
    "    for data,labels in train_ds:\n",
    "        train_step(data,labels)"
   ]
  },
  {
   "cell_type": "code",
   "execution_count": 71,
   "metadata": {},
   "outputs": [],
   "source": [
    "def mlpclass(y):\n",
    "    #Retourne les classes de la sortie y \n",
    "    if len(y.shape)==1:\n",
    "        res = np.argmax(y)\n",
    "    else: \n",
    "        res = []\n",
    "        for i in range(y.shape[1]):\n",
    "            res.append(np.argmax(y[:,i]))\n",
    "    return res"
   ]
  },
  {
   "cell_type": "code",
   "execution_count": 72,
   "metadata": {},
   "outputs": [],
   "source": [
    "predictions = classifier(x_train)\n",
    "predictions = predictions.numpy()\n",
    "n,m = predictions.shape\n",
    "for i in range(n):\n",
    "    for j in range(m):\n",
    "        predictions[i,j] = round(predictions[i,j])\n",
    "predictions = mlpclass(predictions.T)"
   ]
  },
  {
   "cell_type": "code",
   "execution_count": 73,
   "metadata": {},
   "outputs": [],
   "source": [
    "def score(label, pred):\n",
    "    #Retourne le score de la prédiction\n",
    "    verification = label == pred\n",
    "    res = [e for e in verification if e ==True]\n",
    "    nb = len(res)\n",
    "    taux = round(len(res)/len(verification),2)\n",
    "    return {'nb': nb,'taux': taux }"
   ]
  },
  {
   "cell_type": "code",
   "execution_count": 74,
   "metadata": {},
   "outputs": [
    {
     "data": {
      "text/plain": [
       "{'nb': 55726, 'taux': 0.93}"
      ]
     },
     "execution_count": 74,
     "metadata": {},
     "output_type": "execute_result"
    }
   ],
   "source": [
    "score(y_train,predictions)"
   ]
  }
 ],
 "metadata": {
  "kernelspec": {
   "display_name": "Python 3",
   "language": "python",
   "name": "python3"
  },
  "language_info": {
   "codemirror_mode": {
    "name": "ipython",
    "version": 3
   },
   "file_extension": ".py",
   "mimetype": "text/x-python",
   "name": "python",
   "nbconvert_exporter": "python",
   "pygments_lexer": "ipython3",
   "version": "3.7.4"
  }
 },
 "nbformat": 4,
 "nbformat_minor": 2
}
