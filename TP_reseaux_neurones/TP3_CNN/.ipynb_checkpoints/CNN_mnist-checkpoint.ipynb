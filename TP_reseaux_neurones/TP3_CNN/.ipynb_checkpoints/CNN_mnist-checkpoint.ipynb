{
 "cells": [
  {
   "cell_type": "code",
   "execution_count": null,
   "metadata": {},
   "outputs": [],
   "source": [
    "import tensorflow as tf\n",
    "import numpy as np\n",
    "import matplotlib.pyplot as plt\n",
    "from tensorflow.keras import layers, models, callbacks"
   ]
  },
  {
   "cell_type": "code",
   "execution_count": null,
   "metadata": {},
   "outputs": [],
   "source": [
    "mnist = tf.keras.datasets.mnist\n",
    "\n",
    "(x_train, y_train), (x_test, y_test) = mnist.load_data()\n",
    "x_train, x_test = x_train / 255.0, x_test / 255.0\n",
    "\n",
    "N,n,m = x_train.shape\n",
    "x_train = np.reshape(x_train,(N,n,m,1))\n",
    "\n",
    "N,n,m = x_test.shape\n",
    "x_test = np.reshape(x_test,(N,n,m,1))"
   ]
  },
  {
   "cell_type": "code",
   "execution_count": null,
   "metadata": {},
   "outputs": [],
   "source": [
    "def displayConvLayer(layer_name):\n",
    "    weights = layer_name.get_weights()[0]\n",
    "    fig, ax = plt.subplots(weights.shape[-2],weights.shape[-1],figsize=(15,15))\n",
    "    for i in range(weights.shape[-1]):\n",
    "        for j in range(weights.shape[-2]):\n",
    "            weight = np.reshape(weights[:,:,j,i],weights.shape[0:2])\n",
    "            if weights.shape[-2]==1:\n",
    "                ax[i].imshow(weight)\n",
    "            else:\n",
    "                ax[j,i].imshow(weight)\n",
    "                \n",
    "    return weights"
   ]
  },
  {
   "cell_type": "code",
   "execution_count": null,
   "metadata": {},
   "outputs": [],
   "source": [
    "model = models.Sequential()\n",
    "conv1 = layers.Conv2D(6, (5, 5), padding='same', activation='relu', input_shape=(28, 28 ,1))\n",
    "model.add(conv1)\n",
    "model.add(layers.MaxPooling2D((2, 2)))\n",
    "conv2 = layers.Conv2D(16, (5, 5), activation='relu')\n",
    "model.add(conv2)\n",
    "model.add(layers.MaxPooling2D((2, 2)))\n",
    "model.add(layers.Flatten(input_shape=(5, 5, 16)))\n",
    "model.add(layers.Dense(120, activation='relu'))\n",
    "model.add(layers.Dense(80, activation='relu'))\n",
    "model.add(layers.Dense(10, activation='softmax'))\n",
    "model.summary()"
   ]
  },
  {
   "cell_type": "code",
   "execution_count": null,
   "metadata": {},
   "outputs": [],
   "source": [
    "#print_weights = callbacks.LambdaCallback(on_epoch_end=lambda batch, logs: print(conv1.get_weights()[0]))"
   ]
  },
  {
   "cell_type": "code",
   "execution_count": null,
   "metadata": {},
   "outputs": [],
   "source": [
    "model.compile(optimizer='adam',\n",
    "              loss=tf.keras.losses.CategoricalCrossentropy(),\n",
    "              metrics=['accuracy'])"
   ]
  },
  {
   "cell_type": "code",
   "execution_count": null,
   "metadata": {},
   "outputs": [],
   "source": [
    "weights_i  = displayConvLayer(conv1)"
   ]
  },
  {
   "cell_type": "code",
   "execution_count": null,
   "metadata": {},
   "outputs": [],
   "source": [
    "history = model.fit(x_train, tf.one_hot(y_train,10), batch_size  = 128, epochs=20,\n",
    "          validation_data=(x_test, tf.one_hot(y_test,10)))"
   ]
  },
  {
   "cell_type": "code",
   "execution_count": null,
   "metadata": {},
   "outputs": [],
   "source": [
    "weights_f = displayConvLayer(conv1)"
   ]
  },
  {
   "cell_type": "code",
   "execution_count": null,
   "metadata": {},
   "outputs": [],
   "source": [
    "plt.plot(history.history['accuracy'], label='accuracy')\n",
    "plt.plot(history.history['val_accuracy'], label = 'val_accuracy')\n",
    "plt.xlabel('Epoch')\n",
    "plt.ylabel('Accuracy')\n",
    "plt.ylim([0.5, 1])\n",
    "plt.legend(loc='lower right')\n",
    "\n",
    "test_loss, test_acc = model.evaluate(x_test,  tf.one_hot(y_test,10), verbose=2)"
   ]
  },
  {
   "cell_type": "code",
   "execution_count": null,
   "metadata": {},
   "outputs": [],
   "source": [
    "plt.plot(history.history['loss'], label='loss')\n",
    "plt.xlabel('Epoch')\n",
    "plt.ylabel('Loss')"
   ]
  }
 ],
 "metadata": {
  "kernelspec": {
   "display_name": "Python 3",
   "language": "python",
   "name": "python3"
  },
  "language_info": {
   "codemirror_mode": {
    "name": "ipython",
    "version": 3
   },
   "file_extension": ".py",
   "mimetype": "text/x-python",
   "name": "python",
   "nbconvert_exporter": "python",
   "pygments_lexer": "ipython3",
   "version": "3.7.4"
  }
 },
 "nbformat": 4,
 "nbformat_minor": 2
}
