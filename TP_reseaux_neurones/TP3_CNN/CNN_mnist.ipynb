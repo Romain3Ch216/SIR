{
 "cells": [
  {
   "cell_type": "code",
   "execution_count": 1,
   "metadata": {},
   "outputs": [],
   "source": [
    "import tensorflow as tf\n",
    "import numpy as np\n",
    "import matplotlib.pyplot as plt\n",
    "from tensorflow.keras import layers, models, callbacks"
   ]
  },
  {
   "cell_type": "code",
   "execution_count": 2,
   "metadata": {},
   "outputs": [],
   "source": [
    "mnist = tf.keras.datasets.mnist\n",
    "\n",
    "(x_train, y_train), (x_test, y_test) = mnist.load_data()\n",
    "x_train, x_test = x_train / 255.0, x_test / 255.0\n",
    "\n",
    "N,n,m = x_train.shape\n",
    "x_train = np.reshape(x_train,(N,n,m,1))\n",
    "\n",
    "N,n,m = x_test.shape\n",
    "x_test = np.reshape(x_test,(N,n,m,1))"
   ]
  },
  {
   "cell_type": "code",
   "execution_count": 3,
   "metadata": {},
   "outputs": [],
   "source": [
    "def displayConvLayer(layer_name):\n",
    "    weights = layer_name.get_weights()[0]\n",
    "    fig, ax = plt.subplots(weights.shape[-2],weights.shape[-1],figsize=(15,15))\n",
    "    for i in range(weights.shape[-1]):\n",
    "        for j in range(weights.shape[-2]):\n",
    "            weight = np.reshape(weights[:,:,j,i],weights.shape[0:2])\n",
    "            if weights.shape[-2]==1:\n",
    "                ax[i].imshow(weight)\n",
    "            else:\n",
    "                ax[j,i].imshow(weight)\n",
    "                \n",
    "    return weights"
   ]
  },
  {
   "cell_type": "code",
   "execution_count": 4,
   "metadata": {},
   "outputs": [
    {
     "name": "stdout",
     "output_type": "stream",
     "text": [
      "Model: \"sequential\"\n",
      "_________________________________________________________________\n",
      "Layer (type)                 Output Shape              Param #   \n",
      "=================================================================\n",
      "conv2d (Conv2D)              (None, 28, 28, 6)         156       \n",
      "_________________________________________________________________\n",
      "max_pooling2d (MaxPooling2D) (None, 14, 14, 6)         0         \n",
      "_________________________________________________________________\n",
      "conv2d_1 (Conv2D)            (None, 10, 10, 16)        2416      \n",
      "_________________________________________________________________\n",
      "max_pooling2d_1 (MaxPooling2 (None, 5, 5, 16)          0         \n",
      "_________________________________________________________________\n",
      "flatten (Flatten)            (None, 400)               0         \n",
      "_________________________________________________________________\n",
      "dense (Dense)                (None, 120)               48120     \n",
      "_________________________________________________________________\n",
      "dense_1 (Dense)              (None, 80)                9680      \n",
      "_________________________________________________________________\n",
      "dense_2 (Dense)              (None, 10)                810       \n",
      "=================================================================\n",
      "Total params: 61,182\n",
      "Trainable params: 61,182\n",
      "Non-trainable params: 0\n",
      "_________________________________________________________________\n"
     ]
    }
   ],
   "source": [
    "model = models.Sequential()\n",
    "conv1 = layers.Conv2D(6, (5, 5), padding='same', activation='relu', input_shape=(28, 28 ,1))\n",
    "model.add(conv1)\n",
    "model.add(layers.MaxPooling2D((2, 2)))\n",
    "conv2 = layers.Conv2D(16, (5, 5), activation='relu')\n",
    "model.add(conv2)\n",
    "model.add(layers.MaxPooling2D((2, 2)))\n",
    "model.add(layers.Flatten(input_shape=(5, 5, 16)))\n",
    "model.add(layers.Dense(120, activation='relu'))\n",
    "model.add(layers.Dense(80, activation='relu'))\n",
    "model.add(layers.Dense(10, activation='softmax'))\n",
    "model.summary()"
   ]
  },
  {
   "cell_type": "code",
   "execution_count": 5,
   "metadata": {},
   "outputs": [],
   "source": [
    "#print_weights = callbacks.LambdaCallback(on_epoch_end=lambda batch, logs: print(conv1.get_weights()[0]))"
   ]
  },
  {
   "cell_type": "code",
   "execution_count": 6,
   "metadata": {},
   "outputs": [],
   "source": [
    "model.compile(optimizer='adam',\n",
    "              loss=tf.keras.losses.CategoricalCrossentropy(),\n",
    "              metrics=['accuracy'])"
   ]
  },
  {
   "cell_type": "code",
   "execution_count": 7,
   "metadata": {},
   "outputs": [
    {
     "data": {
      "image/png": "[encoded data removed]",
      "text/plain": [
       "<Figure size 1080x1080 with 6 Axes>"
      ]
     },
     "metadata": {
      "needs_background": "light"
     },
     "output_type": "display_data"
    }
   ],
   "source": [
    "weights_i  = displayConvLayer(conv1)"
   ]
  },
  {
   "cell_type": "code",
   "execution_count": 8,
   "metadata": {},
   "outputs": [
    {
     "name": "stdout",
     "output_type": "stream",
     "text": [
      "Train on 60000 samples, validate on 10000 samples\n",
      "Epoch 1/20\n",
      "60000/60000 [==============================] - 32s 531us/sample - loss: 0.3287 - accuracy: 0.9007 - val_loss: 0.0778 - val_accuracy: 0.9743\n",
      "Epoch 2/20\n",
      "60000/60000 [==============================] - 35s 580us/sample - loss: 0.0803 - accuracy: 0.9757 - val_loss: 0.0632 - val_accuracy: 0.9797\n",
      "Epoch 3/20\n",
      "60000/60000 [==============================] - 33s 549us/sample - loss: 0.0582 - accuracy: 0.9818 - val_loss: 0.0432 - val_accuracy: 0.9848\n",
      "Epoch 4/20\n",
      "60000/60000 [==============================] - 36s 599us/sample - loss: 0.0447 - accuracy: 0.9860 - val_loss: 0.0429 - val_accuracy: 0.9854\n",
      "Epoch 5/20\n",
      "60000/60000 [==============================] - 41s 679us/sample - loss: 0.0362 - accuracy: 0.9889 - val_loss: 0.0389 - val_accuracy: 0.9877\n",
      "Epoch 6/20\n",
      "60000/60000 [==============================] - 37s 622us/sample - loss: 0.0311 - accuracy: 0.9904 - val_loss: 0.0392 - val_accuracy: 0.9878\n",
      "Epoch 7/20\n",
      "60000/60000 [==============================] - 35s 577us/sample - loss: 0.0256 - accuracy: 0.9920 - val_loss: 0.0332 - val_accuracy: 0.9890\n",
      "Epoch 8/20\n",
      "60000/60000 [==============================] - 31s 518us/sample - loss: 0.0234 - accuracy: 0.9924 - val_loss: 0.0350 - val_accuracy: 0.9888\n",
      "Epoch 9/20\n",
      "60000/60000 [==============================] - 34s 563us/sample - loss: 0.0200 - accuracy: 0.9934 - val_loss: 0.0334 - val_accuracy: 0.9900\n",
      "Epoch 10/20\n",
      "60000/60000 [==============================] - 35s 582us/sample - loss: 0.0175 - accuracy: 0.9943 - val_loss: 0.0392 - val_accuracy: 0.9875\n",
      "Epoch 11/20\n",
      "60000/60000 [==============================] - 35s 576us/sample - loss: 0.0166 - accuracy: 0.9942 - val_loss: 0.0366 - val_accuracy: 0.9886\n",
      "Epoch 12/20\n",
      "60000/60000 [==============================] - 32s 530us/sample - loss: 0.0137 - accuracy: 0.9955 - val_loss: 0.0327 - val_accuracy: 0.9905\n",
      "Epoch 13/20\n",
      "60000/60000 [==============================] - 31s 520us/sample - loss: 0.0111 - accuracy: 0.9961 - val_loss: 0.0450 - val_accuracy: 0.9875\n",
      "Epoch 14/20\n",
      "60000/60000 [==============================] - 34s 570us/sample - loss: 0.0114 - accuracy: 0.9960 - val_loss: 0.0313 - val_accuracy: 0.9910\n",
      "Epoch 15/20\n",
      "60000/60000 [==============================] - 31s 512us/sample - loss: 0.0106 - accuracy: 0.9963 - val_loss: 0.0439 - val_accuracy: 0.9873\n",
      "Epoch 16/20\n",
      "60000/60000 [==============================] - 31s 519us/sample - loss: 0.0099 - accuracy: 0.9966 - val_loss: 0.0337 - val_accuracy: 0.9904\n",
      "Epoch 17/20\n",
      "60000/60000 [==============================] - 33s 548us/sample - loss: 0.0078 - accuracy: 0.9976 - val_loss: 0.0406 - val_accuracy: 0.9894\n",
      "Epoch 18/20\n",
      "60000/60000 [==============================] - 33s 555us/sample - loss: 0.0073 - accuracy: 0.9973 - val_loss: 0.0577 - val_accuracy: 0.9861\n",
      "Epoch 19/20\n",
      "60000/60000 [==============================] - 36s 593us/sample - loss: 0.0070 - accuracy: 0.9977 - val_loss: 0.0369 - val_accuracy: 0.9902\n",
      "Epoch 20/20\n",
      "60000/60000 [==============================] - 33s 553us/sample - loss: 0.0064 - accuracy: 0.9978 - val_loss: 0.0453 - val_accuracy: 0.9891\n"
     ]
    }
   ],
   "source": [
    "history = model.fit(x_train, tf.one_hot(y_train,10), batch_size  = 128, epochs=20,\n",
    "          validation_data=(x_test, tf.one_hot(y_test,10)))"
   ]
  },
  {
   "cell_type": "code",
   "execution_count": 9,
   "metadata": {},
   "outputs": [
    {
     "data": {
      "image/png": "[encoded data removed]",
      "text/plain": [
       "<Figure size 1080x1080 with 6 Axes>"
      ]
     },
     "metadata": {
      "needs_background": "light"
     },
     "output_type": "display_data"
    }
   ],
   "source": [
    "weights_f = displayConvLayer(conv1)"
   ]
  },
  {
   "cell_type": "code",
   "execution_count": 10,
   "metadata": {},
   "outputs": [
    {
     "name": "stdout",
     "output_type": "stream",
     "text": [
      "10000/1 - 2s - loss: 0.0227 - accuracy: 0.9891\n"
     ]
    },
    {
     "data": {
      "image/png": "[encoded data removed]",
      "text/plain": [
       "<Figure size 432x288 with 1 Axes>"
      ]
     },
     "metadata": {
      "needs_background": "light"
     },
     "output_type": "display_data"
    }
   ],
   "source": [
    "plt.plot(history.history['accuracy'], label='accuracy')\n",
    "plt.plot(history.history['val_accuracy'], label = 'val_accuracy')\n",
    "plt.xlabel('Epoch')\n",
    "plt.ylabel('Accuracy')\n",
    "plt.ylim([0.5, 1])\n",
    "plt.legend(loc='lower right')\n",
    "\n",
    "test_loss, test_acc = model.evaluate(x_test,  tf.one_hot(y_test,10), verbose=2)"
   ]
  },
  {
   "cell_type": "code",
   "execution_count": 11,
   "metadata": {},
   "outputs": [
    {
     "data": {
      "text/plain": [
       "Text(0, 0.5, 'Loss')"
      ]
     },
     "execution_count": 11,
     "metadata": {},
     "output_type": "execute_result"
    },
    {
     "data": {
      "image/png": "[encoded data removed]",
      "text/plain": [
       "<Figure size 432x288 with 1 Axes>"
      ]
     },
     "metadata": {
      "needs_background": "light"
     },
     "output_type": "display_data"
    }
   ],
   "source": [
    "plt.plot(history.history['loss'], label='loss')\n",
    "plt.xlabel('Epoch')\n",
    "plt.ylabel('Loss')"
   ]
  }
 ],
 "metadata": {
  "kernelspec": {
   "display_name": "Python 3",
   "language": "python",
   "name": "python3"
  },
  "language_info": {
   "codemirror_mode": {
    "name": "ipython",
    "version": 3
   },
   "file_extension": ".py",
   "mimetype": "text/x-python",
   "name": "python",
   "nbconvert_exporter": "python",
   "pygments_lexer": "ipython3",
   "version": "3.7.4"
  }
 },
 "nbformat": 4,
 "nbformat_minor": 2
}
