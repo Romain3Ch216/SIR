{
 "cells": [
  {
   "cell_type": "markdown",
   "metadata": {},
   "source": [
    "# Problème SVM"
   ]
  },
  {
   "cell_type": "code",
   "execution_count": 61,
   "metadata": {},
   "outputs": [],
   "source": [
    "import numpy as np\n",
    "import matplotlib.pyplot as plt\n",
    "from numpy import array, dot\n",
    "import cvxopt\n",
    "from cvxopt import matrix, solvers"
   ]
  },
  {
   "cell_type": "code",
   "execution_count": 2,
   "metadata": {},
   "outputs": [],
   "source": [
    "#%qtconsole"
   ]
  },
  {
   "cell_type": "code",
   "execution_count": 62,
   "metadata": {},
   "outputs": [],
   "source": [
    "def set_color(y):\n",
    "    res = []\n",
    "    for e in y:\n",
    "        if e == -1:\n",
    "            res.append('Blue')\n",
    "        else:\n",
    "            res.append('Green')\n",
    "    return res"
   ]
  },
  {
   "cell_type": "code",
   "execution_count": 63,
   "metadata": {},
   "outputs": [],
   "source": [
    "def marge_fonctionnelle(X,y,w,b):\n",
    "    marge = 10e6\n",
    "    for i in range(0,len(X)):\n",
    "        dist = y[i][0]*(np.dot(np.transpose(w),X[i,:])+b)\n",
    "        if dist < marge:\n",
    "            marge = dist\n",
    "    return marge"
   ]
  },
  {
   "cell_type": "code",
   "execution_count": 64,
   "metadata": {},
   "outputs": [
    {
     "data": {
      "text/plain": [
       "<matplotlib.collections.PathCollection at 0x7f5c89eeb550>"
      ]
     },
     "execution_count": 64,
     "metadata": {},
     "output_type": "execute_result"
    },
    {
     "data": {
      "image/png": "[encoded data removed]",
      "text/plain": [
       "<Figure size 432x288 with 1 Axes>"
      ]
     },
     "metadata": {
      "needs_background": "light"
     },
     "output_type": "display_data"
    }
   ],
   "source": [
    "X = np.array([[0,1],[0,2],[1,2],[2,3],[4,0],[2,0],[2,1],[3,2]])\n",
    "y = np.array([[1],[1],[1],[1],[-1],[-1],[-1],[-1]])\n",
    "\n",
    "ax = plt.gca()\n",
    "ax.scatter(X[:,0], X[:, 1], c = set_color(y.ravel()) ,s=30, linewidth=1)"
   ]
  },
  {
   "cell_type": "markdown",
   "metadata": {},
   "source": [
    "# Formulation primale"
   ]
  },
  {
   "cell_type": "code",
   "execution_count": 65,
   "metadata": {},
   "outputs": [],
   "source": [
    "Q = [0.] + [1.]*2\n",
    "Q = np.diag(Q)\n",
    "n_X = np.shape(X)[0]\n",
    "\n",
    "A = np.concatenate((np.ones((n_X,1)),X),axis=1)\n",
    "k,l = np.shape(A)\n",
    "\n",
    "for i in range(k):\n",
    "    A[i,:]=A[i,:]*y[i][0]\n",
    "\n",
    "\n",
    "c = np.ones((n_X,1))\n",
    "\n",
    "p = np.zeros((3,1))\n",
    "\n",
    "Q = cvxopt.matrix(Q)\n",
    "p = cvxopt.matrix(p)\n",
    "A = cvxopt.matrix(-A)\n",
    "c = cvxopt.matrix(-c)"
   ]
  },
  {
   "cell_type": "code",
   "execution_count": 66,
   "metadata": {},
   "outputs": [
    {
     "name": "stdout",
     "output_type": "stream",
     "text": [
      "     pcost       dcost       gap    pres   dres\n",
      " 0:  1.8489e-01  5.8201e+00  2e+01  2e+00  1e+01\n",
      " 1:  1.7181e+00 -2.8528e+00  7e+00  5e-01  4e+00\n",
      " 2:  1.5965e+00  7.0382e-01  9e-01  2e-16  1e-15\n",
      " 3:  1.0088e+00  9.7750e-01  3e-02  7e-16  2e-15\n",
      " 4:  1.0001e+00  9.9978e-01  3e-04  2e-16  2e-15\n",
      " 5:  1.0000e+00  1.0000e+00  3e-06  4e-16  8e-15\n",
      " 6:  1.0000e+00  1.0000e+00  3e-08  4e-16  1e-15\n",
      "Optimal solution found.\n",
      "b optimal :  9.214830823715944e-09\n",
      "w optimal : \n",
      "[[-1.00000001]\n",
      " [ 1.        ]]\n"
     ]
    }
   ],
   "source": [
    "sol = solvers.qp(Q,p,A,c)\n",
    "\n",
    "b_opt = sol['x'][0]\n",
    "w_opt = np.array([[sol['x'][1]],[sol['x'][2]]])\n",
    "\n",
    "print('b optimal : ',b_opt)\n",
    "print('w optimal : ')\n",
    "print(w_opt)"
   ]
  },
  {
   "cell_type": "markdown",
   "metadata": {},
   "source": [
    "Question 1"
   ]
  },
  {
   "cell_type": "raw",
   "metadata": {},
   "source": [
    "En utilisant la formulation primale, les paramètres optimaux de l'hyperplan sont : \n",
    "\n",
    " - w* = [-1,1]'\n",
    " - b* = 9.21e-09"
   ]
  },
  {
   "cell_type": "code",
   "execution_count": 7,
   "metadata": {},
   "outputs": [],
   "source": [
    "xx = np.arange(0,4,0.5)\n",
    "coef_d = -w_opt[0][0]/w_opt[1][0]\n",
    "\n",
    "yy_opt = [coef_d*e - b_opt/w_opt[1][0] for e in xx]\n",
    "\n",
    "norme_w_opt = np.linalg.norm(w_opt)\n",
    "dist = 1/norme_w_opt\n",
    "\n",
    "yy_plus = [e + dist/np.cos(np.arctan(coef_d)) for e in yy_opt]\n",
    "yy_moins = [e - dist/np.cos(np.arctan(coef_d)) for e in yy_opt]"
   ]
  },
  {
   "cell_type": "markdown",
   "metadata": {},
   "source": [
    "Question 2"
   ]
  },
  {
   "cell_type": "raw",
   "metadata": {},
   "source": [
    "On affiche l'hyperplan optimal en bleu, ainsi que les marges en pointillés. "
   ]
  },
  {
   "cell_type": "code",
   "execution_count": 18,
   "metadata": {},
   "outputs": [
    {
     "data": {
      "image/png": "[encoded data removed]",
      "text/plain": [
       "<Figure size 432x288 with 1 Axes>"
      ]
     },
     "metadata": {
      "needs_background": "light"
     },
     "output_type": "display_data"
    }
   ],
   "source": [
    "ax = plt.gca()\n",
    "ax.scatter(X[:,0], X[:, 1], c = set_color(y.ravel()) ,s=30, linewidth=1)\n",
    "plt.plot(xx,yy_opt)\n",
    "plt.plot(xx,yy_plus, '--')\n",
    "plt.plot(xx,yy_moins, '--')\n",
    "plt.grid(True)\n",
    "plt.show()"
   ]
  },
  {
   "cell_type": "markdown",
   "metadata": {},
   "source": [
    "# Formulation duale"
   ]
  },
  {
   "cell_type": "code",
   "execution_count": 67,
   "metadata": {},
   "outputs": [
    {
     "name": "stdout",
     "output_type": "stream",
     "text": [
      "     pcost       dcost       gap    pres   dres\n",
      " 0: -2.1646e+00 -4.2295e+00  3e+01  5e+00  2e+00\n",
      " 1: -9.7232e-01 -2.9244e+00  8e+00  1e+00  4e-01\n",
      " 2: -7.2626e-01 -1.5993e+00  1e+00  4e-02  1e-02\n",
      " 3: -9.6943e-01 -1.0277e+00  6e-02  1e-03  3e-04\n",
      " 4: -9.9965e-01 -1.0003e+00  7e-04  1e-05  4e-06\n",
      " 5: -1.0000e+00 -1.0000e+00  7e-06  1e-07  4e-08\n",
      " 6: -1.0000e+00 -1.0000e+00  7e-08  1e-09  4e-10\n",
      "Optimal solution found.\n"
     ]
    }
   ],
   "source": [
    "N = np.shape(X)[0]\n",
    "Q = np.zeros((N,N))\n",
    "for i in range(N):\n",
    "    for j in range(N):\n",
    "        Q[i,j] = y[i]*y[j]*np.dot(np.transpose(X[i]),X[j])\n",
    "\n",
    "A = np.concatenate((np.transpose(y),-np.transpose(y)),axis=0)\n",
    "A = np.concatenate((A,np.identity(N)),axis=0)\n",
    "\n",
    "c = np.zeros((N+2,1))\n",
    "\n",
    "p = -np.ones((N,1))\n",
    "\n",
    "Q = cvxopt.matrix(Q)\n",
    "p = cvxopt.matrix(p)\n",
    "A = cvxopt.matrix(-A)\n",
    "c = cvxopt.matrix(-c)\n",
    "\n",
    "sol = solvers.qp(Q,p,A,c)\n",
    "\n",
    "alpha_opt = sol['x']\n",
    "w_opt = 0\n",
    "for i in range(N):\n",
    "    w_opt += y[i]*alpha_opt[i]*X[i]\n",
    "    \n",
    "b = []\n",
    "for i in range(N):\n",
    "    b.append(1/y[i]-np.dot(np.transpose(w_opt),X[i]))\n",
    "\n",
    "b = []\n",
    "for i in range(N):\n",
    "    b.append(1/y[i]-np.dot(np.transpose(w_opt),X[i]))\n",
    "\n",
    "marge = []\n",
    "for i in range(N):\n",
    "    marge.append(marge_fonctionnelle(X,y,w_opt,b[i]))\n",
    "\n",
    "b_opt = b[marge.index(1)][0]\n",
    "\n",
    "xx = np.arange(0,4,0.5)\n",
    "coef_d = -w_opt[0]/w_opt[1]\n",
    "\n",
    "yy_opt = [coef_d*e - b_opt/w_opt[1] for e in xx]\n",
    "\n",
    "norme_w_opt = np.linalg.norm(w_opt)\n",
    "dist = 1/norme_w_opt\n",
    "\n",
    "yy_plus = [e + dist/np.cos(np.arctan(coef_d)) for e in yy_opt]\n",
    "yy_moins = [e - dist/np.cos(np.arctan(coef_d)) for e in yy_opt]"
   ]
  },
  {
   "cell_type": "code",
   "execution_count": 68,
   "metadata": {},
   "outputs": [
    {
     "name": "stdout",
     "output_type": "stream",
     "text": [
      "b optimal :  8.134731999120959e-09\n",
      "Alphas optimaux : \n",
      "[ 1.90e-01]\n",
      "[ 1.05e-08]\n",
      "[ 3.01e-01]\n",
      "[ 5.08e-01]\n",
      "[ 7.78e-09]\n",
      "[ 9.38e-10]\n",
      "[ 6.82e-01]\n",
      "[ 3.18e-01]\n",
      "\n",
      "w optimal : \n",
      "[-1.00000002  1.00000001]\n"
     ]
    }
   ],
   "source": [
    "print('b optimal : ',b_opt)\n",
    "print('Alphas optimaux : ')\n",
    "print(alpha_opt)\n",
    "print('w optimal : ')\n",
    "print(w_opt)"
   ]
  },
  {
   "cell_type": "raw",
   "metadata": {},
   "source": [
    "En utilisant la formulation duale, les paramètres optimaux de l'hyperplan sont : \n",
    " - w* = [-1.00000002,1.00000001]'\n",
    " - b* = 8.12e-09\n",
    " \n",
    "Les coefficients de Lagrange optimaux sont :\n",
    " - 1.9e-1,\n",
    " - 0\n",
    " - 3e-01,\n",
    " -5e-01,\n",
    " -0,\n",
    " -0,\n",
    " -6e-1,\n",
    " 3e-1."
   ]
  },
  {
   "cell_type": "code",
   "execution_count": 58,
   "metadata": {},
   "outputs": [],
   "source": [
    "def marge(x,y,w,b):\n",
    "    res = y[0]*(np.dot(np.transpose(w),x)+b)\n",
    "    return res"
   ]
  },
  {
   "cell_type": "code",
   "execution_count": 60,
   "metadata": {},
   "outputs": [
    {
     "name": "stdout",
     "output_type": "stream",
     "text": [
      "1.0000000175348809\n",
      "Vecteur support:  [0 1] Classe :  [1]\n",
      "Marge fonctionelle :  1.0000000175348809\n",
      "2.0000000269350298\n",
      "1.0000000087674406\n",
      "Vecteur support:  [1 2] Classe :  [1]\n",
      "Marge fonctionelle :  1.0000000087674406\n",
      "1.0\n",
      "Vecteur support:  [2 3] Classe :  [1]\n",
      "Marge fonctionelle :  1.0\n",
      "4.000000064535625\n",
      "2.0000000282004464\n",
      "1.0000000188002975\n",
      "Vecteur support:  [2 1] Classe :  [-1]\n",
      "Marge fonctionelle :  1.0000000188002975\n",
      "1.0000000275677379\n",
      "Vecteur support:  [3 2] Classe :  [-1]\n",
      "Marge fonctionelle :  1.0000000275677379\n"
     ]
    }
   ],
   "source": [
    "for i in range(len(X)):\n",
    "    mf = marge(X[i],y[i],w_opt,b_opt)\n",
    "    print(mf)\n",
    "    if round(mf) == 1:\n",
    "        print('Vecteur support: ',X[i], 'Classe : ', y[i])\n",
    "        print('Marge fonctionelle : ', mf)"
   ]
  },
  {
   "cell_type": "raw",
   "metadata": {},
   "source": [
    "Valeur avant seuil primale"
   ]
  },
  {
   "cell_type": "code",
   "execution_count": 45,
   "metadata": {},
   "outputs": [
    {
     "name": "stdout",
     "output_type": "stream",
     "text": [
      "3.0000000363351784\n"
     ]
    }
   ],
   "source": [
    "x=[0,3]\n",
    "s_primale = np.dot(np.transpose(w_opt),x)+b_opt\n",
    "print(s_duale)"
   ]
  },
  {
   "cell_type": "code",
   "execution_count": 24,
   "metadata": {},
   "outputs": [
    {
     "data": {
      "image/png": "[encoded data removed]",
      "text/plain": [
       "<Figure size 432x288 with 1 Axes>"
      ]
     },
     "metadata": {
      "needs_background": "light"
     },
     "output_type": "display_data"
    }
   ],
   "source": [
    "ax = plt.gca()\n",
    "ax.scatter(X[:,0], X[:, 1], c = set_color(y.ravel()) ,s=30, linewidth=1)\n",
    "plt.plot(xx,yy_opt)\n",
    "plt.plot(xx,yy_plus)\n",
    "plt.plot(xx,yy_moins)\n",
    "plt.grid(True)\n",
    "plt.show()"
   ]
  },
  {
   "cell_type": "raw",
   "metadata": {},
   "source": [
    "Valeur avant seuil duale"
   ]
  },
  {
   "cell_type": "code",
   "execution_count": 42,
   "metadata": {},
   "outputs": [
    {
     "name": "stdout",
     "output_type": "stream",
     "text": [
      "3.0000000363351784\n"
     ]
    }
   ],
   "source": [
    "x=[0,3]\n",
    "s_duale = np.dot(np.transpose(w_opt),x)+b_opt\n",
    "print(s_duale)"
   ]
  }
 ],
 "metadata": {
  "kernelspec": {
   "display_name": "Python 3",
   "language": "python",
   "name": "python3"
  },
  "language_info": {
   "codemirror_mode": {
    "name": "ipython",
    "version": 3
   },
   "file_extension": ".py",
   "mimetype": "text/x-python",
   "name": "python",
   "nbconvert_exporter": "python",
   "pygments_lexer": "ipython3",
   "version": "3.7.4"
  }
 },
 "nbformat": 4,
 "nbformat_minor": 2
}
