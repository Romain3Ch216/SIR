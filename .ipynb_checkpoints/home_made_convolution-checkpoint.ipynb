{
 "cells": [
  {
   "cell_type": "code",
   "execution_count": null,
   "metadata": {},
   "outputs": [],
   "source": [
    "def home_made_convolution(image,size_filter):\n",
    "    n,p = image.shape\n",
    "    res = np.zeros((n-size_filter+1,p-size_filter+1))\n",
    "    for i in range(n-size_filter+1):\n",
    "        for j in range(p-size_filter+1):\n",
    "            for k in range(-size_filter//2,size_filter//2):\n",
    "                for m in range(-size_filter//2,size_filter//2):\n",
    "                    res[i,j] += image[i+size_filter//2+k,j+size_filter//2+m]\n",
    "    return res"
   ]
  }
 ],
 "metadata": {
  "kernelspec": {
   "display_name": "Python 3",
   "language": "python",
   "name": "python3"
  },
  "language_info": {
   "codemirror_mode": {
    "name": "ipython",
    "version": 3
   },
   "file_extension": ".py",
   "mimetype": "text/x-python",
   "name": "python",
   "nbconvert_exporter": "python",
   "pygments_lexer": "ipython3",
   "version": "3.7.4"
  }
 },
 "nbformat": 4,
 "nbformat_minor": 2
}
