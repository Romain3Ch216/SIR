{
 "cells": [
  {
   "cell_type": "code",
   "execution_count": 1,
   "metadata": {},
   "outputs": [],
   "source": [
    "import numpy as np"
   ]
  },
  {
   "cell_type": "code",
   "execution_count": 2,
   "metadata": {},
   "outputs": [],
   "source": [
    "X = np.array([[0,0],[2,2],[3,0],[2,0]])\n",
    "y = np.array([[-1],[-1],[1],[1]])\n",
    "\n",
    "w = np.array([[1.2],[-3.2]])\n",
    "b = -0.5"
   ]
  },
  {
   "cell_type": "code",
   "execution_count": 3,
   "metadata": {},
   "outputs": [],
   "source": [
    "def marge_fonctionnelle(X,y,w,b):\n",
    "    marge = 10e6\n",
    "    for i in range(0,len(X)):\n",
    "        dist = y[i][0]*(np.dot(np.transpose(w),X[i,:])[0]+b)\n",
    "        if dist < marge:\n",
    "            marge = dist\n",
    "    return marge"
   ]
  },
  {
   "cell_type": "code",
   "execution_count": 4,
   "metadata": {},
   "outputs": [],
   "source": [
    "p = marge_fonctionnelle(X,y,w,b)\n",
    "#Calcul du nouvel hyperplan avec une marge fonctionnelle unitaire\n",
    "w2 = w/p\n",
    "b2 = b/p"
   ]
  },
  {
   "cell_type": "code",
   "execution_count": 6,
   "metadata": {},
   "outputs": [
    {
     "data": {
      "image/png": "[encoded data removed]",
      "text/plain": [
       "<Figure size 432x288 with 1 Axes>"
      ]
     },
     "metadata": {},
     "output_type": "display_data"
    }
   ],
   "source": [
    "import matplotlib.pyplot as plt\n",
    "\n",
    "#Points de la matrice X\n",
    "x_neg = [c[0] for c in X[0:2]]\n",
    "y_neg = [c[1] for c in X[0:2]]\n",
    "x_pos = [c[0] for c in X[2:4]]\n",
    "y_pos = [c[1] for c in X[2:4]]\n",
    "\n",
    "#Hyperplans\n",
    "x = np.arange(0,2,0.5)\n",
    "y = [-w[0]/w[1]*e - b/w[1] for e in x]\n",
    "y2 = [-w2[0]/w2[1]*e - b2/w2[1] for e in x]\n",
    "\n",
    "plt.plot(x_neg,y_neg,'bo')\n",
    "plt.plot(x_pos,y_pos,'go')\n",
    "plt.plot(y)\n",
    "plt.plot(y2)\n",
    "plt.show()"
   ]
  }
 ],
 "metadata": {
  "kernelspec": {
   "display_name": "Python 3",
   "language": "python",
   "name": "python3"
  },
  "language_info": {
   "codemirror_mode": {
    "name": "ipython",
    "version": 3
   },
   "file_extension": ".py",
   "mimetype": "text/x-python",
   "name": "python",
   "nbconvert_exporter": "python",
   "pygments_lexer": "ipython3",
   "version": "3.6.5"
  }
 },
 "nbformat": 4,
 "nbformat_minor": 2
}
