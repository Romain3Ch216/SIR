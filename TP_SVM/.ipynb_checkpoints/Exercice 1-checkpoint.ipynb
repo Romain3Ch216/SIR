{
 "cells": [
  {
   "cell_type": "code",
   "execution_count": 5,
   "metadata": {},
   "outputs": [],
   "source": [
    "import numpy as np\n",
    "import matplotlib.pyplot as plt\n",
    "%qtconsole"
   ]
  },
  {
   "cell_type": "code",
   "execution_count": 18,
   "metadata": {},
   "outputs": [],
   "source": [
    "X = np.array([[0,0],[2,2],[3,0],[2,0]])\n",
    "y = np.array([[-1],[-1],[1],[1]])\n",
    "\n",
    "w = np.array([[1.2],[-3.2]])\n",
    "b = -0.5"
   ]
  },
  {
   "cell_type": "code",
   "execution_count": 38,
   "metadata": {},
   "outputs": [],
   "source": [
    "def set_color(y):\n",
    "    res = []\n",
    "    for e in y:\n",
    "        if e == -1:\n",
    "            res.append('Blue')\n",
    "        else:\n",
    "            res.append('Green')\n",
    "    return res"
   ]
  },
  {
   "cell_type": "code",
   "execution_count": 3,
   "metadata": {},
   "outputs": [],
   "source": [
    "def marge_fonctionnelle(X,y,w,b):\n",
    "    marge = 10e6\n",
    "    for i in range(0,len(X)):\n",
    "        dist = y[i][0]*(np.dot(np.transpose(w),X[i,:])[0]+b)\n",
    "        if dist < marge:\n",
    "            marge = dist\n",
    "    return marge"
   ]
  },
  {
   "cell_type": "code",
   "execution_count": 4,
   "metadata": {},
   "outputs": [],
   "source": [
    "p = marge_fonctionnelle(X,y,w,b)\n",
    "#Calcul du nouvel hyperplan avec une marge fonctionnelle unitaire\n",
    "w2 = w/p\n",
    "b2 = b/p"
   ]
  },
  {
   "cell_type": "code",
   "execution_count": 45,
   "metadata": {},
   "outputs": [],
   "source": [
    "def H(w,b,x):\n",
    "    return -w[0]/w[1]*x - b/w[1]"
   ]
  },
  {
   "cell_type": "code",
   "execution_count": 46,
   "metadata": {},
   "outputs": [
    {
     "data": {
      "image/png": "[encoded data removed]",
      "text/plain": [
       "<Figure size 432x288 with 1 Axes>"
      ]
     },
     "metadata": {
      "needs_background": "light"
     },
     "output_type": "display_data"
    }
   ],
   "source": [
    "ax = plt.gca()\n",
    "ax.scatter(X[:,0], X[:, 1], c = set_color(y.ravel()) ,s=30, linewidth=1)\n",
    "xx = np.linspace(0,3,100)\n",
    "ax.plot(xx,H(w,b,xx))\n",
    "plt.show()"
   ]
  }
 ],
 "metadata": {
  "kernelspec": {
   "display_name": "Python 3",
   "language": "python",
   "name": "python3"
  },
  "language_info": {
   "codemirror_mode": {
    "name": "ipython",
    "version": 3
   },
   "file_extension": ".py",
   "mimetype": "text/x-python",
   "name": "python",
   "nbconvert_exporter": "python",
   "pygments_lexer": "ipython3",
   "version": "3.7.4"
  }
 },
 "nbformat": 4,
 "nbformat_minor": 2
}
