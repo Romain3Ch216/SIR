{
 "cells": [
  {
   "cell_type": "code",
   "execution_count": 1,
   "metadata": {},
   "outputs": [],
   "source": [
    "import numpy as np\n",
    "import matplotlib.pyplot as plt\n",
    "from numpy import array, dot\n",
    "import cvxopt\n",
    "from cvxopt import matrix, solvers"
   ]
  },
  {
   "cell_type": "code",
   "execution_count": 2,
   "metadata": {},
   "outputs": [],
   "source": [
    "%qtconsole"
   ]
  },
  {
   "cell_type": "code",
   "execution_count": 3,
   "metadata": {},
   "outputs": [
    {
     "data": {
      "image/png": "[encoded data removed]",
      "text/plain": [
       "<Figure size 432x288 with 1 Axes>"
      ]
     },
     "metadata": {},
     "output_type": "display_data"
    }
   ],
   "source": [
    "# X = np.array([[0,0],[2,2],[2,3],[3,0],[2,0],[1.5,0]])\n",
    "# y = np.array([[-1],[-1],[-1],[1],[1],[1]])\n",
    "X = np.array([[0,0],[2,2],[3,0],[2,0]])\n",
    "y = np.array([[-1],[-1],[1],[1]])\n",
    "\n",
    "N = np.shape(X)[0]\n",
    "\n",
    "w = np.array([[1.2],[-3.2]])\n",
    "b = -0.5\n",
    "\n",
    "#Points de la matrice X\n",
    "x_neg = [c[0] for c in X[0:N//2]]\n",
    "y_neg = [c[1] for c in X[0:N//2]]\n",
    "x_pos = [c[0] for c in X[N//2:N]]\n",
    "y_pos = [c[1] for c in X[N//2:N]]\n",
    "\n",
    "plt.plot(x_neg,y_neg,'bo')\n",
    "plt.plot(x_pos,y_pos,'go')\n",
    "plt.grid(True)\n",
    "plt.show()"
   ]
  },
  {
   "cell_type": "code",
   "execution_count": 4,
   "metadata": {},
   "outputs": [],
   "source": [
    "def marge_fonctionnelle(X,y,w,b):\n",
    "    marge = 10e6\n",
    "    for i in range(0,len(X)):\n",
    "        dist = y[i][0]*(np.dot(np.transpose(w),X[i,:])+b)\n",
    "        if dist < marge:\n",
    "            marge = dist\n",
    "    return marge"
   ]
  },
  {
   "cell_type": "code",
   "execution_count": 5,
   "metadata": {},
   "outputs": [
    {
     "name": "stdout",
     "output_type": "stream",
     "text": [
      "     pcost       dcost       gap    pres   dres\n",
      " 0: -1.0249e+00 -2.3063e+00  1e+01  3e+00  2e+00\n",
      " 1: -8.2851e-01 -1.7889e+00  1e+00  1e-01  6e-02\n",
      " 2: -9.8330e-01 -1.0720e+00  1e-01  4e-03  2e-03\n",
      " 3: -9.9979e-01 -1.0008e+00  1e-03  4e-05  2e-05\n",
      " 4: -1.0000e+00 -1.0000e+00  1e-05  4e-07  2e-07\n",
      " 5: -1.0000e+00 -1.0000e+00  1e-07  4e-09  2e-09\n",
      "Optimal solution found.\n"
     ]
    }
   ],
   "source": [
    "N = np.shape(X)[0]\n",
    "Q = np.zeros((N,N))\n",
    "for i in range(N):\n",
    "    for j in range(N):\n",
    "        Q[i,j] = y[i]*y[j]*np.dot(np.transpose(X[i]),X[j])\n",
    "\n",
    "A = np.concatenate((np.transpose(y),-np.transpose(y)),axis=0)\n",
    "A = np.concatenate((A,np.identity(N)),axis=0)\n",
    "\n",
    "c = np.zeros((N+2,1))\n",
    "\n",
    "p = -np.ones((N,1))\n",
    "\n",
    "Q = cvxopt.matrix(Q)\n",
    "p = cvxopt.matrix(p)\n",
    "A = cvxopt.matrix(-A)\n",
    "c = cvxopt.matrix(-c)\n",
    "\n",
    "sol = solvers.qp(Q,p,A,c)\n",
    "\n",
    "alpha_opt = sol['x']\n",
    "w_opt = 0\n",
    "for i in range(N):\n",
    "    w_opt += y[i]*alpha_opt[i]*X[i]\n",
    "    \n",
    "b = []\n",
    "for i in range(N):\n",
    "    b.append(1/y[i]-np.dot(np.transpose(w_opt),X[i]))\n",
    "\n",
    "b = []\n",
    "for i in range(N):\n",
    "    b.append(1/y[i]-np.dot(np.transpose(w_opt),X[i]))\n",
    "\n",
    "marge = []\n",
    "for i in range(N):\n",
    "    marge.append(marge_fonctionnelle(X,y,w_opt,b[i]))\n",
    "\n",
    "b_opt = b[marge.index(1)][0]\n",
    "\n",
    "xx = np.arange(0,4,0.5)\n",
    "coef_d = -w_opt[0]/w_opt[1]\n",
    "\n",
    "yy_opt = [coef_d*e - b_opt/w_opt[1] for e in xx]\n",
    "\n",
    "norme_w_opt = np.linalg.norm(w_opt)\n",
    "dist = 1/norme_w_opt\n",
    "\n",
    "yy_plus = [e + dist/np.cos(np.arctan(coef_d)) for e in yy_opt]\n",
    "yy_moins = [e - dist/np.cos(np.arctan(coef_d)) for e in yy_opt]"
   ]
  },
  {
   "cell_type": "code",
   "execution_count": 6,
   "metadata": {},
   "outputs": [
    {
     "data": {
      "image/png": "[encoded data removed]",
      "text/plain": [
       "<Figure size 432x288 with 1 Axes>"
      ]
     },
     "metadata": {},
     "output_type": "display_data"
    }
   ],
   "source": [
    "plt.plot(x_neg,y_neg,'bo')\n",
    "plt.plot(x_pos,y_pos,'go')\n",
    "plt.plot(xx,yy_opt)\n",
    "plt.plot(xx,yy_plus)\n",
    "plt.plot(xx,yy_moins)\n",
    "plt.grid(True)\n",
    "plt.show()"
   ]
  },
  {
   "cell_type": "code",
   "execution_count": 7,
   "metadata": {},
   "outputs": [],
   "source": [
    "def fonction_decision(x,w,b):\n",
    "    return np.dot(np.transpose(w),x)+b"
   ]
  }
 ],
 "metadata": {
  "kernelspec": {
   "display_name": "Python 3",
   "language": "python",
   "name": "python3"
  },
  "language_info": {
   "codemirror_mode": {
    "name": "ipython",
    "version": 3
   },
   "file_extension": ".py",
   "mimetype": "text/x-python",
   "name": "python",
   "nbconvert_exporter": "python",
   "pygments_lexer": "ipython3",
   "version": "3.7.4"
  }
 },
 "nbformat": 4,
 "nbformat_minor": 2
}
