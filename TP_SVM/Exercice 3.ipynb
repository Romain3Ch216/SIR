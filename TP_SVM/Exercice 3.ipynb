{
 "cells": [
  {
   "cell_type": "code",
   "execution_count": 1,
   "metadata": {},
   "outputs": [],
   "source": [
    "%qtconsole"
   ]
  },
  {
   "cell_type": "code",
   "execution_count": 34,
   "metadata": {},
   "outputs": [],
   "source": [
    "import numpy as np\n",
    "from numpy import array, dot\n",
    "import cvxopt\n",
    "from cvxopt import matrix, solvers\n",
    "import matplotlib.pyplot as plt\n",
    "import matplotlib.image as mpimg\n",
    "from PIL import Image\n",
    "from sklearn import svm\n",
    "from sklearn.metrics import confusion_matrix, accuracy_score"
   ]
  },
  {
   "cell_type": "code",
   "execution_count": 22,
   "metadata": {},
   "outputs": [],
   "source": [
    "def data_to_dict(file_path):\n",
    "    file = open(file_path, 'r') \n",
    "    base = {}\n",
    "    for i in range(10):\n",
    "        base.update([('{}'.format(i),[])])\n",
    "    for line in file:\n",
    "        L = line.split(' ')\n",
    "        L = L[0:-1]\n",
    "        base['{}'.format(int(float(L[0])))].append([float(e) for e in L[1:]])\n",
    "    return base"
   ]
  },
  {
   "cell_type": "code",
   "execution_count": 23,
   "metadata": {},
   "outputs": [],
   "source": [
    "def data_to_array(file_path):\n",
    "    file = open(file_path, 'r')\n",
    "    set_ = []\n",
    "    label = []\n",
    "    for line in file:\n",
    "        L = line.split(' ')\n",
    "        label.append(int(float(L[0])))\n",
    "        set_.append([float(e) for e in L[1:]])\n",
    "    return set_, label"
   ]
  },
  {
   "cell_type": "code",
   "execution_count": 24,
   "metadata": {},
   "outputs": [],
   "source": [
    "base_train = data_to_dict('data/zip.train')\n",
    "set_test, label_test = data_to_array('data/zip.test')"
   ]
  },
  {
   "cell_type": "code",
   "execution_count": 16,
   "metadata": {},
   "outputs": [],
   "source": [
    "def list_to_array(L,n):\n",
    "    res = np.zeros((n,n))\n",
    "    for i in range(n):\n",
    "        K = [float(e) for e in L[i*n:(i+1)*n]]\n",
    "        for j in range(n):\n",
    "            res[i,:][j] = K[j]\n",
    "    return res"
   ]
  },
  {
   "cell_type": "code",
   "execution_count": 17,
   "metadata": {},
   "outputs": [
    {
     "data": {
      "image/png": "[encoded data removed]",
      "text/plain": [
       "<Figure size 432x288 with 1 Axes>"
      ]
     },
     "metadata": {},
     "output_type": "display_data"
    }
   ],
   "source": [
    "image = list_to_array(base_train['0'][0],16)           \n",
    "imgplot = plt.imshow(image)\n",
    "plt.show()"
   ]
  },
  {
   "cell_type": "code",
   "execution_count": 18,
   "metadata": {},
   "outputs": [],
   "source": [
    "def define_set(k,set_dict):\n",
    "    set_, label = [], []\n",
    "    for i in range(10):\n",
    "        L = set_dict['{}'.format(i)]\n",
    "        if i==k:\n",
    "            for j in range(len(L)):\n",
    "                set_.append(L[j])\n",
    "                label.append(1)\n",
    "        else:\n",
    "            for j in range(len(L)):\n",
    "                set_.append(L[j])\n",
    "                label.append(0)\n",
    "    return set_, label"
   ]
  },
  {
   "cell_type": "code",
   "execution_count": 41,
   "metadata": {},
   "outputs": [],
   "source": [
    "def classifieurs():\n",
    "    clf_dict = {}\n",
    "    for i in range(10):\n",
    "        set_train, label_train = define_set(i,base_train)\n",
    "        clf = svm.SVC(kernel=\"linear\",C=0.1)\n",
    "        clf.fit(set_train,label_train)\n",
    "        clf_dict[\"clf{}\".format(i)] = clf\n",
    "    return clf_dict"
   ]
  },
  {
   "cell_type": "code",
   "execution_count": 42,
   "metadata": {},
   "outputs": [],
   "source": [
    "clf_dict = classifieurs()"
   ]
  },
  {
   "cell_type": "code",
   "execution_count": 31,
   "metadata": {},
   "outputs": [],
   "source": [
    "def classifier(exemple):\n",
    "    classes = []\n",
    "    for clf in clf_dict:\n",
    "        classes.append(clf_dict[clf].predict([exemple]))\n",
    "    if sum(classes) > 1:\n",
    "        return -1\n",
    "    elif sum(classes) == 0:\n",
    "        return -1\n",
    "    else:\n",
    "        return classes.index(1)"
   ]
  },
  {
   "cell_type": "code",
   "execution_count": 43,
   "metadata": {},
   "outputs": [],
   "source": [
    "pred = []\n",
    "for i in range(len(set_test)):\n",
    "    pred.append(classifier(set_test[i]))    "
   ]
  },
  {
   "cell_type": "code",
   "execution_count": 44,
   "metadata": {},
   "outputs": [
    {
     "name": "stdout",
     "output_type": "stream",
     "text": [
      "[[  0   0   0   0   0   0   0   0   0   0   0]\n",
      " [ 18 336   0   1   1   3   0   0   0   0   0]\n",
      " [  8   0 251   0   1   2   0   1   0   1   0]\n",
      " [ 32   0   0 152   3   6   0   1   1   3   0]\n",
      " [ 29   2   0   3 124   0   5   0   1   1   1]\n",
      " [ 34   1   1   1   0 157   1   1   1   0   3]\n",
      " [ 32   2   0   0   2   1 120   0   0   0   3]\n",
      " [ 16   0   0   2   0   2   2 148   0   0   0]\n",
      " [ 19   0   0   2   0   2   0   0 120   0   4]\n",
      " [ 41   3   0   0   1   0   1   0   0 120   0]\n",
      " [ 22   0   0   0   0   1   0   0   0   1 153]]\n",
      "0.8375685102142502\n"
     ]
    }
   ],
   "source": [
    "print(confusion_matrix(label_test,pred))\n",
    "print(accuracy_score(label_test, pred, normalize=True))"
   ]
  }
 ],
 "metadata": {
  "kernelspec": {
   "display_name": "Python 3",
   "language": "python",
   "name": "python3"
  },
  "language_info": {
   "codemirror_mode": {
    "name": "ipython",
    "version": 3
   },
   "file_extension": ".py",
   "mimetype": "text/x-python",
   "name": "python",
   "nbconvert_exporter": "python",
   "pygments_lexer": "ipython3",
   "version": "3.6.5"
  }
 },
 "nbformat": 4,
 "nbformat_minor": 2
}
