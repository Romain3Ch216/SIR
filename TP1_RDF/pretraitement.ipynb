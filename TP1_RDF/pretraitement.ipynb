{
 "cells": [
  {
   "cell_type": "markdown",
   "metadata": {},
   "source": [
    "# Pré-traitement des images"
   ]
  },
  {
   "cell_type": "code",
   "execution_count": 7,
   "metadata": {},
   "outputs": [],
   "source": [
    "def letter_border(image):\n",
    "    (x_lenght, y_lenght) = image.shape\n",
    "    x_min = x_lenght\n",
    "    x_max = 0\n",
    "    y_min = y_lenght\n",
    "    y_max = 0\n",
    "    for i in range(x_lenght):\n",
    "        for j in range(y_lenght):\n",
    "            if image[i,j]!=0:\n",
    "                if i < x_min:\n",
    "                    x_min = i\n",
    "                if i > x_max:\n",
    "                    x_max = i\n",
    "                if j < y_min:\n",
    "                    y_min = j\n",
    "                if j > y_max:\n",
    "                    y_max = j\n",
    "    return (x_lenght,y_lenght,x_min,x_max,y_min,y_max)"
   ]
  },
  {
   "cell_type": "code",
   "execution_count": 8,
   "metadata": {},
   "outputs": [],
   "source": [
    "def barycentre(image):\n",
    "    x_lenght,y_lenght,x_min,x_max,y_min,y_max = letter_border(image)\n",
    "    x_pos, y_pos = [], []\n",
    "    for i in range(x_lenght):\n",
    "        for j in range(y_lenght):\n",
    "            if image[i,j]!=0:\n",
    "                x_pos.append(i)\n",
    "                y_pos.append(j)\n",
    "    aire = len(x_pos)\n",
    "    M10 = sum(x_pos)\n",
    "    M01 = sum(y_pos)\n",
    "    bary = [int(M10/aire),int(M01/aire)]\n",
    "\n",
    "    dist_bary_x = max(abs(x_min-bary[0]),abs(x_max-bary[0]))\n",
    "    dist_bary_y = max(abs(y_min-bary[1]),abs(y_max-bary[1]))\n",
    "    \n",
    "    return (bary,dist_bary_x,dist_bary_y)"
   ]
  },
  {
   "cell_type": "code",
   "execution_count": 18,
   "metadata": {},
   "outputs": [],
   "source": [
    "def resize_1(image):\n",
    "    x_lenght,y_lenght,x_min,x_max,y_min,y_max = letter_border(image)\n",
    "    x_min_border = x_min - 5\n",
    "    x_max_border = x_max + 5\n",
    "    y_max_border = y_max + 5\n",
    "    y_min_border = y_min - 5\n",
    "    image = image[x_min_border:x_max_border,y_min_border:y_max_border]"
   ]
  },
  {
   "cell_type": "code",
   "execution_count": 15,
   "metadata": {},
   "outputs": [],
   "source": [
    "def resize_2(image):\n",
    "    bary,dist_bary_x,dist_bary_y = barycentre(image)\n",
    "    x_min_border = bary[0]-dist_bary_x - 5\n",
    "    x_max_border = bary[0]+dist_bary_x + 5\n",
    "    y_max_border = bary[1]+dist_bary_y + 5\n",
    "    y_min_border = bary[1]-dist_bary_y - 5\n",
    "    image = image[x_min_border:x_max_border,y_min_border:y_max_border]"
   ]
  },
  {
   "cell_type": "code",
   "execution_count": 24,
   "metadata": {},
   "outputs": [],
   "source": [
    "def resize_3(image):\n",
    "    bary,dist_bary_x,dist_bary_y = barycentre(image)\n",
    "    margin = max(dist_bary_x,dist_bary_y) + 5\n",
    "    x_min_border = bary[0]- margin\n",
    "    x_max_border = bary[0]+ margin\n",
    "    y_max_border = bary[1]+ margin\n",
    "    y_min_border = bary[1]- margin\n",
    "    return image[x_min_border:x_max_border,y_min_border:y_max_border]"
   ]
  },
  {
   "cell_type": "markdown",
   "metadata": {},
   "source": [
    "Redimensionnement des images"
   ]
  },
  {
   "cell_type": "code",
   "execution_count": 4,
   "metadata": {},
   "outputs": [
    {
     "ename": "NameError",
     "evalue": "name 'resize_3' is not defined",
     "output_type": "error",
     "traceback": [
      "\u001b[0;31m---------------------------------------------------------------------------\u001b[0m",
      "\u001b[0;31mNameError\u001b[0m                                 Traceback (most recent call last)",
      "\u001b[0;32m<ipython-input-4-56b92becb190>\u001b[0m in \u001b[0;36m<module>\u001b[0;34m()\u001b[0m\n\u001b[1;32m      5\u001b[0m         \u001b[0mimage_file_name\u001b[0m \u001b[0;34m=\u001b[0m \u001b[0;34m'data/'\u001b[0m \u001b[0;34m+\u001b[0m \u001b[0mletter_array\u001b[0m\u001b[0;34m[\u001b[0m\u001b[0mletter\u001b[0m\u001b[0;34m]\u001b[0m \u001b[0;34m+\u001b[0m \u001b[0mstr\u001b[0m\u001b[0;34m(\u001b[0m\u001b[0mi\u001b[0m\u001b[0;34m)\u001b[0m \u001b[0;34m+\u001b[0m \u001b[0;34m'.bmp'\u001b[0m\u001b[0;34m\u001b[0m\u001b[0m\n\u001b[1;32m      6\u001b[0m         \u001b[0mimage\u001b[0m \u001b[0;34m=\u001b[0m \u001b[0mimageio\u001b[0m\u001b[0;34m.\u001b[0m\u001b[0mimread\u001b[0m\u001b[0;34m(\u001b[0m\u001b[0mimage_file_name\u001b[0m\u001b[0;34m)\u001b[0m\u001b[0;34m\u001b[0m\u001b[0m\n\u001b[0;32m----> 7\u001b[0;31m         \u001b[0mimageio\u001b[0m\u001b[0;34m.\u001b[0m\u001b[0mimwrite\u001b[0m\u001b[0;34m(\u001b[0m\u001b[0;34m'data_resized/'\u001b[0m\u001b[0;34m+\u001b[0m\u001b[0mletter_array\u001b[0m\u001b[0;34m[\u001b[0m\u001b[0mletter\u001b[0m\u001b[0;34m]\u001b[0m \u001b[0;34m+\u001b[0m \u001b[0mstr\u001b[0m\u001b[0;34m(\u001b[0m\u001b[0mi\u001b[0m\u001b[0;34m)\u001b[0m \u001b[0;34m+\u001b[0m \u001b[0;34m'.bmp'\u001b[0m\u001b[0;34m,\u001b[0m \u001b[0mresize_3\u001b[0m\u001b[0;34m(\u001b[0m\u001b[0mimage\u001b[0m\u001b[0;34m)\u001b[0m\u001b[0;34m,\u001b[0m \u001b[0mformat\u001b[0m\u001b[0;34m=\u001b[0m\u001b[0;34m'bmp'\u001b[0m\u001b[0;34m)\u001b[0m\u001b[0;34m\u001b[0m\u001b[0m\n\u001b[0m\u001b[1;32m      8\u001b[0m         \u001b[0;32mwith\u001b[0m \u001b[0mopen\u001b[0m\u001b[0;34m(\u001b[0m\u001b[0;34m'data_resized/'\u001b[0m\u001b[0;34m+\u001b[0m\u001b[0mletter_array\u001b[0m\u001b[0;34m[\u001b[0m\u001b[0mletter\u001b[0m\u001b[0;34m]\u001b[0m \u001b[0;34m+\u001b[0m \u001b[0mstr\u001b[0m\u001b[0;34m(\u001b[0m\u001b[0mi\u001b[0m\u001b[0;34m)\u001b[0m \u001b[0;34m+\u001b[0m \u001b[0;34m'.bmp'\u001b[0m\u001b[0;34m,\u001b[0m \u001b[0;34m'r+b'\u001b[0m\u001b[0;34m)\u001b[0m \u001b[0;32mas\u001b[0m \u001b[0mf\u001b[0m\u001b[0;34m:\u001b[0m\u001b[0;34m\u001b[0m\u001b[0m\n\u001b[1;32m      9\u001b[0m             \u001b[0;32mwith\u001b[0m \u001b[0mImage\u001b[0m\u001b[0;34m.\u001b[0m\u001b[0mopen\u001b[0m\u001b[0;34m(\u001b[0m\u001b[0mf\u001b[0m\u001b[0;34m)\u001b[0m \u001b[0;32mas\u001b[0m \u001b[0mimage\u001b[0m\u001b[0;34m:\u001b[0m\u001b[0;34m\u001b[0m\u001b[0m\n",
      "\u001b[0;31mNameError\u001b[0m: name 'resize_3' is not defined"
     ]
    }
   ],
   "source": [
    "import imageio\n",
    "letter_array =['B','C','D','E','F','G','H','I','J','K'];\n",
    "for letter in range(0,10):\n",
    "    for i in range(1,251):\n",
    "        image_file_name = 'data/' + letter_array[letter] + str(i) + '.bmp'\n",
    "        image = imageio.imread(image_file_name)\n",
    "        imageio.imwrite('data_resized/'+letter_array[letter] + str(i) + '.bmp', resize_3(image), format='bmp')\n",
    "        with open('data_resized/'+letter_array[letter] + str(i) + '.bmp', 'r+b') as f:\n",
    "            with Image.open(f) as image:\n",
    "                cover = resizeimage.resize_cover(image, [12, 12])\n",
    "                cover.save('data_resized/'+letter_array[letter] + str(i) + '.bmp', image.format)"
   ]
  },
  {
   "cell_type": "code",
   "execution_count": 5,
   "metadata": {},
   "outputs": [
    {
     "name": "stdout",
     "output_type": "stream",
     "text": [
      "[[0 0 0 ... 0 0 0]\n",
      " [0 0 0 ... 0 0 0]\n",
      " [0 0 0 ... 0 0 0]\n",
      " ...\n",
      " [0 0 0 ... 0 0 0]\n",
      " [0 0 0 ... 0 0 0]\n",
      " [0 0 0 ... 0 0 0]]\n"
     ]
    },
    {
     "data": {
      "image/png": "[encoded data removed]",
      "text/plain": [
       "<Figure size 432x288 with 1 Axes>"
      ]
     },
     "metadata": {},
     "output_type": "display_data"
    }
   ],
   "source": [
    "\n",
    "\n",
    "import matplotlib.pyplot as plt\n",
    "import matplotlib.image as mpimg\n",
    "image_file_name = 'data/B201.bmp'\n",
    "image = imageio.imread(image_file_name)\n",
    "print(image)\n",
    "img=mpimg.imread('data/B201.bmp')\n",
    "imgplot2 = plt.imshow(img)\n",
    "plt.show()"
   ]
  }
 ],
 "metadata": {
  "kernelspec": {
   "display_name": "Python 3",
   "language": "python",
   "name": "python3"
  },
  "language_info": {
   "codemirror_mode": {
    "name": "ipython",
    "version": 3
   },
   "file_extension": ".py",
   "mimetype": "text/x-python",
   "name": "python",
   "nbconvert_exporter": "python",
   "pygments_lexer": "ipython3",
   "version": "3.6.5"
  }
 },
 "nbformat": 4,
 "nbformat_minor": 2
}
