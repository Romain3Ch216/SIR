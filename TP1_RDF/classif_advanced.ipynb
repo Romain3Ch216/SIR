{
 "cells": [
  {
   "cell_type": "code",
   "execution_count": 7,
   "metadata": {},
   "outputs": [],
   "source": [
    "import numpy as np\n",
    "import imageio\n",
    "\n",
    "def array_to_list(array):\n",
    "    L = []\n",
    "    for i in range(len(array)):\n",
    "        for j in range(len(array)):\n",
    "            L.append(array[i,j])\n",
    "    return L    \n",
    "\n",
    "letter_array =['B','C','D','E','F','G','H','I','J','K'];\n",
    "base_ref = []\n",
    "label_ref = []\n",
    "for letter in range(0,10):\n",
    "    for i in range(1,151):\n",
    "        image_file_name = 'data_resized/' + letter_array[letter] + str(i) + '.bmp'\n",
    "        image = imageio.imread(image_file_name)\n",
    "        list_img = array_to_list(image)\n",
    "        base_ref.append(list_img)\n",
    "        label_ref.append(letter_array[letter])\n",
    "label_ref = np.array([e for e in label_ref])       \n",
    "base_ref = np.array([l for l in base_ref])\n",
    "\n",
    "base_val = []\n",
    "label_val = []\n",
    "for letter in range(0,10):\n",
    "    for i in range(151,201):\n",
    "        image_file_name = 'data_resized/' + letter_array[letter] + str(i) + '.bmp'\n",
    "        image = imageio.imread(image_file_name)\n",
    "        list_img = array_to_list(image)\n",
    "        base_val.append(list_img)\n",
    "        label_val.append(letter_array[letter])\n",
    "        \n",
    "label_val = np.array([e for e in label_val])       \n",
    "base_val = np.array([l for l in base_val])\n",
    "\n",
    "base_test = []\n",
    "label_test = []\n",
    "for letter in range(0,10):\n",
    "    for i in range(201,251):\n",
    "        image_file_name = 'data_resized/' + letter_array[letter] + str(i) + '.bmp'\n",
    "        image = imageio.imread(image_file_name)\n",
    "        list_img = array_to_list(image)\n",
    "        base_test.append(list_img)\n",
    "        label_test.append(letter_array[letter])\n",
    "        \n",
    "label_test = np.array([e for e in label_test])       \n",
    "base_test = np.array([l for l in base_test])"
   ]
  },
  {
   "cell_type": "code",
   "execution_count": 8,
   "metadata": {},
   "outputs": [],
   "source": [
    "def base_moyenne(base):\n",
    "    res = []\n",
    "    classes = []\n",
    "    for i in range(10):\n",
    "        classe = []\n",
    "        avg = base_ref[i*150,:]\n",
    "        j = 0\n",
    "        while j < 150:\n",
    "            k = i*150 + j\n",
    "            j += 1\n",
    "            avg = [x + y for x, y in zip(avg, base_ref[k,:])]\n",
    "            classe.append(base_ref[k,:])\n",
    "        avg = [int(e/50) for e in avg]\n",
    "        res.append(avg)\n",
    "        classes.append(classe)\n",
    "    return (res,classes) "
   ]
  },
  {
   "cell_type": "code",
   "execution_count": 9,
   "metadata": {},
   "outputs": [],
   "source": [
    "def iv(k):\n",
    "    cov_matrix = np.cov(np.transpose(base_moyenne(base_ref)[1][k]))\n",
    "    diag = np.array([0.01]*144)\n",
    "    diag = np.diag(diag)\n",
    "    cov_matrix = cov_matrix + diag\n",
    "    iv = np.linalg.inv(cov_matrix)\n",
    "    return iv"
   ]
  },
  {
   "cell_type": "code",
   "execution_count": 4,
   "metadata": {},
   "outputs": [],
   "source": [
    "from scipy.spatial import distance\n",
    "\n",
    "def test_ppv(base_ref,label_ref,image,iv_array):\n",
    "    dist_image_ref = []\n",
    "    for i in range(len(base_ref)):\n",
    "        dist = np.linalg.norm(image - base_ref[i])\n",
    "        dist_image_ref.append(dist)\n",
    "    i = np.argmin(dist_image_ref)\n",
    "    class_min_dist = label_ref[i]\n",
    "    return class_min_dist"
   ]
  },
  {
   "cell_type": "code",
   "execution_count": 10,
   "metadata": {},
   "outputs": [],
   "source": [
    "#mahalanobis\n",
    "from scipy.spatial import distance\n",
    "\n",
    "def test_ppv(base_ref,label_ref,image,iv_array):\n",
    "    dist_image_ref = []\n",
    "    for i in range(len(base_ref)):\n",
    "        dist = distance.mahalanobis(image,base_ref[i],iv_array[i])\n",
    "        dist_image_ref.append(dist)\n",
    "    i = np.argmin(dist_image_ref)\n",
    "    class_min_dist = label_ref[i]\n",
    "    return class_min_dist"
   ]
  },
  {
   "cell_type": "code",
   "execution_count": 11,
   "metadata": {},
   "outputs": [],
   "source": [
    "def label_pred(base,base_ref,label_ref):\n",
    "    label_pred = []\n",
    "    iv_array = [iv(i) for i in range(0,10)]\n",
    "    for i in range(len(base)):\n",
    "        pred = test_ppv(base_ref,label_ref,base[i,:],iv_array)\n",
    "        label_pred.append(pred)\n",
    "    return label_pred"
   ]
  },
  {
   "cell_type": "code",
   "execution_count": 12,
   "metadata": {},
   "outputs": [
    {
     "name": "stderr",
     "output_type": "stream",
     "text": [
      "/home/thoreau/anaconda3/lib/python3.6/site-packages/ipykernel_launcher.py:11: RuntimeWarning: overflow encountered in ubyte_scalars\n",
      "  # This is added back by InteractiveShellApp.init_path()\n"
     ]
    },
    {
     "name": "stdout",
     "output_type": "stream",
     "text": [
      "[[28  0 12  1  0  3  1  0  1  4]\n",
      " [ 0 35  1  5  0  8  1  0  0  0]\n",
      " [10  0 35  0  0  3  1  0  1  0]\n",
      " [ 1  3  0 38  0  5  0  0  0  3]\n",
      " [ 1  0  0 11 31  1  0  0  1  5]\n",
      " [ 1  0  0  2  1 45  0  0  0  1]\n",
      " [ 1  0  3  0  0  2 35  0  1  8]\n",
      " [ 3  0  2  3  1  1  1 23 11  5]\n",
      " [ 0  0  1  1  0  1  1  0 45  1]\n",
      " [ 0  0  0  1  0  1  0  0  0 48]]\n"
     ]
    }
   ],
   "source": [
    "from sklearn.neighbors import KNeighborsClassifier\n",
    "from sklearn.metrics import classification_report, confusion_matrix\n",
    "\n",
    "label_red = np.array(letter_array)\n",
    "base_red = base_moyenne(base_ref)[0]\n",
    "\n",
    "print(confusion_matrix(label_test, label_pred(base_test,base_red,label_red)))"
   ]
  }
 ],
 "metadata": {
  "kernelspec": {
   "display_name": "Python 3",
   "language": "python",
   "name": "python3"
  },
  "language_info": {
   "codemirror_mode": {
    "name": "ipython",
    "version": 3
   },
   "file_extension": ".py",
   "mimetype": "text/x-python",
   "name": "python",
   "nbconvert_exporter": "python",
   "pygments_lexer": "ipython3",
   "version": "3.6.5"
  }
 },
 "nbformat": 4,
 "nbformat_minor": 2
}
