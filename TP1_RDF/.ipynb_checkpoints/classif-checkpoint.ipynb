{
 "cells": [
  {
   "cell_type": "markdown",
   "metadata": {},
   "source": [
    "# Classification"
   ]
  },
  {
   "cell_type": "markdown",
   "metadata": {},
   "source": [
    "Création des sets et labels de référence, de validation et de test"
   ]
  },
  {
   "cell_type": "code",
   "execution_count": 1,
   "metadata": {},
   "outputs": [],
   "source": [
    "import numpy as np\n",
    "import imageio\n",
    "import matplotlib.pyplot as plt"
   ]
  },
  {
   "cell_type": "code",
   "execution_count": 2,
   "metadata": {},
   "outputs": [],
   "source": [
    "#%qtconsole"
   ]
  },
  {
   "cell_type": "code",
   "execution_count": 3,
   "metadata": {},
   "outputs": [
    {
     "data": {
      "image/png": "[encoded data removed]",
      "text/plain": [
       "<Figure size 432x288 with 1 Axes>"
      ]
     },
     "metadata": {
      "needs_background": "light"
     },
     "output_type": "display_data"
    }
   ],
   "source": [
    "image_file_name_1 = 'data_resized/B1.bmp'\n",
    "image_1 = imageio.imread(image_file_name_1)/255\n",
    "plt.imshow(image_1)\n",
    "plt.show()"
   ]
  },
  {
   "cell_type": "code",
   "execution_count": 4,
   "metadata": {},
   "outputs": [],
   "source": [
    "def array_to_list(array):\n",
    "    L = []\n",
    "    (l,k) = np.shape(array)\n",
    "    for i in range(l):\n",
    "        for j in range(k):\n",
    "            L.append(array[i,j])\n",
    "    return L    \n",
    "\n",
    "letter_array =['B','C','D','E','F','G','H','I','J','K'];\n",
    "base_ref = []\n",
    "label_ref = []\n",
    "for letter in range(0,10):\n",
    "    for i in range(1,151):\n",
    "        image_file_name = 'data_resized/' + letter_array[letter] + str(i) + '.bmp'\n",
    "        image = imageio.imread(image_file_name)/255\n",
    "        list_img = array_to_list(image)\n",
    "        base_ref.append(list_img)\n",
    "        label_ref.append(letter_array[letter])\n",
    "label_ref = np.array([e for e in label_ref])       \n",
    "base_ref = np.array([l for l in base_ref])\n",
    "\n",
    "base_val = []\n",
    "label_val = []\n",
    "for letter in range(0,10):\n",
    "    for i in range(151,201):\n",
    "        image_file_name = 'data_resized/' + letter_array[letter] + str(i) + '.bmp'\n",
    "        image = imageio.imread(image_file_name)/255\n",
    "        list_img = array_to_list(image)\n",
    "        base_val.append(list_img)\n",
    "        label_val.append(letter_array[letter])\n",
    "        \n",
    "label_val = np.array([e for e in label_val])       \n",
    "base_val = np.array([l for l in base_val])\n",
    "\n",
    "base_test = []\n",
    "label_test = []\n",
    "for letter in range(0,10):\n",
    "    for i in range(201,251):\n",
    "        image_file_name = 'data_resized/' + letter_array[letter] + str(i) + '.bmp'\n",
    "        image = imageio.imread(image_file_name)/255\n",
    "        list_img = array_to_list(image)\n",
    "        base_test.append(list_img)\n",
    "        label_test.append(letter_array[letter])\n",
    "        \n",
    "label_test = np.array([e for e in label_test])       \n",
    "base_test = np.array([l for l in base_test])"
   ]
  },
  {
   "cell_type": "markdown",
   "metadata": {},
   "source": [
    "Méthode des k plus proches voisins"
   ]
  },
  {
   "cell_type": "code",
   "execution_count": 5,
   "metadata": {},
   "outputs": [],
   "source": [
    "def test_ppv(base_ref,label_ref,image,k):\n",
    "    dist_image_ref = []\n",
    "    for i in range(len(base_ref)):\n",
    "        dist = np.linalg.norm(image - base_ref[i,:])\n",
    "        dist_image_ref.append(dist)\n",
    "    index_min_dist = np.argpartition(dist_image_ref,k)[0:k]\n",
    "    class_min_dist = [label_ref[i] for i in index_min_dist]\n",
    "    return class_min_dist"
   ]
  },
  {
   "cell_type": "code",
   "execution_count": 6,
   "metadata": {},
   "outputs": [],
   "source": [
    "from collections import Counter\n",
    "\n",
    "def class_maj(classes_list):\n",
    "    c = Counter(classes_list)\n",
    "    if len(c)>1:\n",
    "        classes = c.most_common(2)\n",
    "        if classes[0][1] == classes[1][1]:\n",
    "            return -1\n",
    "        return c.most_common(1)[0][0]\n",
    "    else:\n",
    "        return c.most_common(1)[0][0]"
   ]
  },
  {
   "cell_type": "code",
   "execution_count": 7,
   "metadata": {},
   "outputs": [],
   "source": [
    "def matrice_confusion(base,label,k):\n",
    "    conf_array = np.zeros((10,11),int)\n",
    "    for i in range(len(base)):\n",
    "        pred = class_maj(test_ppv(base_ref,label_ref,base[i,:],k))\n",
    "        if pred == -1:\n",
    "            conf_array[letter_array.index(label[i]),-1] +=1\n",
    "        else:\n",
    "            conf_array[letter_array.index(label[i]),letter_array.index(pred)] += 1\n",
    "    return conf_array"
   ]
  },
  {
   "cell_type": "code",
   "execution_count": 8,
   "metadata": {},
   "outputs": [],
   "source": [
    "def label_pred(base,label,k):\n",
    "    label_pred = []\n",
    "    test = []\n",
    "    for i in range(len(base)):\n",
    "        pred = class_maj(test_ppv(base_ref,label_ref,base[i,:],k))\n",
    "        label_pred.append(pred)\n",
    "    return label_pred"
   ]
  },
  {
   "cell_type": "code",
   "execution_count": 9,
   "metadata": {},
   "outputs": [],
   "source": [
    "def accuracy(M):\n",
    "    if len(M)==10:\n",
    "        letter_array =np.array(['B','C','D','E','F','G','H','I','J','K'])\n",
    "    else:\n",
    "        letter_array =np.array(['Nan','B','C','D','E','F','G','H','I','J','K'])\n",
    "    letter_array = np.reshape(letter_array,(len(M),1))\n",
    "    acc = np.zeros((len(M),1))       \n",
    "    for i in range(len(M)):\n",
    "        acc[i,0] = round(M[i,i]/50,2)\n",
    "    res = np.concatenate((letter_array,acc),axis=1)\n",
    "    print(res)\n",
    "    return np.mean(acc)"
   ]
  },
  {
   "cell_type": "code",
   "execution_count": 10,
   "metadata": {},
   "outputs": [],
   "source": [
    "#print(matrice_confusion(base_test,label_test,1))"
   ]
  },
  {
   "cell_type": "code",
   "execution_count": 11,
   "metadata": {},
   "outputs": [
    {
     "name": "stdout",
     "output_type": "stream",
     "text": [
      "[[ 0  0  0  0  0  0  0  0  0  0  0]\n",
      " [ 5 39  0  2  0  0  3  1  0  0  0]\n",
      " [ 2  0 45  0  2  0  1  0  0  0  0]\n",
      " [ 5  1  0 40  0  0  2  1  0  0  1]\n",
      " [ 7  0  5  0 38  0  0  0  0  0  0]\n",
      " [ 3  0  0  0  1 44  0  0  0  0  2]\n",
      " [ 2  1  2  0  0  0 44  1  0  0  0]\n",
      " [ 3  3  0  0  0  0  0 42  0  0  2]\n",
      " [ 2  0  0  0  0  3  0  0 41  4  0]\n",
      " [ 0  0  0  0  0  0  1  0  3 45  1]\n",
      " [ 3  0  0  0  0  0  0  4  0  0 43]]\n",
      "[['Nan' '0.0']\n",
      " ['B' '0.78']\n",
      " ['C' '0.9']\n",
      " ['D' '0.8']\n",
      " ['E' '0.76']\n",
      " ['F' '0.88']\n",
      " ['G' '0.88']\n",
      " ['H' '0.84']\n",
      " ['I' '0.82']\n",
      " ['J' '0.9']\n",
      " ['K' '0.86']]\n"
     ]
    },
    {
     "data": {
      "text/plain": [
       "0.7654545454545456"
      ]
     },
     "execution_count": 11,
     "metadata": {},
     "output_type": "execute_result"
    }
   ],
   "source": [
    "from sklearn.metrics import confusion_matrix\n",
    "M_confusion = confusion_matrix(label_test, label_pred(base_test,label_test,4))\n",
    "print(M_confusion)\n",
    "accuracy(M_confusion)"
   ]
  },
  {
   "cell_type": "code",
   "execution_count": 12,
   "metadata": {},
   "outputs": [
    {
     "name": "stdout",
     "output_type": "stream",
     "text": [
      "[[42  1  3  0  0  3  1  0  0  0]\n",
      " [ 0 47  0  2  0  1  0  0  0  0]\n",
      " [ 5  0 41  0  0  2  1  0  0  1]\n",
      " [ 2 10  0 38  0  0  0  0  0  0]\n",
      " [ 0  0  0  3 45  0  0  0  0  2]\n",
      " [ 1  3  0  1  0 44  1  0  0  0]\n",
      " [ 5  0  0  0  0  0 43  0  0  2]\n",
      " [ 0  1  0  0  3  0  0 42  4  0]\n",
      " [ 0  0  0  0  0  1  0  3 45  1]\n",
      " [ 0  0  0  1  0  0  6  0  0 43]]\n",
      "[['B' '0.84']\n",
      " ['C' '0.94']\n",
      " ['D' '0.82']\n",
      " ['E' '0.76']\n",
      " ['F' '0.9']\n",
      " ['G' '0.88']\n",
      " ['H' '0.86']\n",
      " ['I' '0.84']\n",
      " ['J' '0.9']\n",
      " ['K' '0.86']]\n",
      "0.86\n"
     ]
    }
   ],
   "source": [
    "from sklearn.neighbors import KNeighborsClassifier\n",
    "from sklearn.metrics import classification_report, confusion_matrix\n",
    "\n",
    "classifier = KNeighborsClassifier(n_neighbors=4,algorithm='brute')\n",
    "classifier.fit(base_ref, label_ref)\n",
    "label_pred = classifier.predict(base_test)\n",
    "M_confusion = confusion_matrix(label_test, label_pred)\n",
    "print(M_confusion)\n",
    "print(accuracy(M_confusion))"
   ]
  }
 ],
 "metadata": {
  "kernelspec": {
   "display_name": "Python 3",
   "language": "python",
   "name": "python3"
  },
  "language_info": {
   "codemirror_mode": {
    "name": "ipython",
    "version": 3
   },
   "file_extension": ".py",
   "mimetype": "text/x-python",
   "name": "python",
   "nbconvert_exporter": "python",
   "pygments_lexer": "ipython3",
   "version": "3.7.4"
  }
 },
 "nbformat": 4,
 "nbformat_minor": 2
}
