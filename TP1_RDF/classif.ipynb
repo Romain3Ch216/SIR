{
 "cells": [
  {
   "cell_type": "markdown",
   "metadata": {},
   "source": [
    "# Classification"
   ]
  },
  {
   "cell_type": "markdown",
   "metadata": {},
   "source": [
    "Création des sets et labels de référence, de validation et de test"
   ]
  },
  {
   "cell_type": "code",
   "execution_count": 5,
   "metadata": {},
   "outputs": [
    {
     "name": "stdout",
     "output_type": "stream",
     "text": [
      "(500, 144)\n"
     ]
    }
   ],
   "source": [
    "import numpy as np\n",
    "import imageio\n",
    "\n",
    "def array_to_list(array):\n",
    "    L = []\n",
    "    (l,k) = np.shape(array)\n",
    "    for i in range(l):\n",
    "        for j in range(k):\n",
    "            L.append(array[i,j])\n",
    "    return L    \n",
    "\n",
    "letter_array =['B','C','D','E','F','G','H','I','J','K'];\n",
    "base_ref = []\n",
    "label_ref = []\n",
    "for letter in range(0,10):\n",
    "    for i in range(1,151):\n",
    "        image_file_name = 'data_resized/' + letter_array[letter] + str(i) + '.bmp'\n",
    "        image = imageio.imread(image_file_name)\n",
    "        list_img = array_to_list(image)\n",
    "        base_ref.append(list_img)\n",
    "        label_ref.append(letter_array[letter])\n",
    "label_ref = np.array([e for e in label_ref])       \n",
    "base_ref = np.array([l for l in base_ref])\n",
    "\n",
    "base_val = []\n",
    "label_val = []\n",
    "for letter in range(0,10):\n",
    "    for i in range(151,201):\n",
    "        image_file_name = 'data_resized/' + letter_array[letter] + str(i) + '.bmp'\n",
    "        image = imageio.imread(image_file_name)\n",
    "        list_img = array_to_list(image)\n",
    "        base_val.append(list_img)\n",
    "        label_val.append(letter_array[letter])\n",
    "        \n",
    "label_val = np.array([e for e in label_val])       \n",
    "base_val = np.array([l for l in base_val])\n",
    "\n",
    "base_test = []\n",
    "label_test = []\n",
    "for letter in range(0,10):\n",
    "    for i in range(201,251):\n",
    "        image_file_name = 'data_resized/' + letter_array[letter] + str(i) + '.bmp'\n",
    "        image = imageio.imread(image_file_name)\n",
    "        list_img = array_to_list(image)\n",
    "        base_test.append(list_img)\n",
    "        label_test.append(letter_array[letter])\n",
    "        \n",
    "label_test = np.array([e for e in label_test])       \n",
    "base_test = np.array([l for l in base_test])"
   ]
  },
  {
   "cell_type": "markdown",
   "metadata": {},
   "source": [
    "Méthode des k plus proches voisins"
   ]
  },
  {
   "cell_type": "code",
   "execution_count": 3,
   "metadata": {},
   "outputs": [],
   "source": [
    "def test_ppv(base_ref,label_ref,image,k):\n",
    "    dist_image_ref = []\n",
    "    for i in range(len(base_ref)):\n",
    "        dist = np.linalg.norm(image - base_ref[i,:])\n",
    "        dist_image_ref.append(dist)\n",
    "    index_min_dist = np.argpartition(dist_image_ref,k)[0:k]\n",
    "    class_min_dist = [label_ref[i] for i in index_min_dist]\n",
    "    return class_min_dist"
   ]
  },
  {
   "cell_type": "code",
   "execution_count": 4,
   "metadata": {},
   "outputs": [],
   "source": [
    "from collections import Counter\n",
    "\n",
    "def class_maj(classes_list):\n",
    "    c = Counter(classes_list)\n",
    "    if len(c)>1:\n",
    "        classes = c.most_common(2)\n",
    "        if classes[0][1] == classes[1][1]:\n",
    "            return -1\n",
    "        return c.most_common(1)[0][0]\n",
    "    else:\n",
    "        return c.most_common(1)[0][0]"
   ]
  },
  {
   "cell_type": "code",
   "execution_count": 5,
   "metadata": {},
   "outputs": [],
   "source": [
    "def matrice_confusion(base,label,k):\n",
    "    conf_array = np.zeros((10,11),int)\n",
    "    for i in range(len(base)):\n",
    "        pred = class_maj(test_ppv(base_ref,label_ref,base[i,:],k))\n",
    "        if pred == -1:\n",
    "            conf_array[letter_array.index(label[i]),-1] +=1\n",
    "        else:\n",
    "            conf_array[letter_array.index(label[i]),letter_array.index(pred)] += 1\n",
    "    return conf_array"
   ]
  },
  {
   "cell_type": "code",
   "execution_count": 6,
   "metadata": {},
   "outputs": [],
   "source": [
    "def label_pred(base,label,k):\n",
    "    label_pred = []\n",
    "    test = []\n",
    "    for i in range(len(base)):\n",
    "        pred = class_maj(test_ppv(base_ref,label_ref,base[i,:],k))\n",
    "        label_pred.append(pred)\n",
    "    return label_pred"
   ]
  },
  {
   "cell_type": "code",
   "execution_count": 15,
   "metadata": {},
   "outputs": [
    {
     "name": "stdout",
     "output_type": "stream",
     "text": [
      "[[14  0  3  2  0  3  8 19  0  1  0]\n",
      " [ 0  0  0  0  0  0  0  0  0  0  0]\n",
      " [ 0  0  0  0  0  0  0  0  0  0  0]\n",
      " [ 0  0  0  0  0  0  0  0  0  0  0]\n",
      " [ 0  0  0  0  0  0  0  0  0  0  0]\n",
      " [ 0  0  0  0  0  0  0  0  0  0  0]\n",
      " [ 0  0  0  0  0  0  0  0  0  0  0]\n",
      " [ 0  0  0  0  0  0  0  0  0  0  0]\n",
      " [ 0  0  0  0  0  0  0  0  0  0  0]\n",
      " [ 0  0  0  0  0  0  0  0  0  0  0]]\n"
     ]
    }
   ],
   "source": [
    "print(matrice_confusion(base_test[0:50],label_test[0:50],1))"
   ]
  },
  {
   "cell_type": "code",
   "execution_count": 13,
   "metadata": {},
   "outputs": [
    {
     "name": "stdout",
     "output_type": "stream",
     "text": [
      "[[14  0  3  2  0  3  8 19  0  1]\n",
      " [ 3 29  0  1  5  2  0 10  0  0]\n",
      " [ 7  0 16  0  8  2  4 12  0  1]\n",
      " [ 0  2  0  8  5  0  0 35  0  0]\n",
      " [ 0  2  3  8 13  0  0 24  0  0]\n",
      " [ 2  1  1  1  1 15  1 27  0  1]\n",
      " [ 1  1  3  1  5  1 34  4  0  0]\n",
      " [ 0  0  0  2  1  0  0 47  0  0]\n",
      " [ 0  1  0  2 11  0  0 31  5  0]\n",
      " [ 1  2  2  6  4  0  2 27  0  6]]\n"
     ]
    }
   ],
   "source": [
    "from sklearn.neighbors import KNeighborsClassifier\n",
    "from sklearn.metrics import classification_report, confusion_matrix\n",
    "print(confusion_matrix(label_test, label_pred(base_test,label_test,1)))"
   ]
  },
  {
   "cell_type": "code",
   "execution_count": 12,
   "metadata": {},
   "outputs": [
    {
     "name": "stdout",
     "output_type": "stream",
     "text": [
      "[[44  0  3  0  0  3  0  0  0  0]\n",
      " [ 0 48  0  1  0  1  0  0  0  0]\n",
      " [ 5  0 42  0  0  1  2  0  0  0]\n",
      " [ 0 10  0 39  1  0  0  0  0  0]\n",
      " [ 0  1  0  2 47  0  0  0  0  0]\n",
      " [ 3  3  0  2  0 42  0  0  0  0]\n",
      " [ 5  0  0  0  0  0 44  0  0  1]\n",
      " [ 0  0  0  2  1  0  0 43  4  0]\n",
      " [ 0  0  0  0  1  1  0  6 41  1]\n",
      " [ 0  1  0  0  1  0 10  0  0 38]]\n",
      "             precision    recall  f1-score   support\n",
      "\n",
      "          B       0.77      0.88      0.82        50\n",
      "          C       0.76      0.96      0.85        50\n",
      "          D       0.93      0.84      0.88        50\n",
      "          E       0.85      0.78      0.81        50\n",
      "          F       0.92      0.94      0.93        50\n",
      "          G       0.88      0.84      0.86        50\n",
      "          H       0.79      0.88      0.83        50\n",
      "          I       0.88      0.86      0.87        50\n",
      "          J       0.91      0.82      0.86        50\n",
      "          K       0.95      0.76      0.84        50\n",
      "\n",
      "avg / total       0.86      0.86      0.86       500\n",
      "\n"
     ]
    }
   ],
   "source": [
    "from sklearn.neighbors import KNeighborsClassifier\n",
    "from sklearn.metrics import classification_report, confusion_matrix\n",
    "\n",
    "classifier = KNeighborsClassifier(n_neighbors=2,algorithm='brute')\n",
    "classifier.fit(base_ref, label_ref)\n",
    "label_pred = classifier.predict(base_test)\n",
    "print(confusion_matrix(label_test, label_pred))\n",
    "print(classification_report(label_test, label_pred))"
   ]
  }
 ],
 "metadata": {
  "kernelspec": {
   "display_name": "Python 3",
   "language": "python",
   "name": "python3"
  },
  "language_info": {
   "codemirror_mode": {
    "name": "ipython",
    "version": 3
   },
   "file_extension": ".py",
   "mimetype": "text/x-python",
   "name": "python",
   "nbconvert_exporter": "python",
   "pygments_lexer": "ipython3",
   "version": "3.6.5"
  }
 },
 "nbformat": 4,
 "nbformat_minor": 2
}
