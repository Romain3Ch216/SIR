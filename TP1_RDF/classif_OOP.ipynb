{
 "cells": [
  {
   "cell_type": "code",
   "execution_count": 77,
   "metadata": {},
   "outputs": [],
   "source": [
    "class Letter:\n",
    "    def __init__(self, path):\n",
    "        self.path = path\n",
    "        self.image = mpimg.imread(path)\n",
    "        \n",
    "    def vector(self):\n",
    "        L = []\n",
    "        (n,p) = np.shape(self.image)\n",
    "        for i in range(n):\n",
    "            for j in range(p):\n",
    "                L.append(self.image[i,j])\n",
    "        return L\n",
    "    \n",
    "    def letter_border(self):\n",
    "        image =self.image\n",
    "        (x_lenght, y_lenght) = image.shape\n",
    "        x_min = x_lenght\n",
    "        x_max = 0\n",
    "        y_min = y_lenght\n",
    "        y_max = 0\n",
    "        for i in range(x_lenght):\n",
    "            for j in range(y_lenght):\n",
    "                if image[i,j]!=0:\n",
    "                    if i < x_min:\n",
    "                        x_min = i\n",
    "                    if i > x_max:\n",
    "                        x_max = i\n",
    "                    if j < y_min:\n",
    "                        y_min = j\n",
    "                    if j > y_max:\n",
    "                        y_max = j\n",
    "        return (x_lenght,y_lenght,x_min,x_max,y_min,y_max)\n",
    "    \n",
    "    def barycentre(self):\n",
    "        image = self.image\n",
    "        x_lenght,y_lenght,x_min,x_max,y_min,y_max = self.letter_border()\n",
    "        x_pos, y_pos = [], []\n",
    "        for i in range(x_lenght):\n",
    "            for j in range(y_lenght):\n",
    "                if image[i,j]!=0:\n",
    "                    x_pos.append(i)\n",
    "                    y_pos.append(j)\n",
    "        aire = len(x_pos)\n",
    "        M10 = sum(x_pos)\n",
    "        M01 = sum(y_pos)\n",
    "        bary = [int(M10/aire),int(M01/aire)]\n",
    "\n",
    "        dist_bary_x = max(abs(x_min-bary[0]),abs(x_max-bary[0]))\n",
    "        dist_bary_y = max(abs(y_min-bary[1]),abs(y_max-bary[1]))\n",
    "\n",
    "        return (bary,dist_bary_x,dist_bary_y)\n",
    "    \n",
    "    def resized(self):\n",
    "        image = self.image\n",
    "        bary,dist_bary_x,dist_bary_y = self.barycentre()\n",
    "        margin = max(dist_bary_x,dist_bary_y) + 5\n",
    "        x_min_border = bary[0]- margin\n",
    "        x_max_border = bary[0]+ margin\n",
    "        y_max_border = bary[1]+ margin\n",
    "        y_min_border = bary[1]- margin\n",
    "        return image[x_min_border:x_max_border,y_min_border:y_max_border]\n"
   ]
  },
  {
   "cell_type": "code",
   "execution_count": 79,
   "metadata": {},
   "outputs": [
    {
     "ename": "AttributeError",
     "evalue": "'numpy.ndarray' object has no attribute 'save'",
     "output_type": "error",
     "traceback": [
      "\u001b[0;31m---------------------------------------------------------------------------\u001b[0m",
      "\u001b[0;31mAttributeError\u001b[0m                            Traceback (most recent call last)",
      "\u001b[0;32m<ipython-input-79-70d8317fbb24>\u001b[0m in \u001b[0;36m<module>\u001b[0;34m()\u001b[0m\n\u001b[1;32m      5\u001b[0m         \u001b[0mpath\u001b[0m \u001b[0;34m=\u001b[0m \u001b[0;34m'data/'\u001b[0m \u001b[0;34m+\u001b[0m \u001b[0mletter_array\u001b[0m\u001b[0;34m[\u001b[0m\u001b[0mletter\u001b[0m\u001b[0;34m]\u001b[0m \u001b[0;34m+\u001b[0m \u001b[0mstr\u001b[0m\u001b[0;34m(\u001b[0m\u001b[0mi\u001b[0m\u001b[0;34m)\u001b[0m \u001b[0;34m+\u001b[0m \u001b[0;34m'.bmp'\u001b[0m\u001b[0;34m\u001b[0m\u001b[0m\n\u001b[1;32m      6\u001b[0m         \u001b[0mletter\u001b[0m \u001b[0;34m=\u001b[0m \u001b[0mLetter\u001b[0m\u001b[0;34m(\u001b[0m\u001b[0mpath\u001b[0m\u001b[0;34m)\u001b[0m\u001b[0;34m\u001b[0m\u001b[0m\n\u001b[0;32m----> 7\u001b[0;31m         \u001b[0mletter\u001b[0m\u001b[0;34m.\u001b[0m\u001b[0mresized\u001b[0m\u001b[0;34m(\u001b[0m\u001b[0;34m)\u001b[0m\u001b[0;34m.\u001b[0m\u001b[0msave\u001b[0m\u001b[0;34m(\u001b[0m\u001b[0;34m'test'\u001b[0m\u001b[0;34m+\u001b[0m \u001b[0mletter_array\u001b[0m\u001b[0;34m[\u001b[0m\u001b[0mletter\u001b[0m\u001b[0;34m]\u001b[0m \u001b[0;34m+\u001b[0m \u001b[0mstr\u001b[0m\u001b[0;34m(\u001b[0m\u001b[0mi\u001b[0m\u001b[0;34m)\u001b[0m \u001b[0;34m+\u001b[0m \u001b[0;34m'.bmp'\u001b[0m\u001b[0;34m,\u001b[0m \u001b[0;34m'bmp'\u001b[0m\u001b[0;34m)\u001b[0m\u001b[0;34m\u001b[0m\u001b[0m\n\u001b[0m",
      "\u001b[0;31mAttributeError\u001b[0m: 'numpy.ndarray' object has no attribute 'save'"
     ]
    }
   ],
   "source": [
    "letter_array = ['B','C','D','E','F','G','H','I','J','K']\n",
    "\n",
    "for letter in range(0,10):\n",
    "    for i in range(1,251):\n",
    "        path = 'data/' + letter_array[letter] + str(i) + '.bmp'\n",
    "        letter = Letter(path)\n",
    "        image = Image.open(\n",
    "        letter.resized().save('test'+ letter_array[letter] + str(i) + '.bmp', 'bmp')"
   ]
  },
  {
   "cell_type": "code",
   "execution_count": 78,
   "metadata": {},
   "outputs": [
    {
     "data": {
      "image/png": "[encoded data removed]",
      "text/plain": [
       "<Figure size 432x288 with 1 Axes>"
      ]
     },
     "metadata": {},
     "output_type": "display_data"
    },
    {
     "data": {
      "image/png": "[encoded data removed]",
      "text/plain": [
       "<Figure size 432x288 with 1 Axes>"
      ]
     },
     "metadata": {},
     "output_type": "display_data"
    },
    {
     "data": {
      "image/png": "[encoded data removed]",
      "text/plain": [
       "<Figure size 432x288 with 1 Axes>"
      ]
     },
     "metadata": {},
     "output_type": "display_data"
    }
   ],
   "source": [
    "import matplotlib.pyplot as plt\n",
    "import matplotlib.image as mpimg\n",
    "import numpy as np\n",
    "\n",
    "image_1 = Letter('data/B1.bmp')\n",
    "\n",
    "from PIL import Image\n",
    "\n",
    "img = Image.open('data_resized/B1.bmp')\n",
    "img.thumbnail((64, 64), Image.ANTIALIAS)  # resizes image in-place\n",
    "imgplot = plt.imshow(img)\n",
    "plt.show()\n",
    "plt.imshow(image_1.image)\n",
    "plt.show()\n",
    "plt.imshow(image_1.resized())\n",
    "plt.show()"
   ]
  }
 ],
 "metadata": {
  "kernelspec": {
   "display_name": "Python 3",
   "language": "python",
   "name": "python3"
  },
  "language_info": {
   "codemirror_mode": {
    "name": "ipython",
    "version": 3
   },
   "file_extension": ".py",
   "mimetype": "text/x-python",
   "name": "python",
   "nbconvert_exporter": "python",
   "pygments_lexer": "ipython3",
   "version": "3.6.5"
  }
 },
 "nbformat": 4,
 "nbformat_minor": 2
}
